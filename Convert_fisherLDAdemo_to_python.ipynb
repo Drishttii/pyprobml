{
  "nbformat": 4,
  "nbformat_minor": 0,
  "metadata": {
    "colab": {
      "name": "Tensorflow_outreachy.ipynb",
      "provenance": [],
      "toc_visible": true
    },
    "kernelspec": {
      "name": "python3",
      "display_name": "Python 3"
    },
    "language_info": {
      "name": "python"
    }
  },
  "cells": [
    {
      "cell_type": "code",
      "metadata": {
        "id": "X7UMokuK_tt9"
      },
      "source": [
        "!git clone https://github.com/probml/pyprobml /pyprobml &> /dev/null\n",
        "%cd -q /pyprobml/scripts\n",
        "import pyprobml_utils as pml\n",
        "import numpy as np\n",
        "import matplotlib.pyplot as plt"
      ],
      "execution_count": 1,
      "outputs": []
    },
    {
      "cell_type": "code",
      "metadata": {
        "id": "qdAtQ8INtEkC"
      },
      "source": [
        "from __future__ import print_function\n",
        "import matplotlib as mpl\n",
        "import matplotlib.pyplot as plt \n",
        "from sklearn.discriminant_analysis import LinearDiscriminantAnalysis\n",
        "from sklearn.decomposition import PCA\n",
        "from scipy import linalg\n",
        "from numpy import array\n",
        "from numpy import mean\n",
        "from numpy import cov\n",
        "from numpy.linalg import eig\n",
        "import numpy as np"
      ],
      "execution_count": 2,
      "outputs": []
    },
    {
      "cell_type": "markdown",
      "metadata": {
        "id": "0-wwwsV2LwTs"
      },
      "source": [
        "##FischerLDA\n",
        "It is done in 2 ways:\n",
        "\n",
        "a) Using sklearn.discriminant \n",
        "\n",
        "b) According to the book"
      ]
    },
    {
      "cell_type": "code",
      "metadata": {
        "id": "3jXXXePuZsf3"
      },
      "source": [
        "# Dataset according to matlab code:\n",
        "\n",
        "n = 100 \n",
        "a = np.random.multivariate_normal((1, 3), [[4.0, 0.01], [0.01, 0.1]], n)\n",
        "b = np.random.multivariate_normal((3, 1), [[4.0, 0.01], [0.01, 0.1]], n)\n",
        "\n",
        "X = np.vstack((a, b))\n",
        "\n",
        "Y = np.hstack((np.zeros(n), np.ones(n)))\n",
        "\n",
        "mu_a, mu_b = a.mean(axis=0).reshape(-1,1), b.mean(axis=0).reshape(-1,1)\n",
        "\n",
        "xmax = np.max(X[:, 0])\n",
        "xmin = np.min(X[:, 0])\n",
        "ymax = np.max(X[:, 1]) \n",
        "ymin = np.min(X[:, 1])"
      ],
      "execution_count": 3,
      "outputs": []
    },
    {
      "cell_type": "code",
      "metadata": {
        "colab": {
          "base_uri": "https://localhost:8080/",
          "height": 314
        },
        "id": "5Zx_p4SxJ1zc",
        "outputId": "9693dcf1-742b-4a5a-80cf-5142dd1c2365"
      },
      "source": [
        "plt.plot(a[:,0], a[:,1], 'b.', b[:,0], b[:,1], 'r+')\n",
        "plt.plot(mu_a, mu_b, 'black')\n",
        "plt.legend(['Male', 'Female', 'Means'])\n",
        "pml.save_fig(\"../figures/data.pdf\")\n",
        "plt.show()\n",
        "#plt.savefig('data.png')"
      ],
      "execution_count": 4,
      "outputs": [
        {
          "output_type": "stream",
          "text": [
            "saving image to ../figures/../figures/data.pdf\n"
          ],
          "name": "stdout"
        },
        {
          "output_type": "display_data",
          "data": {
            "image/png": "[encoded data removed]",
            "text/plain": [
              "<Figure size 432x288 with 1 Axes>"
            ]
          },
          "metadata": {
            "tags": [],
            "needs_background": "light"
          }
        }
      ]
    },
    {
      "cell_type": "markdown",
      "metadata": {
        "id": "Dd72rZg1j5hv"
      },
      "source": [
        "# a)"
      ]
    },
    {
      "cell_type": "code",
      "metadata": {
        "id": "x4j0eltMIIJt"
      },
      "source": [
        "lda = LinearDiscriminantAnalysis()\n",
        "X_fit = lda.fit(X, Y)\n",
        "X_tran = lda.transform(X)"
      ],
      "execution_count": 5,
      "outputs": []
    },
    {
      "cell_type": "code",
      "metadata": {
        "colab": {
          "base_uri": "https://localhost:8080/",
          "height": 314
        },
        "id": "cPXzd8a6JXas",
        "outputId": "7d21ba52-7677-457e-894d-307a73b6758d"
      },
      "source": [
        "nMale = 100\n",
        "nFemale = 200\n",
        "plt.hist(X_tran[:nMale, :], color='red', ec='black')\n",
        "plt.hist(X_tran[nMale:nFemale, :], color='blue', ec='black')\n",
        "plt.title('Projection of points onto Fisher vector')\n",
        "pml.save_fig(\"../figures/Projection_of_points_on_fisher_vec.pdf\")\n",
        "plt.show()\n",
        "#plt.savefig('Projection_of_points_on_fisher_vec.png') # Figure 9.5(a)"
      ],
      "execution_count": 6,
      "outputs": [
        {
          "output_type": "stream",
          "text": [
            "saving image to ../figures/../figures/Projection_of_points_on_fisher_vec.pdf\n"
          ],
          "name": "stdout"
        },
        {
          "output_type": "display_data",
          "data": {
            "image/png": "[encoded data removed]",
            "text/plain": [
              "<Figure size 432x288 with 1 Axes>"
            ]
          },
          "metadata": {
            "tags": [],
            "needs_background": "light"
          }
        }
      ]
    },
    {
      "cell_type": "markdown",
      "metadata": {
        "id": "Q3rtrIOVkBc9"
      },
      "source": [
        "# b)"
      ]
    },
    {
      "cell_type": "code",
      "metadata": {
        "id": "Xd3mYmJ1HRiZ"
      },
      "source": [
        "def calculate_covariance_matrix(X, Y=None):\n",
        "    if Y is None:\n",
        "        Y = X\n",
        "    n_samples = np.shape(X)[0]\n",
        "    covariance_matrix = (1 / (n_samples-1)) * (X - X.mean(axis=0)).T.dot(Y - Y.mean(axis=0))\n",
        "\n",
        "    return np.array(covariance_matrix, dtype=float)\n",
        " "
      ],
      "execution_count": 7,
      "outputs": []
    },
    {
      "cell_type": "code",
      "metadata": {
        "id": "JXHbnYPnHVGx"
      },
      "source": [
        "# Covariance matrices of the two datasets\n",
        "cov1 = calculate_covariance_matrix(a)\n",
        "cov2 = calculate_covariance_matrix(b)\n",
        "cov_tot = cov1 + cov2\n",
        "\n",
        "# Mean of the two datasets\n",
        "mean1 = a.mean(0)\n",
        "mean2 = b.mean(0)\n",
        "mean_diff = np.atleast_1d(mean1 - mean2)\n",
        "\n",
        "# The vector w, which when X is projected onto it best separates the data by class. \n",
        "# w = (mean1 - mean2) / (cov1 + cov2) [Formula in topic 9.2.6.1 in the book]\n",
        "\n",
        "w = np.linalg.pinv(cov_tot).dot(mean_diff)"
      ],
      "execution_count": 8,
      "outputs": []
    },
    {
      "cell_type": "code",
      "metadata": {
        "id": "yXZYCo9oHVUu"
      },
      "source": [
        "slope = w[1]/w[0]\n",
        "mid_point = (mu_a + mu_b)/2\n",
        "c = mid_point[1] - slope*mid_point[0]\n",
        "x = np.linspace(-5, 5, 100)"
      ],
      "execution_count": 9,
      "outputs": []
    },
    {
      "cell_type": "code",
      "metadata": {
        "colab": {
          "base_uri": "https://localhost:8080/",
          "height": 314
        },
        "id": "W7xTTNepHguD",
        "outputId": "065bb9f4-d6ca-4221-a7e4-afca1dfb3d0f"
      },
      "source": [
        "plt.xlim(xmin, xmax)\n",
        "plt.ylim(ymin, ymax)\n",
        "plt.plot(a[:,0], a[:,1], 'b.', b[:,0], b[:,1], 'r+')\n",
        "plt.plot(x, slope*x + c)\n",
        "plt.plot(mu_a, mu_b, 'black')\n",
        "plt.legend(['Male', 'Female', 'FischerLDA vector', 'Means'])\n",
        "pml.save_fig(\"../figures/FischerLDA_vector.pdf\")\n",
        "plt.show()\n",
        "#plt.savefig('FischerLDA vector')"
      ],
      "execution_count": 10,
      "outputs": [
        {
          "output_type": "stream",
          "text": [
            "saving image to ../figures/../figures/FischerLDA_vector.pdf\n"
          ],
          "name": "stdout"
        },
        {
          "output_type": "display_data",
          "data": {
            "image/png": "[encoded data removed]",
            "text/plain": [
              "<Figure size 432x288 with 1 Axes>"
            ]
          },
          "metadata": {
            "tags": [],
            "needs_background": "light"
          }
        }
      ]
    },
    {
      "cell_type": "code",
      "metadata": {
        "id": "LiGiwfHWHo-3"
      },
      "source": [
        "Xproj_fish = X.dot(w) \n",
        "Xproj_fish_male = Xproj_fish[:nMale]\n",
        "Xproj_fish_female = Xproj_fish[nMale:nFemale]"
      ],
      "execution_count": 11,
      "outputs": []
    },
    {
      "cell_type": "code",
      "metadata": {
        "colab": {
          "base_uri": "https://localhost:8080/",
          "height": 314
        },
        "id": "i0nAaZd2Hwi4",
        "outputId": "64230940-92dd-42f2-bfd5-3c468a157e9f"
      },
      "source": [
        "plt.hist(Xproj_fish_male, color='red', ec='black')\n",
        "plt.hist(Xproj_fish_female, color='blue', ec='black')\n",
        "plt.title('Projection of points onto Fisher vector')\n",
        "pml.save_fig(\"../figures/Projection_of_points_on_fisher2_vec.pdf\")\n",
        "plt.show()\n",
        "#plt.savefig('Projection_of_points_on_fisher2_vec.png') # Figure 9.5(a)"
      ],
      "execution_count": 12,
      "outputs": [
        {
          "output_type": "stream",
          "text": [
            "saving image to ../figures/../figures/Projection_of_points_on_fisher2_vec.pdf\n"
          ],
          "name": "stdout"
        },
        {
          "output_type": "display_data",
          "data": {
            "image/png": "[encoded data removed]",
            "text/plain": [
              "<Figure size 432x288 with 1 Axes>"
            ]
          },
          "metadata": {
            "tags": [],
            "needs_background": "light"
          }
        }
      ]
    },
    {
      "cell_type": "markdown",
      "metadata": {
        "id": "bYBqCVRLLtlU"
      },
      "source": [
        "##PCA\n",
        "\n",
        "It is done in 2 ways:\n",
        "\n",
        "a) Using sklearn.decomposition\n",
        "\n",
        "b) Manual principal component analysis"
      ]
    },
    {
      "cell_type": "markdown",
      "metadata": {
        "id": "5vIypKRuuchS"
      },
      "source": [
        "# a)"
      ]
    },
    {
      "cell_type": "code",
      "metadata": {
        "id": "SsMOu6fl97j9"
      },
      "source": [
        "pca = PCA(n_components=1)\n",
        "\n",
        "X_fit = pca.fit(X)\n",
        "X_tran = pca.transform(X)"
      ],
      "execution_count": 13,
      "outputs": []
    },
    {
      "cell_type": "code",
      "metadata": {
        "colab": {
          "base_uri": "https://localhost:8080/",
          "height": 314
        },
        "id": "3gM883xFAg5N",
        "outputId": "4fbe9e97-fe27-4ddd-9bbc-07b25536a720"
      },
      "source": [
        "plt.hist(X_tran[:nMale, :], color='red', ec='black')\n",
        "plt.hist(X_tran[nMale:nFemale, :], color='blue', ec='black')\n",
        "plt.title('Projection of points onto PCA vector')\n",
        "pml.save_fig(\"../figures/Projection_of_points_on_pca_vec.pdf\")\n",
        "plt.show()\n",
        "#plt.savefig('Projection_of_points_on_pca_vec.png') # Figure 9.5(b)"
      ],
      "execution_count": 14,
      "outputs": [
        {
          "output_type": "stream",
          "text": [
            "saving image to ../figures/../figures/Projection_of_points_on_pca_vec.pdf\n"
          ],
          "name": "stdout"
        },
        {
          "output_type": "display_data",
          "data": {
            "image/png": "[encoded data removed]",
            "text/plain": [
              "<Figure size 432x288 with 1 Axes>"
            ]
          },
          "metadata": {
            "tags": [],
            "needs_background": "light"
          }
        }
      ]
    },
    {
      "cell_type": "markdown",
      "metadata": {
        "id": "_oWOgeRqvCoM"
      },
      "source": [
        "# b)"
      ]
    },
    {
      "cell_type": "code",
      "metadata": {
        "id": "AoScj4TzIeKw"
      },
      "source": [
        "# calculate the mean of each column\n",
        "M = mean(X.T, axis=1)\n",
        "# center columns by subtracting column means\n",
        "C = X - M\n",
        "# calculate covariance matrix of centered matrix\n",
        "V = cov(C.T)\n",
        "# eigendecomposition of covariance matrix\n",
        "values, vectors = eig(V)\n",
        "# project data\n",
        "P = vectors.T.dot(C.T)"
      ],
      "execution_count": 15,
      "outputs": []
    },
    {
      "cell_type": "code",
      "metadata": {
        "id": "86RUWtQCJukI"
      },
      "source": [
        "vector = vectors[:, 0]\n",
        "mu_a, mu_b = a.mean(axis=0).reshape(-1,1), b.mean(axis=0).reshape(-1,1)\n",
        "slope_pca = vector[1]/vector[0]\n",
        "mid_point = (mu_a + mu_b)/2\n",
        "c_pca = mid_point[1] - slope_pca*mid_point[0]\n",
        "x = np.linspace(-5, 5, 100)\n",
        "z = np.linspace(-5, 5, 100)\n"
      ],
      "execution_count": 16,
      "outputs": []
    },
    {
      "cell_type": "code",
      "metadata": {
        "colab": {
          "base_uri": "https://localhost:8080/",
          "height": 314
        },
        "id": "GTxVbh7vJu8a",
        "outputId": "5aea469e-73bf-4118-e183-9379cd51cad6"
      },
      "source": [
        "plt.xlim(-2, 5.3)\n",
        "plt.ylim(-0.8, 4)\n",
        "plt.plot(a[:,0], a[:,1], 'b.', b[:,0], b[:,1], 'r+')\n",
        "plt.plot(x, slope*x + c)\n",
        "plt.plot(z, slope_pca*z + c_pca)\n",
        "plt.plot(mu_a, mu_b, 'black')\n",
        "plt.legend(['Male', 'Female', 'FischerLDA vector', 'PCA vector', 'Means'])\n",
        "pml.save_fig(\"../figures/FischerLDA_and_PCA_vectors.pdf\")\n",
        "plt.show()\n",
        "#plt.savefig('FischerLDA_and_PCA_vectors.png')"
      ],
      "execution_count": 17,
      "outputs": [
        {
          "output_type": "stream",
          "text": [
            "saving image to ../figures/../figures/FischerLDA_and_PCA_vectors.pdf\n"
          ],
          "name": "stdout"
        },
        {
          "output_type": "display_data",
          "data": {
            "image/png": "[encoded data removed]",
            "text/plain": [
              "<Figure size 432x288 with 1 Axes>"
            ]
          },
          "metadata": {
            "tags": [],
            "needs_background": "light"
          }
        }
      ]
    },
    {
      "cell_type": "code",
      "metadata": {
        "id": "zPJLCVTGJvHL"
      },
      "source": [
        "Xproj_pca = X.dot(vector)\n",
        "Xproj_pca_male = Xproj_pca[:nMale]\n",
        "Xproj_pca_female = Xproj_pca[nMale:nFemale]\n"
      ],
      "execution_count": 18,
      "outputs": []
    },
    {
      "cell_type": "code",
      "metadata": {
        "id": "o4w0IKpe8vDe",
        "colab": {
          "base_uri": "https://localhost:8080/",
          "height": 314
        },
        "outputId": "03f24f7b-4686-424e-e0a1-5370c90b8998"
      },
      "source": [
        "plt.hist(Xproj_pca_male, color='red', ec='black')\n",
        "plt.hist(Xproj_pca_female, color='blue', ec='black')\n",
        "plt.title('Projection of points onto PCA vector')\n",
        "pml.save_fig(\"../figures/Projection_of_points_on_pca2_vec.pdf\")\n",
        "plt.show()\n",
        "#plt.savefig('Projection_of_points_on_pca2_vec.png') # Figure 9.5(b)"
      ],
      "execution_count": 19,
      "outputs": [
        {
          "output_type": "stream",
          "text": [
            "saving image to ../figures/../figures/Projection_of_points_on_pca2_vec.pdf\n"
          ],
          "name": "stdout"
        },
        {
          "output_type": "display_data",
          "data": {
            "image/png": "[encoded data removed]",
            "text/plain": [
              "<Figure size 432x288 with 1 Axes>"
            ]
          },
          "metadata": {
            "tags": [],
            "needs_background": "light"
          }
        }
      ]
    },
    {
      "cell_type": "code",
      "metadata": {
        "id": "dQoow-rNN4pE"
      },
      "source": [
        ""
      ],
      "execution_count": 19,
      "outputs": []
    }
  ]
}