{
 "cells": [
  {
   "cell_type": "code",
   "execution_count": null,
   "metadata": {},
   "outputs": [],
   "source": [
    "# Copyright 2021 Google LLC\n",
    "    # Use of this source code is governed by an MIT-style\n",
    "    # license that can be found in the LICENSE file or at\n",
    "    # https://opensource.org/licenses/MIT.\n",
    "\n",
    "    # Author(s): Kevin P. Murphy (murphyk@gmail.com) and Mahmoud Soliman (mjs@aucegypt.edu)"
   ]
  },
  {
   "cell_type": "markdown",
   "metadata": {},
   "source": [
    "<a href=\"https://opensource.org/licenses/MIT\" target=\"_parent\"><img src=\"https://img.shields.io/github/license/probml/pyprobml\"/></a>"
   ]
  },
  {
   "cell_type": "markdown",
   "metadata": {},
   "source": [
    "<a href=\"https://colab.research.google.com/github/probml/pyprobml/blob/master/book1/figures/chapter22_recommender_systems_figures.ipynb\" target=\"_parent\"><img src=\"https://colab.research.google.com/assets/colab-badge.svg\" alt=\"Open In Colab\"/></a>"
   ]
  },
  {
   "cell_type": "markdown",
   "metadata": {},
   "source": [
    "## Figure 22.1:<a name='22.1'></a> <a name='netflix'></a> "
   ]
  },
  {
   "cell_type": "markdown",
   "metadata": {},
   "source": [
    "\n",
    "  Example of a relational dataset represented as a sparse matrix (left) or a sparse bipartite graph (right). Values corresponding to empty cells (missing edges) are unknown. Rows 3 and 4 are similar to each other, indicating that users 3 and 4 might have similar preferences, so we can use the data from user 3 to predict user 4's preferences. However, user 1 seems quite different in their preferences, and seems to give low ratings to all items. For user 2, we have very little observed data, so it is hard to make reliable predictions. "
   ]
  },
  {
   "cell_type": "code",
   "execution_count": null,
   "metadata": {},
   "outputs": [],
   "source": [
    " #@title Setup { display-mode: \"form\" }\n",
    "%%time\n",
    "# If you run this for the first time it would take ~25/30 seconds\n",
    "!git clone https://github.com/probml/pyprobml /pyprobml &> /dev/null && git clone https://github.com/probml/colab_powertoys.git &> /dev/null \n",
    "!pip3 install nbimporter -qqq \n",
    "%cd -q /content/colab_powertoys \n",
    "from colab_powertoys.probml_toys import probml_toys as pmlt\n",
    "%cd -q /pyprobml/scripts\n"
   ]
  },
  {
   "cell_type": "code",
   "execution_count": null,
   "metadata": {},
   "outputs": [],
   "source": [
    "pmlt.show_image(\"/pyprobml/book1/figures/images/Figure_22.1.png\")"
   ]
  },
  {
   "cell_type": "markdown",
   "metadata": {},
   "source": [
    "## Figure 22.2:<a name='22.2'></a> <a name='netflix2d'></a> "
   ]
  },
  {
   "cell_type": "markdown",
   "metadata": {},
   "source": [
    "\n",
    "  Visualization of the first two latent movie factors estimated from the Netflix challenge data. Each movie $j$ is plotted at the location specified by $\\mathbf  v _j$. See text for details. From Figure 3 of <a href='#Koren09mf'>[KBV09]</a> . Used with kind permission of Yehuda Koren. "
   ]
  },
  {
   "cell_type": "code",
   "execution_count": null,
   "metadata": {},
   "outputs": [],
   "source": [
    " #@title Setup { display-mode: \"form\" }\n",
    "%%time\n",
    "# If you run this for the first time it would take ~25/30 seconds\n",
    "!git clone https://github.com/probml/pyprobml /pyprobml &> /dev/null && git clone https://github.com/probml/colab_powertoys.git &> /dev/null \n",
    "!pip3 install nbimporter -qqq \n",
    "%cd -q /content/colab_powertoys \n",
    "from colab_powertoys.probml_toys import probml_toys as pmlt\n",
    "%cd -q /pyprobml/scripts\n"
   ]
  },
  {
   "cell_type": "code",
   "execution_count": null,
   "metadata": {},
   "outputs": [],
   "source": [
    "pmlt.show_image(\"/pyprobml/book1/figures/images/Figure_22.2.png\")"
   ]
  },
  {
   "cell_type": "markdown",
   "metadata": {},
   "source": [
    "## Figure 22.3:<a name='22.3'></a> <a name='mfMatrix'></a> "
   ]
  },
  {
   "cell_type": "markdown",
   "metadata": {},
   "source": [
    "\n",
    "  (a) A fragment of the observed ratings matrix from the MovieLens-1M dataset. (b) Predictions using SVD with 50 latent components. "
   ]
  },
  {
   "cell_type": "markdown",
   "metadata": {},
   "source": [
    "To reproduce this figure, click the open in colab button: <a href=\"https://colab.research.google.com/github/https://colab.research.google.com/github/probml/pyprobml/blob/master/notebooks/matrix_factorization_recommender.ipynb\" target=\"_parent\"><img src=\"https://colab.research.google.com/assets/colab-badge.svg\" alt=\"Open In Colab\"/></a>"
   ]
  },
  {
   "cell_type": "code",
   "execution_count": null,
   "metadata": {},
   "outputs": [],
   "source": [
    " #@title Setup { display-mode: \"form\" }\n",
    "%%time\n",
    "# If you run this for the first time it would take ~25/30 seconds\n",
    "!git clone https://github.com/probml/pyprobml /pyprobml &> /dev/null && git clone https://github.com/probml/colab_powertoys.git &> /dev/null \n",
    "!pip3 install nbimporter -qqq \n",
    "%cd -q /content/colab_powertoys \n",
    "from colab_powertoys.probml_toys import probml_toys as pmlt\n",
    "%cd -q /pyprobml/scripts\n"
   ]
  },
  {
   "cell_type": "code",
   "execution_count": null,
   "metadata": {},
   "outputs": [],
   "source": [
    "pmlt.show_image(\"/pyprobml/book1/figures/images/Figure_22.3_A.png\")"
   ]
  },
  {
   "cell_type": "code",
   "execution_count": null,
   "metadata": {},
   "outputs": [],
   "source": [
    "pmlt.show_image(\"/pyprobml/book1/figures/images/Figure_22.3_B.png\")"
   ]
  },
  {
   "cell_type": "markdown",
   "metadata": {},
   "source": [
    "## Figure 22.4:<a name='22.4'></a> <a name='mfDataframe'></a> "
   ]
  },
  {
   "cell_type": "markdown",
   "metadata": {},
   "source": [
    "\n",
    "  (a) Top 10 movies (from a list of 69) that user ``837'' has already highly rated. (b) Top 10 predictions (from a list of 3637) from the algorithm. "
   ]
  },
  {
   "cell_type": "markdown",
   "metadata": {},
   "source": [
    "To reproduce this figure, click the open in colab button: <a href=\"https://colab.research.google.com/github/https://colab.research.google.com/github/probml/pyprobml/blob/master/notebooks/matrix_factorization_recommender.ipynb\" target=\"_parent\"><img src=\"https://colab.research.google.com/assets/colab-badge.svg\" alt=\"Open In Colab\"/></a>"
   ]
  },
  {
   "cell_type": "code",
   "execution_count": null,
   "metadata": {},
   "outputs": [],
   "source": [
    " #@title Setup { display-mode: \"form\" }\n",
    "%%time\n",
    "# If you run this for the first time it would take ~25/30 seconds\n",
    "!git clone https://github.com/probml/pyprobml /pyprobml &> /dev/null && git clone https://github.com/probml/colab_powertoys.git &> /dev/null \n",
    "!pip3 install nbimporter -qqq \n",
    "%cd -q /content/colab_powertoys \n",
    "from colab_powertoys.probml_toys import probml_toys as pmlt\n",
    "%cd -q /pyprobml/scripts\n"
   ]
  },
  {
   "cell_type": "code",
   "execution_count": null,
   "metadata": {},
   "outputs": [],
   "source": [
    "pmlt.show_image(\"/pyprobml/book1/figures/images/Figure_22.4_A.png\")"
   ]
  },
  {
   "cell_type": "code",
   "execution_count": null,
   "metadata": {},
   "outputs": [],
   "source": [
    "pmlt.show_image(\"/pyprobml/book1/figures/images/Figure_22.4_B.png\")"
   ]
  },
  {
   "cell_type": "markdown",
   "metadata": {},
   "source": [
    "## Figure 22.5:<a name='22.5'></a> <a name='NCF'></a> "
   ]
  },
  {
   "cell_type": "markdown",
   "metadata": {},
   "source": [
    "\n",
    "  Illustration of the neural matrix factorization model. From Figure 2 of <a href='#NCF'>[Xia+17]</a> . Used with kind permission of Xiangnan He. "
   ]
  },
  {
   "cell_type": "code",
   "execution_count": null,
   "metadata": {},
   "outputs": [],
   "source": [
    " #@title Setup { display-mode: \"form\" }\n",
    "%%time\n",
    "# If you run this for the first time it would take ~25/30 seconds\n",
    "!git clone https://github.com/probml/pyprobml /pyprobml &> /dev/null && git clone https://github.com/probml/colab_powertoys.git &> /dev/null \n",
    "!pip3 install nbimporter -qqq \n",
    "%cd -q /content/colab_powertoys \n",
    "from colab_powertoys.probml_toys import probml_toys as pmlt\n",
    "%cd -q /pyprobml/scripts\n"
   ]
  },
  {
   "cell_type": "code",
   "execution_count": null,
   "metadata": {},
   "outputs": [],
   "source": [
    "pmlt.show_image(\"/pyprobml/book1/figures/images/Figure_22.5.png\")"
   ]
  },
  {
   "cell_type": "markdown",
   "metadata": {},
   "source": [
    "## Figure 22.6:<a name='22.6'></a> <a name='libFMmatrix'></a> "
   ]
  },
  {
   "cell_type": "markdown",
   "metadata": {},
   "source": [
    "\n",
    "  Illustration of a design matrix for a movie recommender system, where we show the id of the user and movie, as well as other side information. From Figure 1 of <a href='#Rendle12'>[Ste12]</a> . Used with kind permission of Stefen Rendle. "
   ]
  },
  {
   "cell_type": "code",
   "execution_count": null,
   "metadata": {},
   "outputs": [],
   "source": [
    " #@title Setup { display-mode: \"form\" }\n",
    "%%time\n",
    "# If you run this for the first time it would take ~25/30 seconds\n",
    "!git clone https://github.com/probml/pyprobml /pyprobml &> /dev/null && git clone https://github.com/probml/colab_powertoys.git &> /dev/null \n",
    "!pip3 install nbimporter -qqq \n",
    "%cd -q /content/colab_powertoys \n",
    "from colab_powertoys.probml_toys import probml_toys as pmlt\n",
    "%cd -q /pyprobml/scripts\n"
   ]
  },
  {
   "cell_type": "code",
   "execution_count": null,
   "metadata": {},
   "outputs": [],
   "source": [
    "pmlt.show_image(\"/pyprobml/book1/figures/images/Figure_22.6.png\")"
   ]
  },
  {
   "cell_type": "markdown",
   "metadata": {},
   "source": [
    "## References:\n",
    " <a name='Koren09mf'>[KBV09]</a> Y. Koren, R. Bell and C. Volinsky. \"Matrix factorization techniques for recommender systems\". In: IEEE Computer (2009). \n",
    "\n",
    "<a name='Rendle12'>[Ste12]</a> R. Steffen \"Factorization Machines with libFM\". In: ACM Trans. Intell. Syst. Technol. (2012). \n",
    "\n",
    "<a name='NCF'>[Xia+17]</a> H. Xiangnan, L. Lizi, Z. Hanwang, N. L. Xia and C. Tat-Seng. \"Neural Collaborative Filtering\". (2017). \n",
    "\n"
   ]
  }
 ],
 "metadata": {
  "kernelspec": {
   "display_name": "Python 3",
   "name": "python3"
  }
 },
 "nbformat": 4,
 "nbformat_minor": 4
}
