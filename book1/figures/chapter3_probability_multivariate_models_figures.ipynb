{
 "cells": [
  {
   "cell_type": "code",
   "execution_count": null,
   "metadata": {},
   "outputs": [],
   "source": [
    "# Copyright 2021 Google LLC\n",
    "    # Use of this source code is governed by an MIT-style\n",
    "    # license that can be found in the LICENSE file or at\n",
    "    # https://opensource.org/licenses/MIT.\n",
    "\n",
    "    # Author(s): Kevin P. Murphy (murphyk@gmail.com) and Mahmoud Soliman (mjs@aucegypt.edu)"
   ]
  },
  {
   "cell_type": "markdown",
   "metadata": {},
   "source": [
    "<a href=\"https://opensource.org/licenses/MIT\" target=\"_parent\"><img src=\"https://img.shields.io/github/license/probml/pyprobml\"/></a>"
   ]
  },
  {
   "cell_type": "markdown",
   "metadata": {},
   "source": [
    "<a href=\"https://colab.research.google.com/github/probml/pyprobml/blob/master/book1/figures/chapter3_probability_multivariate_models_figures.ipynb\" target=\"_parent\"><img src=\"https://colab.research.google.com/assets/colab-badge.svg\" alt=\"Open In Colab\"/></a>"
   ]
  },
  {
   "cell_type": "markdown",
   "metadata": {},
   "source": [
    "## Figure 3.1:<a name='3.1'></a> <a name='corrcoefWikipedia'></a> "
   ]
  },
  {
   "cell_type": "markdown",
   "metadata": {},
   "source": [
    "\n",
    "  Several sets of $(x, y)$ points, with the correlation coefficient of $x$ and $y$ for each set. Note that the correlation reflects the noisiness and direction of a linear relationship (top row), but not the slope of that relationship (middle), nor many aspects of nonlinear relationships (bottom). (Note: the figure in the center has a slope of 0 but in that case the correlation coefficient is undefined because the variance of $Y$ is zero.) From   https://en.wikipedia.org/wiki/Pearson_correlation_coefficient . Used with kind permission of Wikipedia author Imagecreator. "
   ]
  },
  {
   "cell_type": "code",
   "execution_count": null,
   "metadata": {},
   "outputs": [],
   "source": [
    " #@title Setup { display-mode: \"form\" }\n",
    "%%time\n",
    "# If you run this for the first time it would take ~25/30 seconds\n",
    "!git clone https://github.com/probml/pyprobml /pyprobml &> /dev/null && git clone https://github.com/probml/colab_powertoys.git &> /dev/null \n",
    "!pip3 install nbimporter -qqq \n",
    "%cd -q /content/colab_powertoys \n",
    "from colab_powertoys.probml_toys import probml_toys as pmlt\n",
    "%cd -q /pyprobml/scripts\n"
   ]
  },
  {
   "cell_type": "code",
   "execution_count": null,
   "metadata": {},
   "outputs": [],
   "source": [
    "pmlt.show_image(\"/pyprobml/book1/figures/images/Figure_3.1.png\")"
   ]
  },
  {
   "cell_type": "markdown",
   "metadata": {},
   "source": [
    "## Figure 3.2:<a name='3.2'></a> <a name='spuriousCorrelation'></a> "
   ]
  },
  {
   "cell_type": "markdown",
   "metadata": {},
   "source": [
    "\n",
    "  Examples of spurious correlation between causally unrelated time series. (a) Consumption is ice cream (red) and US murder rate (black) over time. From   https://bit.ly/2zfbuvf . Used with kind permission of Karen Cyphers. (b) Divorce rate in Maine strongly correlates with per-capita US consumption of margarine (black). From   http://www.tylervigen.com/spurious-correlations . Used with kind permission of Tyler Vigen. "
   ]
  },
  {
   "cell_type": "code",
   "execution_count": null,
   "metadata": {},
   "outputs": [],
   "source": [
    " #@title Setup { display-mode: \"form\" }\n",
    "%%time\n",
    "# If you run this for the first time it would take ~25/30 seconds\n",
    "!git clone https://github.com/probml/pyprobml /pyprobml &> /dev/null && git clone https://github.com/probml/colab_powertoys.git &> /dev/null \n",
    "!pip3 install nbimporter -qqq \n",
    "%cd -q /content/colab_powertoys \n",
    "from colab_powertoys.probml_toys import probml_toys as pmlt\n",
    "%cd -q /pyprobml/scripts\n"
   ]
  },
  {
   "cell_type": "code",
   "execution_count": null,
   "metadata": {},
   "outputs": [],
   "source": [
    "pmlt.show_image(\"/pyprobml/book1/figures/images/Figure_3.2_A.png\")"
   ]
  },
  {
   "cell_type": "code",
   "execution_count": null,
   "metadata": {},
   "outputs": [],
   "source": [
    "pmlt.show_image(\"/pyprobml/book1/figures/images/Figure_3.2_B.png\")"
   ]
  },
  {
   "cell_type": "markdown",
   "metadata": {},
   "source": [
    "## Figure 3.3:<a name='3.3'></a> <a name='simpsonsParadoxGraph'></a> "
   ]
  },
  {
   "cell_type": "markdown",
   "metadata": {},
   "source": [
    "\n",
    "  Illustration of Simpson's paradox. (a) Overall, $y$ decreases $y$ with $x$. (b) Within each group, $y$ increases with $x$. From   https://en.wikipedia.org/wiki/Simpson's_paradox . Used with kind permission of Wikipedia author Pace\\nobreakspace   svwiki "
   ]
  },
  {
   "cell_type": "code",
   "execution_count": null,
   "metadata": {},
   "outputs": [],
   "source": [
    " #@title Setup { display-mode: \"form\" }\n",
    "%%time\n",
    "# If you run this for the first time it would take ~25/30 seconds\n",
    "!git clone https://github.com/probml/pyprobml /pyprobml &> /dev/null && git clone https://github.com/probml/colab_powertoys.git &> /dev/null \n",
    "!pip3 install nbimporter -qqq \n",
    "%cd -q /content/colab_powertoys \n",
    "from colab_powertoys.probml_toys import probml_toys as pmlt\n",
    "%cd -q /pyprobml/scripts\n"
   ]
  },
  {
   "cell_type": "code",
   "execution_count": null,
   "metadata": {},
   "outputs": [],
   "source": [
    "pmlt.show_image(\"/pyprobml/book1/figures/images/Figure_3.3_A.png\")"
   ]
  },
  {
   "cell_type": "code",
   "execution_count": null,
   "metadata": {},
   "outputs": [],
   "source": [
    "pmlt.show_image(\"/pyprobml/book1/figures/images/Figure_3.3_B.png\")"
   ]
  },
  {
   "cell_type": "markdown",
   "metadata": {},
   "source": [
    "## Figure 3.4:<a name='3.4'></a> <a name='simpsonsCovid'></a> "
   ]
  },
  {
   "cell_type": "markdown",
   "metadata": {},
   "source": [
    "\n",
    "  Illustration of Simpson's paradox using COVID-19\\xspace , (a) Case fatality rates (CFRs) in Italy and China by age group, and in aggregated form (``Total'', last pair of bars), up to the time of reporting (see legend). (b) Proportion of all confirmed cases included in (a) within each age group by country. From Figure 1 of <a href='#VonKugelgen2020'>[JLB20]</a> . Used with kind permission of Julius von K \\\"u gelgen. "
   ]
  },
  {
   "cell_type": "code",
   "execution_count": null,
   "metadata": {},
   "outputs": [],
   "source": [
    " #@title Setup { display-mode: \"form\" }\n",
    "%%time\n",
    "# If you run this for the first time it would take ~25/30 seconds\n",
    "!git clone https://github.com/probml/pyprobml /pyprobml &> /dev/null && git clone https://github.com/probml/colab_powertoys.git &> /dev/null \n",
    "!pip3 install nbimporter -qqq \n",
    "%cd -q /content/colab_powertoys \n",
    "from colab_powertoys.probml_toys import probml_toys as pmlt\n",
    "%cd -q /pyprobml/scripts\n"
   ]
  },
  {
   "cell_type": "code",
   "execution_count": null,
   "metadata": {},
   "outputs": [],
   "source": [
    "pmlt.show_image(\"/pyprobml/book1/figures/images/Figure_3.4_A.png\")"
   ]
  },
  {
   "cell_type": "code",
   "execution_count": null,
   "metadata": {},
   "outputs": [],
   "source": [
    "pmlt.show_image(\"/pyprobml/book1/figures/images/Figure_3.4_B.png\")"
   ]
  },
  {
   "cell_type": "markdown",
   "metadata": {},
   "source": [
    "## Figure 3.5:<a name='3.5'></a> <a name='gaussPlot2dSurf'></a> "
   ]
  },
  {
   "cell_type": "markdown",
   "metadata": {},
   "source": [
    "\n",
    "  Visualization of a 2d Gaussian density as a surface plot. (a) Distribution using a full covariance matrix can be oriented at any angle. (b) Distribution using a diagonal covariance matrix must be parallel to the axis. (c) Distribution using a spherical covariance matrix must have a symmetric shape.  \n",
    "Figure(s) generated by [gauss_plot_2d.py](https://github.com/probml/pyprobml/blob/master/scripts/gauss_plot_2d.py) "
   ]
  },
  {
   "cell_type": "code",
   "execution_count": null,
   "metadata": {},
   "outputs": [],
   "source": [
    " #@title Setup { display-mode: \"form\" }\n",
    "%%time\n",
    "# If you run this for the first time it would take ~25/30 seconds\n",
    "!git clone https://github.com/probml/pyprobml /pyprobml &> /dev/null && git clone https://github.com/probml/colab_powertoys.git &> /dev/null \n",
    "!pip3 install nbimporter -qqq \n",
    "%cd -q /content/colab_powertoys \n",
    "from colab_powertoys.probml_toys import probml_toys as pmlt\n",
    "%cd -q /pyprobml/scripts\n"
   ]
  },
  {
   "cell_type": "code",
   "execution_count": null,
   "metadata": {},
   "outputs": [],
   "source": [
    "pmlt.show_and_run(\"/pyprobml/scripts/gauss_plot_2d.py\")"
   ]
  },
  {
   "cell_type": "markdown",
   "metadata": {},
   "source": [
    "## Figure 3.6:<a name='3.6'></a> <a name='gaussPlot2dContour'></a> "
   ]
  },
  {
   "cell_type": "markdown",
   "metadata": {},
   "source": [
    "\n",
    "  Visualization of a 2d Gaussian density in terms of level sets of constant probability density. (a) A full covariance matrix has elliptical contours. (b) A diagonal covariance matrix is an  \\bf axis aligned  ellipse. (c) A spherical covariance matrix has a circular shape.  \n",
    "Figure(s) generated by [gauss_plot_2d.py](https://github.com/probml/pyprobml/blob/master/scripts/gauss_plot_2d.py) "
   ]
  },
  {
   "cell_type": "code",
   "execution_count": null,
   "metadata": {},
   "outputs": [],
   "source": [
    " #@title Setup { display-mode: \"form\" }\n",
    "%%time\n",
    "# If you run this for the first time it would take ~25/30 seconds\n",
    "!git clone https://github.com/probml/pyprobml /pyprobml &> /dev/null && git clone https://github.com/probml/colab_powertoys.git &> /dev/null \n",
    "!pip3 install nbimporter -qqq \n",
    "%cd -q /content/colab_powertoys \n",
    "from colab_powertoys.probml_toys import probml_toys as pmlt\n",
    "%cd -q /pyprobml/scripts\n"
   ]
  },
  {
   "cell_type": "code",
   "execution_count": null,
   "metadata": {},
   "outputs": [],
   "source": [
    "pmlt.show_and_run(\"/pyprobml/scripts/gauss_plot_2d.py\")"
   ]
  },
  {
   "cell_type": "markdown",
   "metadata": {},
   "source": [
    "## Figure 3.7:<a name='3.7'></a> <a name='imputeMvn'></a> "
   ]
  },
  {
   "cell_type": "markdown",
   "metadata": {},
   "source": [
    "\n",
    "  Illustration of data imputation using an MVN. (a) Visualization of the data matrix. Blank entries are missing (not observed). Red are positive, green are negative. Area of the square is proportional to the value. (This is known as a  \\bf Hinton diagram , named after Geoff Hinton, a famous ML researcher.) (b) True data matrix (hidden). (c) Mean of the posterior predictive distribution, based on partially observed data in that row, using the true model parameters.  \n",
    "Figure(s) generated by [gaussImputationDemo.py](https://github.com/probml/pyprobml/blob/master/scripts/gaussImputationDemo.py) "
   ]
  },
  {
   "cell_type": "code",
   "execution_count": null,
   "metadata": {},
   "outputs": [],
   "source": [
    " #@title Setup { display-mode: \"form\" }\n",
    "%%time\n",
    "# If you run this for the first time it would take ~25/30 seconds\n",
    "!git clone https://github.com/probml/pyprobml /pyprobml &> /dev/null && git clone https://github.com/probml/colab_powertoys.git &> /dev/null \n",
    "!pip3 install nbimporter -qqq \n",
    "%cd -q /content/colab_powertoys \n",
    "from colab_powertoys.probml_toys import probml_toys as pmlt\n",
    "%cd -q /pyprobml/scripts\n"
   ]
  },
  {
   "cell_type": "code",
   "execution_count": null,
   "metadata": {},
   "outputs": [],
   "source": [
    "pmlt.show_and_run(\"/pyprobml/scripts/gaussImputationDemo.py\")"
   ]
  },
  {
   "cell_type": "markdown",
   "metadata": {},
   "source": [
    "## Figure 3.8:<a name='3.8'></a> <a name='gauss2dupdate'></a> "
   ]
  },
  {
   "cell_type": "markdown",
   "metadata": {},
   "source": [
    "\n",
    "  Illustration of Bayesian inference for a 2d Gaussian random vector $\\mathbf  z $. (a) The data is generated from $\\mathbf  y _n \\sim \\mathcal  N (\\mathbf  z ,\\boldsymbol  \\Sigma  _y)$, where $\\mathbf  z =[0.5, 0.5]^ \\top  $ and $\\boldsymbol  \\Sigma  _y=0.1 [2, 1; 1, 1])$. We assume the sensor noise covariance $\\boldsymbol  \\Sigma  _y$ is known but $\\mathbf  z $ is unknown. The black cross represents $\\mathbf  z $. (b) The prior is $p(\\mathbf  z ) = \\mathcal  N (\\mathbf  z |\\boldsymbol  0 ,0.1 \\mathbf  I _2)$. (c) We show the posterior after 10 data points have been observed.  \n",
    "Figure(s) generated by [gaussInferParamsMean2d.m](https://github.com/probml/pmtk3/blob/master/demos/gaussInferParamsMean2d.m) "
   ]
  },
  {
   "cell_type": "code",
   "execution_count": null,
   "metadata": {},
   "outputs": [],
   "source": [
    " #@title Setup { display-mode: \"form\" }\n",
    "%%time\n",
    "# If you run this for the first time it would take ~25/30 seconds\n",
    "!git clone https://github.com/probml/pyprobml /pyprobml &> /dev/null && git clone https://github.com/probml/colab_powertoys.git &> /dev/null \n",
    "!pip3 install nbimporter -qqq \n",
    "%cd -q /content/colab_powertoys \n",
    "from colab_powertoys.probml_toys import probml_toys as pmlt\n",
    "%cd -q /pyprobml/scripts\n"
   ]
  },
  {
   "cell_type": "code",
   "execution_count": null,
   "metadata": {},
   "outputs": [],
   "source": [
    "pmlt.show_image(\"/pyprobml/book1/figures/images/Figure_3.8.png\")"
   ]
  },
  {
   "cell_type": "markdown",
   "metadata": {},
   "source": [
    "## Figure 3.9:<a name='3.9'></a> <a name='demoGaussBayes2dUnequal'></a> "
   ]
  },
  {
   "cell_type": "markdown",
   "metadata": {},
   "source": [
    "\n",
    "  We observe $\\mathbf  y _1=(0,-1)$ (red cross) and $\\mathbf  y _2=(1,0)$ (green cross) and estimate $\\mathbb  E \\left [ \\mathbf  z |\\mathbf  y _1,\\mathbf  y _2 \\right ]$ (black cross). (a) Equally reliable sensors, so the posterior mean estimate is in between the two circles. (b) Sensor 2 is more reliable, so the estimate shifts more towards the green circle. (c) Sensor 1 is more reliable in the vertical direction, Sensor 2 is more reliable in the horizontal direction. The estimate is an appropriate combination of the two measurements.  \n",
    "Figure(s) generated by [sensor_fusion_2d.py](https://github.com/probml/pyprobml/blob/master/scripts/sensor_fusion_2d.py) "
   ]
  },
  {
   "cell_type": "code",
   "execution_count": null,
   "metadata": {},
   "outputs": [],
   "source": [
    " #@title Setup { display-mode: \"form\" }\n",
    "%%time\n",
    "# If you run this for the first time it would take ~25/30 seconds\n",
    "!git clone https://github.com/probml/pyprobml /pyprobml &> /dev/null && git clone https://github.com/probml/colab_powertoys.git &> /dev/null \n",
    "!pip3 install nbimporter -qqq \n",
    "%cd -q /content/colab_powertoys \n",
    "from colab_powertoys.probml_toys import probml_toys as pmlt\n",
    "%cd -q /pyprobml/scripts\n"
   ]
  },
  {
   "cell_type": "code",
   "execution_count": null,
   "metadata": {},
   "outputs": [],
   "source": [
    "pmlt.show_and_run(\"/pyprobml/scripts/sensor_fusion_2d.py\")"
   ]
  },
  {
   "cell_type": "markdown",
   "metadata": {},
   "source": [
    "## Figure 3.10:<a name='3.10'></a> <a name='gmm3'></a> "
   ]
  },
  {
   "cell_type": "markdown",
   "metadata": {},
   "source": [
    "\n",
    "  A mixture of 3 Gaussians in 2d. (a) We show the contours of constant probability for each component in the mixture. (b) A surface plot of the overall density. Adapted from Figure 2.23 of <a href='#BishopBook'>[Bis06]</a> .  \n",
    "Figure(s) generated by [mixGaussPlotDemo.py](https://github.com/probml/pyprobml/blob/master/scripts/mixGaussPlotDemo.py) "
   ]
  },
  {
   "cell_type": "code",
   "execution_count": null,
   "metadata": {},
   "outputs": [],
   "source": [
    " #@title Setup { display-mode: \"form\" }\n",
    "%%time\n",
    "# If you run this for the first time it would take ~25/30 seconds\n",
    "!git clone https://github.com/probml/pyprobml /pyprobml &> /dev/null && git clone https://github.com/probml/colab_powertoys.git &> /dev/null \n",
    "!pip3 install nbimporter -qqq \n",
    "%cd -q /content/colab_powertoys \n",
    "from colab_powertoys.probml_toys import probml_toys as pmlt\n",
    "%cd -q /pyprobml/scripts\n"
   ]
  },
  {
   "cell_type": "code",
   "execution_count": null,
   "metadata": {},
   "outputs": [],
   "source": [
    "pmlt.show_and_run(\"/pyprobml/scripts/mixGaussPlotDemo.py\")"
   ]
  },
  {
   "cell_type": "markdown",
   "metadata": {},
   "source": [
    "## Figure 3.11:<a name='3.11'></a> <a name='gmm2d'></a> "
   ]
  },
  {
   "cell_type": "markdown",
   "metadata": {},
   "source": [
    "\n",
    "  (a) Some data in 2d. (b) A possible clustering using $K=3$ clusters computed using a GMM.  \n",
    "Figure(s) generated by [gmm_2d.py](https://github.com/probml/pyprobml/blob/master/scripts/gmm_2d.py) "
   ]
  },
  {
   "cell_type": "code",
   "execution_count": null,
   "metadata": {},
   "outputs": [],
   "source": [
    " #@title Setup { display-mode: \"form\" }\n",
    "%%time\n",
    "# If you run this for the first time it would take ~25/30 seconds\n",
    "!git clone https://github.com/probml/pyprobml /pyprobml &> /dev/null && git clone https://github.com/probml/colab_powertoys.git &> /dev/null \n",
    "!pip3 install nbimporter -qqq \n",
    "%cd -q /content/colab_powertoys \n",
    "from colab_powertoys.probml_toys import probml_toys as pmlt\n",
    "%cd -q /pyprobml/scripts\n"
   ]
  },
  {
   "cell_type": "code",
   "execution_count": null,
   "metadata": {},
   "outputs": [],
   "source": [
    "pmlt.show_and_run(\"/pyprobml/scripts/gmm_2d.py\")"
   ]
  },
  {
   "cell_type": "markdown",
   "metadata": {},
   "source": [
    "## Figure 3.12:<a name='3.12'></a> <a name='gmmImagePrior'></a> "
   ]
  },
  {
   "cell_type": "markdown",
   "metadata": {},
   "source": [
    "\n",
    "  Example of recovering a clean image (right) from a corrupted version (left) using MAP estimation with a GMM patch prior and Gaussian likelihood. First row: image denoising. Second row: image deblurring. Third row: image inpainting. From <a href='#Rosenbaum2015'>[DY15]</a>  and <a href='#Zoran2011'>[DY11]</a> . Used with kind permission of Dan Rosenbaum and Daniel Zoran. "
   ]
  },
  {
   "cell_type": "code",
   "execution_count": null,
   "metadata": {},
   "outputs": [],
   "source": [
    " #@title Setup { display-mode: \"form\" }\n",
    "%%time\n",
    "# If you run this for the first time it would take ~25/30 seconds\n",
    "!git clone https://github.com/probml/pyprobml /pyprobml &> /dev/null && git clone https://github.com/probml/colab_powertoys.git &> /dev/null \n",
    "!pip3 install nbimporter -qqq \n",
    "%cd -q /content/colab_powertoys \n",
    "from colab_powertoys.probml_toys import probml_toys as pmlt\n",
    "%cd -q /pyprobml/scripts\n"
   ]
  },
  {
   "cell_type": "code",
   "execution_count": null,
   "metadata": {},
   "outputs": [],
   "source": [
    "pmlt.show_image(\"/pyprobml/book1/figures/images/Figure_3.12_A.png\")"
   ]
  },
  {
   "cell_type": "code",
   "execution_count": null,
   "metadata": {},
   "outputs": [],
   "source": [
    "pmlt.show_image(\"/pyprobml/book1/figures/images/Figure_3.12_B.png\")"
   ]
  },
  {
   "cell_type": "code",
   "execution_count": null,
   "metadata": {},
   "outputs": [],
   "source": [
    "pmlt.show_image(\"/pyprobml/book1/figures/images/Figure_3.12_C.png\")"
   ]
  },
  {
   "cell_type": "code",
   "execution_count": null,
   "metadata": {},
   "outputs": [],
   "source": [
    "pmlt.show_image(\"/pyprobml/book1/figures/images/Figure_3.12_D.png\")"
   ]
  },
  {
   "cell_type": "code",
   "execution_count": null,
   "metadata": {},
   "outputs": [],
   "source": [
    "pmlt.show_image(\"/pyprobml/book1/figures/images/Figure_3.12_E.png\")"
   ]
  },
  {
   "cell_type": "code",
   "execution_count": null,
   "metadata": {},
   "outputs": [],
   "source": [
    "pmlt.show_image(\"/pyprobml/book1/figures/images/Figure_3.12_F.png\")"
   ]
  },
  {
   "cell_type": "markdown",
   "metadata": {},
   "source": [
    "## Figure 3.13:<a name='3.13'></a> <a name='mixBernoulliMnist'></a> "
   ]
  },
  {
   "cell_type": "markdown",
   "metadata": {},
   "source": [
    "\n",
    "  We fit a mixture of 20 Bernoullis to the binarized MNIST digit data. We visualize the estimated cluster means $ \\boldsymbol  \\mu   _k$. The numbers on top of each image represent the estimated mixing weights $ \\pi  _k$. No labels were used when training the model.  \n",
    "Figure(s) generated by [mixBerMnistEM.py](https://github.com/probml/pyprobml/blob/master/scripts/mixBerMnistEM.py) "
   ]
  },
  {
   "cell_type": "code",
   "execution_count": null,
   "metadata": {},
   "outputs": [],
   "source": [
    " #@title Setup { display-mode: \"form\" }\n",
    "%%time\n",
    "# If you run this for the first time it would take ~25/30 seconds\n",
    "!git clone https://github.com/probml/pyprobml /pyprobml &> /dev/null && git clone https://github.com/probml/colab_powertoys.git &> /dev/null \n",
    "!pip3 install nbimporter -qqq \n",
    "%cd -q /content/colab_powertoys \n",
    "from colab_powertoys.probml_toys import probml_toys as pmlt\n",
    "%cd -q /pyprobml/scripts\n"
   ]
  },
  {
   "cell_type": "code",
   "execution_count": null,
   "metadata": {},
   "outputs": [],
   "source": [
    "pmlt.show_and_run(\"/pyprobml/scripts/mixBerMnistEM.py\")"
   ]
  },
  {
   "cell_type": "markdown",
   "metadata": {},
   "source": [
    "## Figure 3.14:<a name='3.14'></a> <a name='sprinkler'></a> "
   ]
  },
  {
   "cell_type": "markdown",
   "metadata": {},
   "source": [
    "\n",
    "  Water sprinkler PGM with corresponding binary CPTs. T and F stand for true and false. "
   ]
  },
  {
   "cell_type": "code",
   "execution_count": null,
   "metadata": {},
   "outputs": [],
   "source": [
    " #@title Setup { display-mode: \"form\" }\n",
    "%%time\n",
    "# If you run this for the first time it would take ~25/30 seconds\n",
    "!git clone https://github.com/probml/pyprobml /pyprobml &> /dev/null && git clone https://github.com/probml/colab_powertoys.git &> /dev/null \n",
    "!pip3 install nbimporter -qqq \n",
    "%cd -q /content/colab_powertoys \n",
    "from colab_powertoys.probml_toys import probml_toys as pmlt\n",
    "%cd -q /pyprobml/scripts\n"
   ]
  },
  {
   "cell_type": "code",
   "execution_count": null,
   "metadata": {},
   "outputs": [],
   "source": [
    "pmlt.show_image(\"/pyprobml/book1/figures/images/Figure_3.14.png\")"
   ]
  },
  {
   "cell_type": "markdown",
   "metadata": {},
   "source": [
    "## Figure 3.15:<a name='3.15'></a> <a name='ARDGM'></a> "
   ]
  },
  {
   "cell_type": "markdown",
   "metadata": {},
   "source": [
    "\n",
    "  Illustration of first and second order autoregressive (Markov) models. "
   ]
  },
  {
   "cell_type": "code",
   "execution_count": null,
   "metadata": {},
   "outputs": [],
   "source": [
    " #@title Setup { display-mode: \"form\" }\n",
    "%%time\n",
    "# If you run this for the first time it would take ~25/30 seconds\n",
    "!git clone https://github.com/probml/pyprobml /pyprobml &> /dev/null && git clone https://github.com/probml/colab_powertoys.git &> /dev/null \n",
    "!pip3 install nbimporter -qqq \n",
    "%cd -q /content/colab_powertoys \n",
    "from colab_powertoys.probml_toys import probml_toys as pmlt\n",
    "%cd -q /pyprobml/scripts\n"
   ]
  },
  {
   "cell_type": "code",
   "execution_count": null,
   "metadata": {},
   "outputs": [],
   "source": [
    "pmlt.show_image(\"/pyprobml/book1/figures/images/Figure_3.15_A.png\")"
   ]
  },
  {
   "cell_type": "code",
   "execution_count": null,
   "metadata": {},
   "outputs": [],
   "source": [
    "pmlt.show_image(\"/pyprobml/book1/figures/images/Figure_3.15_B.png\")"
   ]
  },
  {
   "cell_type": "markdown",
   "metadata": {},
   "source": [
    "## Figure 3.16:<a name='3.16'></a> <a name='asia'></a> "
   ]
  },
  {
   "cell_type": "markdown",
   "metadata": {},
   "source": [
    "\n",
    "  Illustration of belief updating in the ``Asia'' PGM. The histograms show the marginal distribution of each node. (a) Prior. (b) Posterior after conditioning on Dyspnea=1. (c) Posterior after also conditioning on VisitToAsia=1. (d) Posterior after also conditioning on Smoking=1. From   https://bit.ly/3h8DWQP . Used with kind permission of Brent Boerlage. "
   ]
  },
  {
   "cell_type": "code",
   "execution_count": null,
   "metadata": {},
   "outputs": [],
   "source": [
    " #@title Setup { display-mode: \"form\" }\n",
    "%%time\n",
    "# If you run this for the first time it would take ~25/30 seconds\n",
    "!git clone https://github.com/probml/pyprobml /pyprobml &> /dev/null && git clone https://github.com/probml/colab_powertoys.git &> /dev/null \n",
    "!pip3 install nbimporter -qqq \n",
    "%cd -q /content/colab_powertoys \n",
    "from colab_powertoys.probml_toys import probml_toys as pmlt\n",
    "%cd -q /pyprobml/scripts\n"
   ]
  },
  {
   "cell_type": "code",
   "execution_count": null,
   "metadata": {},
   "outputs": [],
   "source": [
    "pmlt.show_image(\"/pyprobml/book1/figures/images/Figure_3.16_A.png\")"
   ]
  },
  {
   "cell_type": "code",
   "execution_count": null,
   "metadata": {},
   "outputs": [],
   "source": [
    "pmlt.show_image(\"/pyprobml/book1/figures/images/Figure_3.16_B.png\")"
   ]
  },
  {
   "cell_type": "code",
   "execution_count": null,
   "metadata": {},
   "outputs": [],
   "source": [
    "pmlt.show_image(\"/pyprobml/book1/figures/images/Figure_3.16_C.png\")"
   ]
  },
  {
   "cell_type": "code",
   "execution_count": null,
   "metadata": {},
   "outputs": [],
   "source": [
    "pmlt.show_image(\"/pyprobml/book1/figures/images/Figure_3.16_D.png\")"
   ]
  },
  {
   "cell_type": "markdown",
   "metadata": {},
   "source": [
    "## Figure 3.17:<a name='3.17'></a> <a name='platesIID'></a> "
   ]
  },
  {
   "cell_type": "markdown",
   "metadata": {},
   "source": [
    "\n",
    "  Left: data points $\\mathbf  y _n$ are conditionally independent given $\\boldsymbol  \\theta  $. Right: Same model, using plate notation. This represents the same model as the one on the left, except the repeated $\\mathbf  y _n$ nodes are inside a box, known as a plate; the number in the lower right hand corner, $N$, specifies the number of repetitions of the $\\mathbf  y _n$ node. "
   ]
  },
  {
   "cell_type": "code",
   "execution_count": null,
   "metadata": {},
   "outputs": [],
   "source": [
    " #@title Setup { display-mode: \"form\" }\n",
    "%%time\n",
    "# If you run this for the first time it would take ~25/30 seconds\n",
    "!git clone https://github.com/probml/pyprobml /pyprobml &> /dev/null && git clone https://github.com/probml/colab_powertoys.git &> /dev/null \n",
    "!pip3 install nbimporter -qqq \n",
    "%cd -q /content/colab_powertoys \n",
    "from colab_powertoys.probml_toys import probml_toys as pmlt\n",
    "%cd -q /pyprobml/scripts\n"
   ]
  },
  {
   "cell_type": "code",
   "execution_count": null,
   "metadata": {},
   "outputs": [],
   "source": [
    "pmlt.show_image(\"/pyprobml/book1/figures/images/Figure_3.17.png\")"
   ]
  },
  {
   "cell_type": "markdown",
   "metadata": {},
   "source": [
    "## Figure 3.18:<a name='3.18'></a> <a name='gmmDgm'></a> "
   ]
  },
  {
   "cell_type": "markdown",
   "metadata": {},
   "source": [
    "\n",
    "  A Gaussian mixture model represented as a graphical model. "
   ]
  },
  {
   "cell_type": "code",
   "execution_count": null,
   "metadata": {},
   "outputs": [],
   "source": [
    " #@title Setup { display-mode: \"form\" }\n",
    "%%time\n",
    "# If you run this for the first time it would take ~25/30 seconds\n",
    "!git clone https://github.com/probml/pyprobml /pyprobml &> /dev/null && git clone https://github.com/probml/colab_powertoys.git &> /dev/null \n",
    "!pip3 install nbimporter -qqq \n",
    "%cd -q /content/colab_powertoys \n",
    "from colab_powertoys.probml_toys import probml_toys as pmlt\n",
    "%cd -q /pyprobml/scripts\n"
   ]
  },
  {
   "cell_type": "code",
   "execution_count": null,
   "metadata": {},
   "outputs": [],
   "source": [
    "pmlt.show_image(\"/pyprobml/book1/figures/images/Figure_3.18.png\")"
   ]
  },
  {
   "cell_type": "markdown",
   "metadata": {},
   "source": [
    "## References:\n",
    " <a name='BishopBook'>[Bis06]</a> C. Bishop \"Pattern recognition and machine learning\". (2006). \n",
    "\n",
    "<a name='Zoran2011'>[DY11]</a> Z. D and W. Y. \"From learning models of natural image patches to whole imagerestoration\". (2011). \n",
    "\n",
    "<a name='Rosenbaum2015'>[DY15]</a> R. Dan and W. Yair. \"The Return of the Gating Network: Combining Generative Modelsand Discriminative Training in Natural Image Priors\". (2015). \n",
    "\n",
    "<a name='VonKugelgen2020'>[JLB20]</a> v. Julius, G. Luigi and S. Bernhard. \"Simpson's paradox in Covid-19 case fatality rates: amediation analysis of age-related causal effects\". abs/2005.07180 (2020). arXiv: 2005.07180 \n",
    "\n"
   ]
  }
 ],
 "metadata": {
  "kernelspec": {
   "display_name": "Python 3",
   "name": "python3"
  }
 },
 "nbformat": 4,
 "nbformat_minor": 4
}
