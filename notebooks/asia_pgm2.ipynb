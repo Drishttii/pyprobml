{
  "nbformat": 4,
  "nbformat_minor": 0,
  "metadata": {
    "colab": {
      "name": "Copy of asia_pgm.ipynb",
      "provenance": [],
      "toc_visible": true
    },
    "kernelspec": {
      "name": "python3",
      "display_name": "Python 3"
    },
    "language_info": {
      "name": "python"
    }
  },
  "cells": [
    {
      "cell_type": "markdown",
      "metadata": {
        "id": "caeOoFYBb5p2"
      },
      "source": [
        "# The \"Asia\"  graphical model\n",
        "\n",
        "We illustrate inference in the \"Asia\" medical diagnosis network.\n",
        "Network is from http://www.bnlearn.com/bnrepository/#asia.\n"
      ]
    },
    {
      "cell_type": "code",
      "metadata": {
        "colab": {
          "base_uri": "https://localhost:8080/"
        },
        "id": "p4SVMjkpbcJ7",
        "outputId": "56637954-ef6c-417e-f213-cd4faac87d3d"
      },
      "source": [
        "!pip install  causalgraphicalmodels\n",
        "!pip install pgmpy\n",
        "\n",
        "#!ls /usr/local/lib/python3.7/dist-packages/pgmpy/utils"
      ],
      "execution_count": 1,
      "outputs": [
        {
          "output_type": "stream",
          "text": [
            "Collecting causalgraphicalmodels\n",
            "  Downloading https://files.pythonhosted.org/packages/c8/ee/3b2d184576f3cb4873cebfc696e8e5c1e53eaef691f38aea76c206f9f916/causalgraphicalmodels-0.0.4-py3-none-any.whl\n",
            "Requirement already satisfied: numpy in /usr/local/lib/python3.7/dist-packages (from causalgraphicalmodels) (1.19.5)\n",
            "Requirement already satisfied: networkx in /usr/local/lib/python3.7/dist-packages (from causalgraphicalmodels) (2.5.1)\n",
            "Requirement already satisfied: pandas in /usr/local/lib/python3.7/dist-packages (from causalgraphicalmodels) (1.1.5)\n",
            "Requirement already satisfied: graphviz in /usr/local/lib/python3.7/dist-packages (from causalgraphicalmodels) (0.10.1)\n",
            "Requirement already satisfied: decorator<5,>=4.3 in /usr/local/lib/python3.7/dist-packages (from networkx->causalgraphicalmodels) (4.4.2)\n",
            "Requirement already satisfied: pytz>=2017.2 in /usr/local/lib/python3.7/dist-packages (from pandas->causalgraphicalmodels) (2018.9)\n",
            "Requirement already satisfied: python-dateutil>=2.7.3 in /usr/local/lib/python3.7/dist-packages (from pandas->causalgraphicalmodels) (2.8.1)\n",
            "Requirement already satisfied: six>=1.5 in /usr/local/lib/python3.7/dist-packages (from python-dateutil>=2.7.3->pandas->causalgraphicalmodels) (1.15.0)\n",
            "Installing collected packages: causalgraphicalmodels\n",
            "Successfully installed causalgraphicalmodels-0.0.4\n",
            "Collecting pgmpy\n",
            "\u001b[?25l  Downloading https://files.pythonhosted.org/packages/a3/0e/d9fadbfaa35e010c04d43acd3ae9fbefec98897dd7d61a6b7eb5a8b34072/pgmpy-0.1.14-py3-none-any.whl (331kB)\n",
            "\u001b[K     |████████████████████████████████| 337kB 8.0MB/s \n",
            "\u001b[?25hRequirement already satisfied: scikit-learn in /usr/local/lib/python3.7/dist-packages (from pgmpy) (0.22.2.post1)\n",
            "Requirement already satisfied: numpy in /usr/local/lib/python3.7/dist-packages (from pgmpy) (1.19.5)\n",
            "Requirement already satisfied: scipy in /usr/local/lib/python3.7/dist-packages (from pgmpy) (1.4.1)\n",
            "Requirement already satisfied: torch in /usr/local/lib/python3.7/dist-packages (from pgmpy) (1.8.1+cu101)\n",
            "Requirement already satisfied: pandas in /usr/local/lib/python3.7/dist-packages (from pgmpy) (1.1.5)\n",
            "Requirement already satisfied: pyparsing in /usr/local/lib/python3.7/dist-packages (from pgmpy) (2.4.7)\n",
            "Requirement already satisfied: joblib in /usr/local/lib/python3.7/dist-packages (from pgmpy) (1.0.1)\n",
            "Requirement already satisfied: tqdm in /usr/local/lib/python3.7/dist-packages (from pgmpy) (4.41.1)\n",
            "Requirement already satisfied: networkx in /usr/local/lib/python3.7/dist-packages (from pgmpy) (2.5.1)\n",
            "Requirement already satisfied: statsmodels in /usr/local/lib/python3.7/dist-packages (from pgmpy) (0.10.2)\n",
            "Requirement already satisfied: typing-extensions in /usr/local/lib/python3.7/dist-packages (from torch->pgmpy) (3.7.4.3)\n",
            "Requirement already satisfied: python-dateutil>=2.7.3 in /usr/local/lib/python3.7/dist-packages (from pandas->pgmpy) (2.8.1)\n",
            "Requirement already satisfied: pytz>=2017.2 in /usr/local/lib/python3.7/dist-packages (from pandas->pgmpy) (2018.9)\n",
            "Requirement already satisfied: decorator<5,>=4.3 in /usr/local/lib/python3.7/dist-packages (from networkx->pgmpy) (4.4.2)\n",
            "Requirement already satisfied: patsy>=0.4.0 in /usr/local/lib/python3.7/dist-packages (from statsmodels->pgmpy) (0.5.1)\n",
            "Requirement already satisfied: six>=1.5 in /usr/local/lib/python3.7/dist-packages (from python-dateutil>=2.7.3->pandas->pgmpy) (1.15.0)\n",
            "Installing collected packages: pgmpy\n",
            "Successfully installed pgmpy-0.1.14\n"
          ],
          "name": "stdout"
        }
      ]
    },
    {
      "cell_type": "code",
      "metadata": {
        "id": "Go1UPp8eMIyC"
      },
      "source": [
        "from causalgraphicalmodels import CausalGraphicalModel\n",
        "import pgmpy\n",
        "import numpy as np\n",
        "import pandas as pd\n",
        "from graphviz import Digraph"
      ],
      "execution_count": 2,
      "outputs": []
    },
    {
      "cell_type": "markdown",
      "metadata": {
        "id": "u_-A-Hai4LbM"
      },
      "source": [
        "# Model"
      ]
    },
    {
      "cell_type": "code",
      "metadata": {
        "id": "Il1OHrxj3e8Y"
      },
      "source": [
        "#from pgmpy.utils import get_example_model\n",
        "#asia = get_example_model('asia')\n",
        "# No such file or directory: 'pgmpy/utils/example_models/asia.bif.gz'"
      ],
      "execution_count": 3,
      "outputs": []
    },
    {
      "cell_type": "code",
      "metadata": {
        "id": "OGsv1dt81oyI"
      },
      "source": [
        "#!wget https://raw.githubusercontent.com/d2l-ai/d2l-en/master/d2l/torch.py -q -O d2l.py\n",
        "\n",
        "!wget https://www.bnlearn.com/bnrepository/asia/asia.bif.gz -q -O asia.bif.gz\n",
        "!gunzip asia.bif.gz"
      ],
      "execution_count": 4,
      "outputs": []
    },
    {
      "cell_type": "code",
      "metadata": {
        "id": "l8xzIiLr0En0",
        "colab": {
          "base_uri": "https://localhost:8080/"
        },
        "outputId": "7ed97f8a-3d40-4f20-caf1-41a707e6c35f"
      },
      "source": [
        "from pgmpy.readwrite import BIFReader, BIFWriter\n",
        "reader = BIFReader(\"asia.bif\")\n",
        "model = reader.get_model()\n",
        "\n",
        "print(\"Nodes: \", model.nodes())\n",
        "print(\"Edges: \", model.edges())\n",
        "model.get_cpds()"
      ],
      "execution_count": 5,
      "outputs": [
        {
          "output_type": "stream",
          "text": [
            "Nodes:  ['asia', 'tub', 'smoke', 'lung', 'bronc', 'either', 'xray', 'dysp']\n",
            "Edges:  [('asia', 'tub'), ('tub', 'either'), ('smoke', 'lung'), ('smoke', 'bronc'), ('lung', 'either'), ('bronc', 'dysp'), ('either', 'xray'), ('either', 'dysp')]\n"
          ],
          "name": "stdout"
        },
        {
          "output_type": "execute_result",
          "data": {
            "text/plain": [
              "[<TabularCPD representing P(asia:2) at 0x7f5bb534f090>,\n",
              " <TabularCPD representing P(bronc:2 | smoke:2) at 0x7f5bb59f3950>,\n",
              " <TabularCPD representing P(dysp:2 | bronc:2, either:2) at 0x7f5bb6a11c10>,\n",
              " <TabularCPD representing P(either:2 | lung:2, tub:2) at 0x7f5bb53c4f90>,\n",
              " <TabularCPD representing P(lung:2 | smoke:2) at 0x7f5bb5355bd0>,\n",
              " <TabularCPD representing P(smoke:2) at 0x7f5bb5355e10>,\n",
              " <TabularCPD representing P(tub:2 | asia:2) at 0x7f5bb5355a90>,\n",
              " <TabularCPD representing P(xray:2 | either:2) at 0x7f5bb5355c90>]"
            ]
          },
          "metadata": {
            "tags": []
          },
          "execution_count": 5
        }
      ]
    },
    {
      "cell_type": "code",
      "metadata": {
        "colab": {
          "base_uri": "https://localhost:8080/"
        },
        "id": "d1GFKz5t5kxA",
        "outputId": "1affbcfd-c535-45c7-a5db-fce1530886cf"
      },
      "source": [
        "for c in model.get_cpds():\n",
        "  print(c)"
      ],
      "execution_count": 6,
      "outputs": [
        {
          "output_type": "stream",
          "text": [
            "+-----------+------+\n",
            "| asia(yes) | 0.01 |\n",
            "+-----------+------+\n",
            "| asia(no)  | 0.99 |\n",
            "+-----------+------+\n",
            "+------------+------------+-----------+\n",
            "| smoke      | smoke(yes) | smoke(no) |\n",
            "+------------+------------+-----------+\n",
            "| bronc(yes) | 0.6        | 0.3       |\n",
            "+------------+------------+-----------+\n",
            "| bronc(no)  | 0.4        | 0.7       |\n",
            "+------------+------------+-----------+\n",
            "+-----------+-------------+------------+-------------+------------+\n",
            "| bronc     | bronc(yes)  | bronc(yes) | bronc(no)   | bronc(no)  |\n",
            "+-----------+-------------+------------+-------------+------------+\n",
            "| either    | either(yes) | either(no) | either(yes) | either(no) |\n",
            "+-----------+-------------+------------+-------------+------------+\n",
            "| dysp(yes) | 0.9         | 0.8        | 0.7         | 0.1        |\n",
            "+-----------+-------------+------------+-------------+------------+\n",
            "| dysp(no)  | 0.1         | 0.2        | 0.3         | 0.9        |\n",
            "+-----------+-------------+------------+-------------+------------+\n",
            "+-------------+-----------+-----------+----------+----------+\n",
            "| lung        | lung(yes) | lung(yes) | lung(no) | lung(no) |\n",
            "+-------------+-----------+-----------+----------+----------+\n",
            "| tub         | tub(yes)  | tub(no)   | tub(yes) | tub(no)  |\n",
            "+-------------+-----------+-----------+----------+----------+\n",
            "| either(yes) | 1.0       | 1.0       | 1.0      | 0.0      |\n",
            "+-------------+-----------+-----------+----------+----------+\n",
            "| either(no)  | 0.0       | 0.0       | 0.0      | 1.0      |\n",
            "+-------------+-----------+-----------+----------+----------+\n",
            "+-----------+------------+-----------+\n",
            "| smoke     | smoke(yes) | smoke(no) |\n",
            "+-----------+------------+-----------+\n",
            "| lung(yes) | 0.1        | 0.01      |\n",
            "+-----------+------------+-----------+\n",
            "| lung(no)  | 0.9        | 0.99      |\n",
            "+-----------+------------+-----------+\n",
            "+------------+-----+\n",
            "| smoke(yes) | 0.5 |\n",
            "+------------+-----+\n",
            "| smoke(no)  | 0.5 |\n",
            "+------------+-----+\n",
            "+----------+-----------+----------+\n",
            "| asia     | asia(yes) | asia(no) |\n",
            "+----------+-----------+----------+\n",
            "| tub(yes) | 0.05      | 0.01     |\n",
            "+----------+-----------+----------+\n",
            "| tub(no)  | 0.95      | 0.99     |\n",
            "+----------+-----------+----------+\n",
            "+-----------+-------------+------------+\n",
            "| either    | either(yes) | either(no) |\n",
            "+-----------+-------------+------------+\n",
            "| xray(yes) | 0.98        | 0.05       |\n",
            "+-----------+-------------+------------+\n",
            "| xray(no)  | 0.02        | 0.95       |\n",
            "+-----------+-------------+------------+\n"
          ],
          "name": "stdout"
        }
      ]
    },
    {
      "cell_type": "code",
      "metadata": {
        "colab": {
          "base_uri": "https://localhost:8080/"
        },
        "id": "8jzeJCpE50kw",
        "outputId": "f8d0f222-e7fb-4a05-a8a7-26c2c879b9c5"
      },
      "source": [
        "asia_cpd = model.get_cpds()[0]\n",
        "print(asia_cpd)\n",
        "print(asia_cpd.values)\n",
        "asia_prior_true = asia_cpd.values[1]"
      ],
      "execution_count": 7,
      "outputs": [
        {
          "output_type": "stream",
          "text": [
            "+-----------+------+\n",
            "| asia(yes) | 0.01 |\n",
            "+-----------+------+\n",
            "| asia(no)  | 0.99 |\n",
            "+-----------+------+\n",
            "[0.01 0.99]\n"
          ],
          "name": "stdout"
        }
      ]
    },
    {
      "cell_type": "code",
      "metadata": {
        "colab": {
          "base_uri": "https://localhost:8080/"
        },
        "id": "VDNdkr0_6TsN",
        "outputId": "985ac72a-a1f8-4144-ef84-4bf2fbfafc18"
      },
      "source": [
        "smoking_cpd = model.get_cpds()[5]\n",
        "print(smoking_cpd)\n",
        "print(smoking_cpd.values)\n",
        "smoking_prior_true = smoking_cpd.values[1]"
      ],
      "execution_count": 8,
      "outputs": [
        {
          "output_type": "stream",
          "text": [
            "+------------+-----+\n",
            "| smoke(yes) | 0.5 |\n",
            "+------------+-----+\n",
            "| smoke(no)  | 0.5 |\n",
            "+------------+-----+\n",
            "[0.5 0.5]\n"
          ],
          "name": "stdout"
        }
      ]
    },
    {
      "cell_type": "code",
      "metadata": {
        "id": "K8gIy5Bk2XJR",
        "colab": {
          "base_uri": "https://localhost:8080/",
          "height": 388
        },
        "outputId": "61f875e9-925f-45b5-fb0b-85f67b01b1a6"
      },
      "source": [
        "asia = CausalGraphicalModel(nodes = model.nodes(), edges=model.edges())\n",
        "nodes = model.nodes()\n",
        "out = asia.draw()\n",
        "display(out)\n",
        "out.render()"
      ],
      "execution_count": 9,
      "outputs": [
        {
          "output_type": "display_data",
          "data": {
            "text/plain": [
              "<graphviz.dot.Digraph at 0x7f5bb531f8d0>"
            ],
            "image/svg+xml": "<?xml version=\"1.0\" encoding=\"UTF-8\" standalone=\"no\"?>\n<!DOCTYPE svg PUBLIC \"-//W3C//DTD SVG 1.1//EN\"\n \"http://www.w3.org/Graphics/SVG/1.1/DTD/svg11.dtd\">\n<!-- Generated by graphviz version 2.40.1 (20161225.0304)\n -->\n<!-- Title: %3 Pages: 1 -->\n<svg width=\"196pt\" height=\"260pt\"\n viewBox=\"0.00 0.00 196.50 260.00\" xmlns=\"http://www.w3.org/2000/svg\" xmlns:xlink=\"http://www.w3.org/1999/xlink\">\n<g id=\"graph0\" class=\"graph\" transform=\"scale(1 1) rotate(0) translate(4 256)\">\n<title>%3</title>\n<polygon fill=\"#ffffff\" stroke=\"transparent\" points=\"-4,4 -4,-256 192.4971,-256 192.4971,4 -4,4\"/>\n<!-- tub -->\n<g id=\"node1\" class=\"node\">\n<title>tub</title>\n<ellipse fill=\"none\" stroke=\"#000000\" cx=\"161.4971\" cy=\"-162\" rx=\"27\" ry=\"18\"/>\n<text text-anchor=\"middle\" x=\"161.4971\" y=\"-158.3\" font-family=\"Times,serif\" font-size=\"14.00\" fill=\"#000000\">tub</text>\n</g>\n<!-- either -->\n<g id=\"node5\" class=\"node\">\n<title>either</title>\n<ellipse fill=\"none\" stroke=\"#000000\" cx=\"114.4971\" cy=\"-90\" rx=\"31.3957\" ry=\"18\"/>\n<text text-anchor=\"middle\" x=\"114.4971\" y=\"-86.3\" font-family=\"Times,serif\" font-size=\"14.00\" fill=\"#000000\">either</text>\n</g>\n<!-- tub&#45;&gt;either -->\n<g id=\"edge2\" class=\"edge\">\n<title>tub&#45;&gt;either</title>\n<path fill=\"none\" stroke=\"#000000\" d=\"M150.5962,-145.3008C144.8659,-136.5224 137.7166,-125.5703 131.2957,-115.7339\"/>\n<polygon fill=\"#000000\" stroke=\"#000000\" points=\"134.0624,-113.5693 125.6653,-107.1086 128.2007,-117.3956 134.0624,-113.5693\"/>\n</g>\n<!-- lung -->\n<g id=\"node2\" class=\"node\">\n<title>lung</title>\n<ellipse fill=\"none\" stroke=\"#000000\" cx=\"88.4971\" cy=\"-162\" rx=\"27.8951\" ry=\"18\"/>\n<text text-anchor=\"middle\" x=\"88.4971\" y=\"-158.3\" font-family=\"Times,serif\" font-size=\"14.00\" fill=\"#000000\">lung</text>\n</g>\n<!-- lung&#45;&gt;either -->\n<g id=\"edge5\" class=\"edge\">\n<title>lung&#45;&gt;either</title>\n<path fill=\"none\" stroke=\"#000000\" d=\"M94.9241,-144.2022C97.8304,-136.1541 101.3314,-126.4588 104.5642,-117.5067\"/>\n<polygon fill=\"#000000\" stroke=\"#000000\" points=\"107.9494,-118.4369 108.054,-107.8425 101.3655,-116.0593 107.9494,-118.4369\"/>\n</g>\n<!-- asia -->\n<g id=\"node3\" class=\"node\">\n<title>asia</title>\n<ellipse fill=\"none\" stroke=\"#000000\" cx=\"161.4971\" cy=\"-234\" rx=\"27\" ry=\"18\"/>\n<text text-anchor=\"middle\" x=\"161.4971\" y=\"-230.3\" font-family=\"Times,serif\" font-size=\"14.00\" fill=\"#000000\">asia</text>\n</g>\n<!-- asia&#45;&gt;tub -->\n<g id=\"edge1\" class=\"edge\">\n<title>asia&#45;&gt;tub</title>\n<path fill=\"none\" stroke=\"#000000\" d=\"M161.4971,-215.8314C161.4971,-208.131 161.4971,-198.9743 161.4971,-190.4166\"/>\n<polygon fill=\"#000000\" stroke=\"#000000\" points=\"164.9972,-190.4132 161.4971,-180.4133 157.9972,-190.4133 164.9972,-190.4132\"/>\n</g>\n<!-- xray -->\n<g id=\"node4\" class=\"node\">\n<title>xray</title>\n<ellipse fill=\"none\" stroke=\"#000000\" cx=\"114.4971\" cy=\"-18\" rx=\"27.0966\" ry=\"18\"/>\n<text text-anchor=\"middle\" x=\"114.4971\" y=\"-14.3\" font-family=\"Times,serif\" font-size=\"14.00\" fill=\"#000000\">xray</text>\n</g>\n<!-- either&#45;&gt;xray -->\n<g id=\"edge7\" class=\"edge\">\n<title>either&#45;&gt;xray</title>\n<path fill=\"none\" stroke=\"#000000\" d=\"M114.4971,-71.8314C114.4971,-64.131 114.4971,-54.9743 114.4971,-46.4166\"/>\n<polygon fill=\"#000000\" stroke=\"#000000\" points=\"117.9972,-46.4132 114.4971,-36.4133 110.9972,-46.4133 117.9972,-46.4132\"/>\n</g>\n<!-- dysp -->\n<g id=\"node6\" class=\"node\">\n<title>dysp</title>\n<ellipse fill=\"none\" stroke=\"#000000\" cx=\"36.4971\" cy=\"-18\" rx=\"28.6953\" ry=\"18\"/>\n<text text-anchor=\"middle\" x=\"36.4971\" y=\"-14.3\" font-family=\"Times,serif\" font-size=\"14.00\" fill=\"#000000\">dysp</text>\n</g>\n<!-- either&#45;&gt;dysp -->\n<g id=\"edge8\" class=\"edge\">\n<title>either&#45;&gt;dysp</title>\n<path fill=\"none\" stroke=\"#000000\" d=\"M97.9553,-74.7307C87.0236,-64.6398 72.5207,-51.2526 60.3488,-40.0169\"/>\n<polygon fill=\"#000000\" stroke=\"#000000\" points=\"62.4697,-37.2115 52.7476,-33.0004 57.7217,-42.3551 62.4697,-37.2115\"/>\n</g>\n<!-- bronc -->\n<g id=\"node7\" class=\"node\">\n<title>bronc</title>\n<ellipse fill=\"none\" stroke=\"#000000\" cx=\"32.4971\" cy=\"-90\" rx=\"32.4942\" ry=\"18\"/>\n<text text-anchor=\"middle\" x=\"32.4971\" y=\"-86.3\" font-family=\"Times,serif\" font-size=\"14.00\" fill=\"#000000\">bronc</text>\n</g>\n<!-- bronc&#45;&gt;dysp -->\n<g id=\"edge6\" class=\"edge\">\n<title>bronc&#45;&gt;dysp</title>\n<path fill=\"none\" stroke=\"#000000\" d=\"M33.5065,-71.8314C33.9343,-64.131 34.443,-54.9743 34.9184,-46.4166\"/>\n<polygon fill=\"#000000\" stroke=\"#000000\" points=\"38.414,-46.592 35.4742,-36.4133 31.4248,-46.2037 38.414,-46.592\"/>\n</g>\n<!-- smoke -->\n<g id=\"node8\" class=\"node\">\n<title>smoke</title>\n<ellipse fill=\"none\" stroke=\"#000000\" cx=\"57.4971\" cy=\"-234\" rx=\"35.194\" ry=\"18\"/>\n<text text-anchor=\"middle\" x=\"57.4971\" y=\"-230.3\" font-family=\"Times,serif\" font-size=\"14.00\" fill=\"#000000\">smoke</text>\n</g>\n<!-- smoke&#45;&gt;lung -->\n<g id=\"edge3\" class=\"edge\">\n<title>smoke&#45;&gt;lung</title>\n<path fill=\"none\" stroke=\"#000000\" d=\"M65.16,-216.2022C68.6888,-208.0064 72.953,-198.1024 76.8659,-189.0145\"/>\n<polygon fill=\"#000000\" stroke=\"#000000\" points=\"80.1824,-190.162 80.9223,-179.593 73.753,-187.3938 80.1824,-190.162\"/>\n</g>\n<!-- smoke&#45;&gt;bronc -->\n<g id=\"edge4\" class=\"edge\">\n<title>smoke&#45;&gt;bronc</title>\n<path fill=\"none\" stroke=\"#000000\" d=\"M54.3814,-216.0535C50.1147,-191.4774 42.4104,-147.1008 37.3751,-118.0974\"/>\n<polygon fill=\"#000000\" stroke=\"#000000\" points=\"40.8111,-117.4266 35.6521,-108.1727 33.9143,-118.624 40.8111,-117.4266\"/>\n</g>\n</g>\n</svg>\n"
          },
          "metadata": {
            "tags": []
          }
        },
        {
          "output_type": "execute_result",
          "data": {
            "application/vnd.google.colaboratory.intrinsic+json": {
              "type": "string"
            },
            "text/plain": [
              "'Digraph.gv.pdf'"
            ]
          },
          "metadata": {
            "tags": []
          },
          "execution_count": 9
        }
      ]
    },
    {
      "cell_type": "markdown",
      "metadata": {
        "id": "3s_MxAup4Ol2"
      },
      "source": [
        "# Inference"
      ]
    },
    {
      "cell_type": "code",
      "metadata": {
        "id": "dJwoaVgi47Oe"
      },
      "source": [
        "from pgmpy.inference import VariableElimination\n",
        "infer = VariableElimination(model)"
      ],
      "execution_count": 10,
      "outputs": []
    },
    {
      "cell_type": "code",
      "metadata": {
        "id": "RENNeAKA9nbj"
      },
      "source": [
        "def get_marginals(evidence = {}):\n",
        "  nodes = model.nodes()\n",
        "  num_nodes = len(nodes)\n",
        "  marginals = dict()\n",
        "  for n in nodes:\n",
        "    if n in evidence: # observed nodes\n",
        "      v = evidence[n]\n",
        "      if v == 1:      \n",
        "        marginals[n] = 1.0 # clamped to state 1\n",
        "      else:\n",
        "        marginals[n] = 0.0 # clamped to state 0\n",
        "    else:\n",
        "      probs = infer.query([n], evidence=evidence).values\n",
        "      marginals[n] = probs[1] # probability in state 1\n",
        "  return marginals\n"
      ],
      "execution_count": 11,
      "outputs": []
    },
    {
      "cell_type": "code",
      "metadata": {
        "id": "r1_t_YvN0XwF"
      },
      "source": [
        "def visualization(marginals, model):\n",
        "  h = Digraph('asia_net')\n",
        "  titles = list(marginals.keys())\n",
        "  yes_prob = list(marginals.values())\n",
        "  no_prob = [1 - x for x in yes_prob]\n",
        "  for i in range(len(marginals)):\n",
        "    h.node(titles[i], label='''<<TABLE>\n",
        "      <TR PORT=\"header\">\n",
        "          <TD BGCOLOR=\"#d23939\" COLSPAN=\"2\"> {} </TD>\n",
        "      </TR>\n",
        "      <TR>\n",
        "        <TD>yes</TD>\n",
        "        <TD>{:.2f}</TD>\n",
        "      </TR>\n",
        "      <TR>\n",
        "        <TD>no</TD>\n",
        "        <TD>{:.2f}</TD>\n",
        "      </TR>\n",
        "    </TABLE>>'''.format(titles[i], yes_prob[i], no_prob[i]))\n",
        "\n",
        "  edges = (model.edges())\n",
        "  for item in edges:\n",
        "    edge = list(item)\n",
        "    h.edge(edge[0], edge[1])\n",
        "  \n",
        "  return h\n"
      ],
      "execution_count": 12,
      "outputs": []
    },
    {
      "cell_type": "markdown",
      "metadata": {
        "id": "Fo1Z_lqa4fnB"
      },
      "source": [
        "## Prior marginals"
      ]
    },
    {
      "cell_type": "code",
      "metadata": {
        "colab": {
          "base_uri": "https://localhost:8080/",
          "height": 1000
        },
        "id": "wIj_U9mC-Q3M",
        "outputId": "6ef551bf-acee-4612-ea2d-5ff3af30824b"
      },
      "source": [
        "marginals = get_marginals()\n",
        "for k, v in marginals.items():\n",
        "  print(k, v)\n",
        "assert np.allclose(asia_prior_true, marginals['asia']) #Asia (0.5, 0.5)\n",
        "h = visualization(marginals, model)\n",
        "h"
      ],
      "execution_count": 13,
      "outputs": [
        {
          "output_type": "stream",
          "text": [
            "Finding Elimination Order: : 100%|██████████| 7/7 [00:00<00:00, 1424.56it/s]\n",
            "Eliminating: either: 100%|██████████| 7/7 [00:00<00:00, 259.84it/s]\n",
            "Finding Elimination Order: : 100%|██████████| 7/7 [00:00<00:00, 1044.36it/s]\n",
            "Eliminating: either: 100%|██████████| 7/7 [00:00<00:00, 236.92it/s]\n",
            "Finding Elimination Order: : 100%|██████████| 7/7 [00:00<00:00, 917.91it/s]\n",
            "Eliminating: either: 100%|██████████| 7/7 [00:00<00:00, 253.14it/s]\n",
            "Finding Elimination Order: : 100%|██████████| 7/7 [00:00<00:00, 2309.64it/s]\n",
            "Eliminating: either: 100%|██████████| 7/7 [00:00<00:00, 369.69it/s]\n",
            "Finding Elimination Order: : 100%|██████████| 7/7 [00:00<00:00, 2028.05it/s]\n",
            "Eliminating: either: 100%|██████████| 7/7 [00:00<00:00, 379.30it/s]\n",
            "Finding Elimination Order: : 100%|██████████| 7/7 [00:00<00:00, 1937.71it/s]\n",
            "Eliminating: xray: 100%|██████████| 7/7 [00:00<00:00, 277.38it/s]\n",
            "Finding Elimination Order: : 100%|██████████| 7/7 [00:00<00:00, 878.73it/s]\n",
            "Eliminating: either: 100%|██████████| 7/7 [00:00<00:00, 261.39it/s]\n",
            "Finding Elimination Order: : 100%|██████████| 7/7 [00:00<00:00, 2573.19it/s]\n",
            "Eliminating: either: 100%|██████████| 7/7 [00:00<00:00, 325.55it/s]\n"
          ],
          "name": "stderr"
        },
        {
          "output_type": "stream",
          "text": [
            "asia 0.99\n",
            "tub 0.9896\n",
            "smoke 0.49999999999999994\n",
            "lung 0.945\n",
            "bronc 0.55\n",
            "either 0.935172\n",
            "xray 0.88970996\n",
            "dysp 0.5640294\n"
          ],
          "name": "stdout"
        },
        {
          "output_type": "execute_result",
          "data": {
            "text/plain": [
              "<graphviz.dot.Digraph at 0x7f5bb5300f90>"
            ],
            "image/svg+xml": "<?xml version=\"1.0\" encoding=\"UTF-8\" standalone=\"no\"?>\n<!DOCTYPE svg PUBLIC \"-//W3C//DTD SVG 1.1//EN\"\n \"http://www.w3.org/Graphics/SVG/1.1/DTD/svg11.dtd\">\n<!-- Generated by graphviz version 2.40.1 (20161225.0304)\n -->\n<!-- Title: asia_net Pages: 1 -->\n<svg width=\"344pt\" height=\"574pt\"\n viewBox=\"0.00 0.00 343.97 574.21\" xmlns=\"http://www.w3.org/2000/svg\" xmlns:xlink=\"http://www.w3.org/1999/xlink\">\n<g id=\"graph0\" class=\"graph\" transform=\"scale(1 1) rotate(0) translate(4 570.2052)\">\n<title>asia_net</title>\n<polygon fill=\"#ffffff\" stroke=\"transparent\" points=\"-4,4 -4,-570.2052 339.9655,-570.2052 339.9655,4 -4,4\"/>\n<!-- asia -->\n<g id=\"node1\" class=\"node\">\n<title>asia</title>\n<ellipse fill=\"none\" stroke=\"#000000\" cx=\"57.9828\" cy=\"-508.9295\" rx=\"57.9655\" ry=\"57.0522\"/>\n<polygon fill=\"#d23939\" stroke=\"transparent\" points=\"27.9828,-520.9295 27.9828,-541.9295 87.9828,-541.9295 87.9828,-520.9295 27.9828,-520.9295\"/>\n<polygon fill=\"none\" stroke=\"#000000\" points=\"27.9828,-520.9295 27.9828,-541.9295 87.9828,-541.9295 87.9828,-520.9295 27.9828,-520.9295\"/>\n<text text-anchor=\"start\" x=\"43.4828\" y=\"-527.7295\" font-family=\"Times,serif\" font-size=\"14.00\" fill=\"#000000\"> asia </text>\n<polygon fill=\"none\" stroke=\"#000000\" points=\"27.9828,-497.9295 27.9828,-518.9295 52.9828,-518.9295 52.9828,-497.9295 27.9828,-497.9295\"/>\n<text text-anchor=\"start\" x=\"30.9828\" y=\"-504.7295\" font-family=\"Times,serif\" font-size=\"14.00\" fill=\"#000000\">yes</text>\n<polygon fill=\"none\" stroke=\"#000000\" points=\"54.9828,-497.9295 54.9828,-518.9295 87.9828,-518.9295 87.9828,-497.9295 54.9828,-497.9295\"/>\n<text text-anchor=\"start\" x=\"57.9828\" y=\"-504.7295\" font-family=\"Times,serif\" font-size=\"14.00\" fill=\"#000000\">0.99</text>\n<polygon fill=\"none\" stroke=\"#000000\" points=\"27.9828,-474.9295 27.9828,-495.9295 52.9828,-495.9295 52.9828,-474.9295 27.9828,-474.9295\"/>\n<text text-anchor=\"start\" x=\"32.4828\" y=\"-481.7295\" font-family=\"Times,serif\" font-size=\"14.00\" fill=\"#000000\">no</text>\n<polygon fill=\"none\" stroke=\"#000000\" points=\"54.9828,-474.9295 54.9828,-495.9295 87.9828,-495.9295 87.9828,-474.9295 54.9828,-474.9295\"/>\n<text text-anchor=\"start\" x=\"57.9828\" y=\"-481.7295\" font-family=\"Times,serif\" font-size=\"14.00\" fill=\"#000000\">0.01</text>\n<polygon fill=\"none\" stroke=\"#000000\" points=\"24.9828,-472.4295 24.9828,-545.4295 90.9828,-545.4295 90.9828,-472.4295 24.9828,-472.4295\"/>\n</g>\n<!-- tub -->\n<g id=\"node2\" class=\"node\">\n<title>tub</title>\n<ellipse fill=\"none\" stroke=\"#000000\" cx=\"57.9828\" cy=\"-358.3782\" rx=\"57.9655\" ry=\"57.0522\"/>\n<polygon fill=\"#d23939\" stroke=\"transparent\" points=\"27.9828,-370.3782 27.9828,-391.3782 87.9828,-391.3782 87.9828,-370.3782 27.9828,-370.3782\"/>\n<polygon fill=\"none\" stroke=\"#000000\" points=\"27.9828,-370.3782 27.9828,-391.3782 87.9828,-391.3782 87.9828,-370.3782 27.9828,-370.3782\"/>\n<text text-anchor=\"start\" x=\"44.4828\" y=\"-377.1782\" font-family=\"Times,serif\" font-size=\"14.00\" fill=\"#000000\"> tub </text>\n<polygon fill=\"none\" stroke=\"#000000\" points=\"27.9828,-347.3782 27.9828,-368.3782 52.9828,-368.3782 52.9828,-347.3782 27.9828,-347.3782\"/>\n<text text-anchor=\"start\" x=\"30.9828\" y=\"-354.1782\" font-family=\"Times,serif\" font-size=\"14.00\" fill=\"#000000\">yes</text>\n<polygon fill=\"none\" stroke=\"#000000\" points=\"54.9828,-347.3782 54.9828,-368.3782 87.9828,-368.3782 87.9828,-347.3782 54.9828,-347.3782\"/>\n<text text-anchor=\"start\" x=\"57.9828\" y=\"-354.1782\" font-family=\"Times,serif\" font-size=\"14.00\" fill=\"#000000\">0.99</text>\n<polygon fill=\"none\" stroke=\"#000000\" points=\"27.9828,-324.3782 27.9828,-345.3782 52.9828,-345.3782 52.9828,-324.3782 27.9828,-324.3782\"/>\n<text text-anchor=\"start\" x=\"32.4828\" y=\"-331.1782\" font-family=\"Times,serif\" font-size=\"14.00\" fill=\"#000000\">no</text>\n<polygon fill=\"none\" stroke=\"#000000\" points=\"54.9828,-324.3782 54.9828,-345.3782 87.9828,-345.3782 87.9828,-324.3782 54.9828,-324.3782\"/>\n<text text-anchor=\"start\" x=\"57.9828\" y=\"-331.1782\" font-family=\"Times,serif\" font-size=\"14.00\" fill=\"#000000\">0.01</text>\n<polygon fill=\"none\" stroke=\"#000000\" points=\"24.9828,-321.8782 24.9828,-394.8782 90.9828,-394.8782 90.9828,-321.8782 24.9828,-321.8782\"/>\n</g>\n<!-- asia&#45;&gt;tub -->\n<g id=\"edge1\" class=\"edge\">\n<title>asia&#45;&gt;tub</title>\n<path fill=\"none\" stroke=\"#000000\" d=\"M57.9828,-451.5831C57.9828,-443.3123 57.9828,-434.7349 57.9828,-426.2827\"/>\n<polygon fill=\"#000000\" stroke=\"#000000\" points=\"61.4829,-426.064 57.9828,-416.064 54.4829,-426.064 61.4829,-426.064\"/>\n</g>\n<!-- either -->\n<g id=\"node6\" class=\"node\">\n<title>either</title>\n<ellipse fill=\"none\" stroke=\"#000000\" cx=\"143.9828\" cy=\"-207.8269\" rx=\"57.9655\" ry=\"57.0522\"/>\n<polygon fill=\"#d23939\" stroke=\"transparent\" points=\"113.9828,-219.8269 113.9828,-240.8269 173.9828,-240.8269 173.9828,-219.8269 113.9828,-219.8269\"/>\n<polygon fill=\"none\" stroke=\"#000000\" points=\"113.9828,-219.8269 113.9828,-240.8269 173.9828,-240.8269 173.9828,-219.8269 113.9828,-219.8269\"/>\n<text text-anchor=\"start\" x=\"123.9828\" y=\"-226.6269\" font-family=\"Times,serif\" font-size=\"14.00\" fill=\"#000000\"> either </text>\n<polygon fill=\"none\" stroke=\"#000000\" points=\"113.9828,-196.8269 113.9828,-217.8269 138.9828,-217.8269 138.9828,-196.8269 113.9828,-196.8269\"/>\n<text text-anchor=\"start\" x=\"116.9828\" y=\"-203.6269\" font-family=\"Times,serif\" font-size=\"14.00\" fill=\"#000000\">yes</text>\n<polygon fill=\"none\" stroke=\"#000000\" points=\"140.9828,-196.8269 140.9828,-217.8269 173.9828,-217.8269 173.9828,-196.8269 140.9828,-196.8269\"/>\n<text text-anchor=\"start\" x=\"143.9828\" y=\"-203.6269\" font-family=\"Times,serif\" font-size=\"14.00\" fill=\"#000000\">0.94</text>\n<polygon fill=\"none\" stroke=\"#000000\" points=\"113.9828,-173.8269 113.9828,-194.8269 138.9828,-194.8269 138.9828,-173.8269 113.9828,-173.8269\"/>\n<text text-anchor=\"start\" x=\"118.4828\" y=\"-180.6269\" font-family=\"Times,serif\" font-size=\"14.00\" fill=\"#000000\">no</text>\n<polygon fill=\"none\" stroke=\"#000000\" points=\"140.9828,-173.8269 140.9828,-194.8269 173.9828,-194.8269 173.9828,-173.8269 140.9828,-173.8269\"/>\n<text text-anchor=\"start\" x=\"143.9828\" y=\"-180.6269\" font-family=\"Times,serif\" font-size=\"14.00\" fill=\"#000000\">0.06</text>\n<polygon fill=\"none\" stroke=\"#000000\" points=\"110.9828,-171.3269 110.9828,-244.3269 176.9828,-244.3269 176.9828,-171.3269 110.9828,-171.3269\"/>\n</g>\n<!-- tub&#45;&gt;either -->\n<g id=\"edge2\" class=\"edge\">\n<title>tub&#45;&gt;either</title>\n<path fill=\"none\" stroke=\"#000000\" d=\"M86.6195,-308.2468C94.2351,-294.9149 102.5299,-280.3942 110.3845,-266.6439\"/>\n<polygon fill=\"#000000\" stroke=\"#000000\" points=\"113.55,-268.1587 115.4711,-257.7394 107.4718,-264.6866 113.55,-268.1587\"/>\n</g>\n<!-- smoke -->\n<g id=\"node3\" class=\"node\">\n<title>smoke</title>\n<ellipse fill=\"none\" stroke=\"#000000\" cx=\"234.9828\" cy=\"-508.9295\" rx=\"57.9655\" ry=\"57.0522\"/>\n<polygon fill=\"#d23939\" stroke=\"transparent\" points=\"204.9828,-520.9295 204.9828,-541.9295 264.9828,-541.9295 264.9828,-520.9295 204.9828,-520.9295\"/>\n<polygon fill=\"none\" stroke=\"#000000\" points=\"204.9828,-520.9295 204.9828,-541.9295 264.9828,-541.9295 264.9828,-520.9295 204.9828,-520.9295\"/>\n<text text-anchor=\"start\" x=\"211.9828\" y=\"-527.7295\" font-family=\"Times,serif\" font-size=\"14.00\" fill=\"#000000\"> smoke </text>\n<polygon fill=\"none\" stroke=\"#000000\" points=\"204.9828,-497.9295 204.9828,-518.9295 229.9828,-518.9295 229.9828,-497.9295 204.9828,-497.9295\"/>\n<text text-anchor=\"start\" x=\"207.9828\" y=\"-504.7295\" font-family=\"Times,serif\" font-size=\"14.00\" fill=\"#000000\">yes</text>\n<polygon fill=\"none\" stroke=\"#000000\" points=\"231.9828,-497.9295 231.9828,-518.9295 264.9828,-518.9295 264.9828,-497.9295 231.9828,-497.9295\"/>\n<text text-anchor=\"start\" x=\"234.9828\" y=\"-504.7295\" font-family=\"Times,serif\" font-size=\"14.00\" fill=\"#000000\">0.50</text>\n<polygon fill=\"none\" stroke=\"#000000\" points=\"204.9828,-474.9295 204.9828,-495.9295 229.9828,-495.9295 229.9828,-474.9295 204.9828,-474.9295\"/>\n<text text-anchor=\"start\" x=\"209.4828\" y=\"-481.7295\" font-family=\"Times,serif\" font-size=\"14.00\" fill=\"#000000\">no</text>\n<polygon fill=\"none\" stroke=\"#000000\" points=\"231.9828,-474.9295 231.9828,-495.9295 264.9828,-495.9295 264.9828,-474.9295 231.9828,-474.9295\"/>\n<text text-anchor=\"start\" x=\"234.9828\" y=\"-481.7295\" font-family=\"Times,serif\" font-size=\"14.00\" fill=\"#000000\">0.50</text>\n<polygon fill=\"none\" stroke=\"#000000\" points=\"201.9828,-472.4295 201.9828,-545.4295 267.9828,-545.4295 267.9828,-472.4295 201.9828,-472.4295\"/>\n</g>\n<!-- lung -->\n<g id=\"node4\" class=\"node\">\n<title>lung</title>\n<ellipse fill=\"none\" stroke=\"#000000\" cx=\"191.9828\" cy=\"-358.3782\" rx=\"57.9655\" ry=\"57.0522\"/>\n<polygon fill=\"#d23939\" stroke=\"transparent\" points=\"161.9828,-370.3782 161.9828,-391.3782 221.9828,-391.3782 221.9828,-370.3782 161.9828,-370.3782\"/>\n<polygon fill=\"none\" stroke=\"#000000\" points=\"161.9828,-370.3782 161.9828,-391.3782 221.9828,-391.3782 221.9828,-370.3782 161.9828,-370.3782\"/>\n<text text-anchor=\"start\" x=\"174.9828\" y=\"-377.1782\" font-family=\"Times,serif\" font-size=\"14.00\" fill=\"#000000\"> lung </text>\n<polygon fill=\"none\" stroke=\"#000000\" points=\"161.9828,-347.3782 161.9828,-368.3782 186.9828,-368.3782 186.9828,-347.3782 161.9828,-347.3782\"/>\n<text text-anchor=\"start\" x=\"164.9828\" y=\"-354.1782\" font-family=\"Times,serif\" font-size=\"14.00\" fill=\"#000000\">yes</text>\n<polygon fill=\"none\" stroke=\"#000000\" points=\"188.9828,-347.3782 188.9828,-368.3782 221.9828,-368.3782 221.9828,-347.3782 188.9828,-347.3782\"/>\n<text text-anchor=\"start\" x=\"191.9828\" y=\"-354.1782\" font-family=\"Times,serif\" font-size=\"14.00\" fill=\"#000000\">0.94</text>\n<polygon fill=\"none\" stroke=\"#000000\" points=\"161.9828,-324.3782 161.9828,-345.3782 186.9828,-345.3782 186.9828,-324.3782 161.9828,-324.3782\"/>\n<text text-anchor=\"start\" x=\"166.4828\" y=\"-331.1782\" font-family=\"Times,serif\" font-size=\"14.00\" fill=\"#000000\">no</text>\n<polygon fill=\"none\" stroke=\"#000000\" points=\"188.9828,-324.3782 188.9828,-345.3782 221.9828,-345.3782 221.9828,-324.3782 188.9828,-324.3782\"/>\n<text text-anchor=\"start\" x=\"191.9828\" y=\"-331.1782\" font-family=\"Times,serif\" font-size=\"14.00\" fill=\"#000000\">0.06</text>\n<polygon fill=\"none\" stroke=\"#000000\" points=\"158.9828,-321.8782 158.9828,-394.8782 224.9828,-394.8782 224.9828,-321.8782 158.9828,-321.8782\"/>\n</g>\n<!-- smoke&#45;&gt;lung -->\n<g id=\"edge3\" class=\"edge\">\n<title>smoke&#45;&gt;lung</title>\n<path fill=\"none\" stroke=\"#000000\" d=\"M219.2153,-453.7247C216.3817,-443.8037 213.4048,-433.381 210.5018,-423.2171\"/>\n<polygon fill=\"#000000\" stroke=\"#000000\" points=\"213.8601,-422.2307 207.7483,-413.5764 207.1293,-424.1532 213.8601,-422.2307\"/>\n</g>\n<!-- bronc -->\n<g id=\"node5\" class=\"node\">\n<title>bronc</title>\n<ellipse fill=\"none\" stroke=\"#000000\" cx=\"277.9828\" cy=\"-207.8269\" rx=\"57.9655\" ry=\"57.0522\"/>\n<polygon fill=\"#d23939\" stroke=\"transparent\" points=\"247.9828,-219.8269 247.9828,-240.8269 307.9828,-240.8269 307.9828,-219.8269 247.9828,-219.8269\"/>\n<polygon fill=\"none\" stroke=\"#000000\" points=\"247.9828,-219.8269 247.9828,-240.8269 307.9828,-240.8269 307.9828,-219.8269 247.9828,-219.8269\"/>\n<text text-anchor=\"start\" x=\"257.4828\" y=\"-226.6269\" font-family=\"Times,serif\" font-size=\"14.00\" fill=\"#000000\"> bronc </text>\n<polygon fill=\"none\" stroke=\"#000000\" points=\"247.9828,-196.8269 247.9828,-217.8269 272.9828,-217.8269 272.9828,-196.8269 247.9828,-196.8269\"/>\n<text text-anchor=\"start\" x=\"250.9828\" y=\"-203.6269\" font-family=\"Times,serif\" font-size=\"14.00\" fill=\"#000000\">yes</text>\n<polygon fill=\"none\" stroke=\"#000000\" points=\"274.9828,-196.8269 274.9828,-217.8269 307.9828,-217.8269 307.9828,-196.8269 274.9828,-196.8269\"/>\n<text text-anchor=\"start\" x=\"277.9828\" y=\"-203.6269\" font-family=\"Times,serif\" font-size=\"14.00\" fill=\"#000000\">0.55</text>\n<polygon fill=\"none\" stroke=\"#000000\" points=\"247.9828,-173.8269 247.9828,-194.8269 272.9828,-194.8269 272.9828,-173.8269 247.9828,-173.8269\"/>\n<text text-anchor=\"start\" x=\"252.4828\" y=\"-180.6269\" font-family=\"Times,serif\" font-size=\"14.00\" fill=\"#000000\">no</text>\n<polygon fill=\"none\" stroke=\"#000000\" points=\"274.9828,-173.8269 274.9828,-194.8269 307.9828,-194.8269 307.9828,-173.8269 274.9828,-173.8269\"/>\n<text text-anchor=\"start\" x=\"277.9828\" y=\"-180.6269\" font-family=\"Times,serif\" font-size=\"14.00\" fill=\"#000000\">0.45</text>\n<polygon fill=\"none\" stroke=\"#000000\" points=\"244.9828,-171.3269 244.9828,-244.3269 310.9828,-244.3269 310.9828,-171.3269 244.9828,-171.3269\"/>\n</g>\n<!-- smoke&#45;&gt;bronc -->\n<g id=\"edge4\" class=\"edge\">\n<title>smoke&#45;&gt;bronc</title>\n<path fill=\"none\" stroke=\"#000000\" d=\"M250.8002,-453.512C253.8963,-441.1332 256.8425,-428.0108 258.9828,-415.6539 267.0488,-369.0849 271.8279,-316.0137 274.5755,-275.158\"/>\n<polygon fill=\"#000000\" stroke=\"#000000\" points=\"278.0767,-275.2511 275.2311,-265.0456 271.0914,-274.7982 278.0767,-275.2511\"/>\n</g>\n<!-- lung&#45;&gt;either -->\n<g id=\"edge5\" class=\"edge\">\n<title>lung&#45;&gt;either</title>\n<path fill=\"none\" stroke=\"#000000\" d=\"M174.5179,-303.5999C171.2547,-293.3651 167.8171,-282.5831 164.4725,-272.0926\"/>\n<polygon fill=\"#000000\" stroke=\"#000000\" points=\"167.807,-271.0288 161.4346,-262.5645 161.1377,-273.1552 167.807,-271.0288\"/>\n</g>\n<!-- dysp -->\n<g id=\"node8\" class=\"node\">\n<title>dysp</title>\n<ellipse fill=\"none\" stroke=\"#000000\" cx=\"277.9828\" cy=\"-57.2756\" rx=\"57.9655\" ry=\"57.0522\"/>\n<polygon fill=\"#d23939\" stroke=\"transparent\" points=\"247.9828,-69.2756 247.9828,-90.2756 307.9828,-90.2756 307.9828,-69.2756 247.9828,-69.2756\"/>\n<polygon fill=\"none\" stroke=\"#000000\" points=\"247.9828,-69.2756 247.9828,-90.2756 307.9828,-90.2756 307.9828,-69.2756 247.9828,-69.2756\"/>\n<text text-anchor=\"start\" x=\"259.9828\" y=\"-76.0756\" font-family=\"Times,serif\" font-size=\"14.00\" fill=\"#000000\"> dysp </text>\n<polygon fill=\"none\" stroke=\"#000000\" points=\"247.9828,-46.2756 247.9828,-67.2756 272.9828,-67.2756 272.9828,-46.2756 247.9828,-46.2756\"/>\n<text text-anchor=\"start\" x=\"250.9828\" y=\"-53.0756\" font-family=\"Times,serif\" font-size=\"14.00\" fill=\"#000000\">yes</text>\n<polygon fill=\"none\" stroke=\"#000000\" points=\"274.9828,-46.2756 274.9828,-67.2756 307.9828,-67.2756 307.9828,-46.2756 274.9828,-46.2756\"/>\n<text text-anchor=\"start\" x=\"277.9828\" y=\"-53.0756\" font-family=\"Times,serif\" font-size=\"14.00\" fill=\"#000000\">0.56</text>\n<polygon fill=\"none\" stroke=\"#000000\" points=\"247.9828,-23.2756 247.9828,-44.2756 272.9828,-44.2756 272.9828,-23.2756 247.9828,-23.2756\"/>\n<text text-anchor=\"start\" x=\"252.4828\" y=\"-30.0756\" font-family=\"Times,serif\" font-size=\"14.00\" fill=\"#000000\">no</text>\n<polygon fill=\"none\" stroke=\"#000000\" points=\"274.9828,-23.2756 274.9828,-44.2756 307.9828,-44.2756 307.9828,-23.2756 274.9828,-23.2756\"/>\n<text text-anchor=\"start\" x=\"277.9828\" y=\"-30.0756\" font-family=\"Times,serif\" font-size=\"14.00\" fill=\"#000000\">0.44</text>\n<polygon fill=\"none\" stroke=\"#000000\" points=\"244.9828,-20.7756 244.9828,-93.7756 310.9828,-93.7756 310.9828,-20.7756 244.9828,-20.7756\"/>\n</g>\n<!-- bronc&#45;&gt;dysp -->\n<g id=\"edge6\" class=\"edge\">\n<title>bronc&#45;&gt;dysp</title>\n<path fill=\"none\" stroke=\"#000000\" d=\"M277.9828,-150.4805C277.9828,-142.2097 277.9828,-133.6324 277.9828,-125.1801\"/>\n<polygon fill=\"#000000\" stroke=\"#000000\" points=\"281.4829,-124.9614 277.9828,-114.9614 274.4829,-124.9614 281.4829,-124.9614\"/>\n</g>\n<!-- xray -->\n<g id=\"node7\" class=\"node\">\n<title>xray</title>\n<ellipse fill=\"none\" stroke=\"#000000\" cx=\"143.9828\" cy=\"-57.2756\" rx=\"57.9655\" ry=\"57.0522\"/>\n<polygon fill=\"#d23939\" stroke=\"transparent\" points=\"113.9828,-69.2756 113.9828,-90.2756 173.9828,-90.2756 173.9828,-69.2756 113.9828,-69.2756\"/>\n<polygon fill=\"none\" stroke=\"#000000\" points=\"113.9828,-69.2756 113.9828,-90.2756 173.9828,-90.2756 173.9828,-69.2756 113.9828,-69.2756\"/>\n<text text-anchor=\"start\" x=\"126.9828\" y=\"-76.0756\" font-family=\"Times,serif\" font-size=\"14.00\" fill=\"#000000\"> xray </text>\n<polygon fill=\"none\" stroke=\"#000000\" points=\"113.9828,-46.2756 113.9828,-67.2756 138.9828,-67.2756 138.9828,-46.2756 113.9828,-46.2756\"/>\n<text text-anchor=\"start\" x=\"116.9828\" y=\"-53.0756\" font-family=\"Times,serif\" font-size=\"14.00\" fill=\"#000000\">yes</text>\n<polygon fill=\"none\" stroke=\"#000000\" points=\"140.9828,-46.2756 140.9828,-67.2756 173.9828,-67.2756 173.9828,-46.2756 140.9828,-46.2756\"/>\n<text text-anchor=\"start\" x=\"143.9828\" y=\"-53.0756\" font-family=\"Times,serif\" font-size=\"14.00\" fill=\"#000000\">0.89</text>\n<polygon fill=\"none\" stroke=\"#000000\" points=\"113.9828,-23.2756 113.9828,-44.2756 138.9828,-44.2756 138.9828,-23.2756 113.9828,-23.2756\"/>\n<text text-anchor=\"start\" x=\"118.4828\" y=\"-30.0756\" font-family=\"Times,serif\" font-size=\"14.00\" fill=\"#000000\">no</text>\n<polygon fill=\"none\" stroke=\"#000000\" points=\"140.9828,-23.2756 140.9828,-44.2756 173.9828,-44.2756 173.9828,-23.2756 140.9828,-23.2756\"/>\n<text text-anchor=\"start\" x=\"144.4828\" y=\"-30.0756\" font-family=\"Times,serif\" font-size=\"14.00\" fill=\"#000000\">0.11</text>\n<polygon fill=\"none\" stroke=\"#000000\" points=\"110.9828,-20.7756 110.9828,-93.7756 176.9828,-93.7756 176.9828,-20.7756 110.9828,-20.7756\"/>\n</g>\n<!-- either&#45;&gt;xray -->\n<g id=\"edge7\" class=\"edge\">\n<title>either&#45;&gt;xray</title>\n<path fill=\"none\" stroke=\"#000000\" d=\"M143.9828,-150.4805C143.9828,-142.2097 143.9828,-133.6324 143.9828,-125.1801\"/>\n<polygon fill=\"#000000\" stroke=\"#000000\" points=\"147.4829,-124.9614 143.9828,-114.9614 140.4829,-124.9614 147.4829,-124.9614\"/>\n</g>\n<!-- either&#45;&gt;dysp -->\n<g id=\"edge8\" class=\"edge\">\n<title>either&#45;&gt;dysp</title>\n<path fill=\"none\" stroke=\"#000000\" d=\"M182.3818,-164.685C198.0813,-147.0463 216.36,-126.5099 232.7048,-108.1462\"/>\n<polygon fill=\"#000000\" stroke=\"#000000\" points=\"235.544,-110.2207 239.5781,-100.4239 230.3151,-105.5667 235.544,-110.2207\"/>\n</g>\n</g>\n</svg>\n"
          },
          "metadata": {
            "tags": []
          },
          "execution_count": 13
        }
      ]
    },
    {
      "cell_type": "markdown",
      "metadata": {
        "id": "StB-XG1z7FEP"
      },
      "source": [
        "## Posterior marginals given dsypnea=present"
      ]
    },
    {
      "cell_type": "code",
      "metadata": {
        "colab": {
          "base_uri": "https://localhost:8080/",
          "height": 1000
        },
        "id": "ZMcpy_pA67bi",
        "outputId": "ea928d8a-3a5b-47fe-c724-7b8992622d81"
      },
      "source": [
        "evidence  = {'dysp': 0}\n",
        "marginals = get_marginals(evidence)\n",
        "print('\\n')\n",
        "for k, v in marginals.items():\n",
        "  print(k, v)\n",
        "h = visualization(marginals, model)\n",
        "h"
      ],
      "execution_count": 14,
      "outputs": [
        {
          "output_type": "stream",
          "text": [
            "/usr/local/lib/python3.7/dist-packages/pgmpy/factors/discrete/DiscreteFactor.py:519: UserWarning: Found unknown state name. Trying to switch to using all state names as state numbers\n",
            "  \"Found unknown state name. Trying to switch to using all state names as state numbers\"\n",
            "Finding Elimination Order: : 100%|██████████| 6/6 [00:00<00:00, 1096.84it/s]\n",
            "Eliminating: either: 100%|██████████| 6/6 [00:00<00:00, 313.34it/s]\n",
            "Finding Elimination Order: : 100%|██████████| 6/6 [00:00<00:00, 1172.63it/s]\n",
            "Eliminating: either: 100%|██████████| 6/6 [00:00<00:00, 310.75it/s]\n",
            "Finding Elimination Order: : 100%|██████████| 6/6 [00:00<00:00, 1788.74it/s]\n",
            "Eliminating: either: 100%|██████████| 6/6 [00:00<00:00, 251.74it/s]\n",
            "Finding Elimination Order: : 100%|██████████| 6/6 [00:00<00:00, 1333.64it/s]\n",
            "Eliminating: either: 100%|██████████| 6/6 [00:00<00:00, 220.39it/s]\n",
            "Finding Elimination Order: : 100%|██████████| 6/6 [00:00<00:00, 776.51it/s]\n",
            "Eliminating: either: 100%|██████████| 6/6 [00:00<00:00, 248.01it/s]\n",
            "Finding Elimination Order: : 100%|██████████| 6/6 [00:00<00:00, 1301.77it/s]\n",
            "Eliminating: xray: 100%|██████████| 6/6 [00:00<00:00, 252.02it/s]\n",
            "Finding Elimination Order: : 100%|██████████| 6/6 [00:00<00:00, 1831.57it/s]\n",
            "Eliminating: either: 100%|██████████| 6/6 [00:00<00:00, 261.85it/s]\n"
          ],
          "name": "stderr"
        },
        {
          "output_type": "stream",
          "text": [
            "\n",
            "\n",
            "asia 0.9896750491890968\n",
            "tub 0.9811546925411943\n",
            "smoke 0.3660031203938981\n",
            "lung 0.8972407772450711\n",
            "bronc 0.1660326636704402\n",
            "either 0.8794641657029166\n",
            "xray 0.8379016741037125\n",
            "dysp 0.0\n"
          ],
          "name": "stdout"
        },
        {
          "output_type": "execute_result",
          "data": {
            "text/plain": [
              "<graphviz.dot.Digraph at 0x7f5bb5345bd0>"
            ],
            "image/svg+xml": "<?xml version=\"1.0\" encoding=\"UTF-8\" standalone=\"no\"?>\n<!DOCTYPE svg PUBLIC \"-//W3C//DTD SVG 1.1//EN\"\n \"http://www.w3.org/Graphics/SVG/1.1/DTD/svg11.dtd\">\n<!-- Generated by graphviz version 2.40.1 (20161225.0304)\n -->\n<!-- Title: asia_net Pages: 1 -->\n<svg width=\"344pt\" height=\"574pt\"\n viewBox=\"0.00 0.00 343.97 574.21\" xmlns=\"http://www.w3.org/2000/svg\" xmlns:xlink=\"http://www.w3.org/1999/xlink\">\n<g id=\"graph0\" class=\"graph\" transform=\"scale(1 1) rotate(0) translate(4 570.2052)\">\n<title>asia_net</title>\n<polygon fill=\"#ffffff\" stroke=\"transparent\" points=\"-4,4 -4,-570.2052 339.9655,-570.2052 339.9655,4 -4,4\"/>\n<!-- asia -->\n<g id=\"node1\" class=\"node\">\n<title>asia</title>\n<ellipse fill=\"none\" stroke=\"#000000\" cx=\"57.9828\" cy=\"-508.9295\" rx=\"57.9655\" ry=\"57.0522\"/>\n<polygon fill=\"#d23939\" stroke=\"transparent\" points=\"27.9828,-520.9295 27.9828,-541.9295 87.9828,-541.9295 87.9828,-520.9295 27.9828,-520.9295\"/>\n<polygon fill=\"none\" stroke=\"#000000\" points=\"27.9828,-520.9295 27.9828,-541.9295 87.9828,-541.9295 87.9828,-520.9295 27.9828,-520.9295\"/>\n<text text-anchor=\"start\" x=\"43.4828\" y=\"-527.7295\" font-family=\"Times,serif\" font-size=\"14.00\" fill=\"#000000\"> asia </text>\n<polygon fill=\"none\" stroke=\"#000000\" points=\"27.9828,-497.9295 27.9828,-518.9295 52.9828,-518.9295 52.9828,-497.9295 27.9828,-497.9295\"/>\n<text text-anchor=\"start\" x=\"30.9828\" y=\"-504.7295\" font-family=\"Times,serif\" font-size=\"14.00\" fill=\"#000000\">yes</text>\n<polygon fill=\"none\" stroke=\"#000000\" points=\"54.9828,-497.9295 54.9828,-518.9295 87.9828,-518.9295 87.9828,-497.9295 54.9828,-497.9295\"/>\n<text text-anchor=\"start\" x=\"57.9828\" y=\"-504.7295\" font-family=\"Times,serif\" font-size=\"14.00\" fill=\"#000000\">0.99</text>\n<polygon fill=\"none\" stroke=\"#000000\" points=\"27.9828,-474.9295 27.9828,-495.9295 52.9828,-495.9295 52.9828,-474.9295 27.9828,-474.9295\"/>\n<text text-anchor=\"start\" x=\"32.4828\" y=\"-481.7295\" font-family=\"Times,serif\" font-size=\"14.00\" fill=\"#000000\">no</text>\n<polygon fill=\"none\" stroke=\"#000000\" points=\"54.9828,-474.9295 54.9828,-495.9295 87.9828,-495.9295 87.9828,-474.9295 54.9828,-474.9295\"/>\n<text text-anchor=\"start\" x=\"57.9828\" y=\"-481.7295\" font-family=\"Times,serif\" font-size=\"14.00\" fill=\"#000000\">0.01</text>\n<polygon fill=\"none\" stroke=\"#000000\" points=\"24.9828,-472.4295 24.9828,-545.4295 90.9828,-545.4295 90.9828,-472.4295 24.9828,-472.4295\"/>\n</g>\n<!-- tub -->\n<g id=\"node2\" class=\"node\">\n<title>tub</title>\n<ellipse fill=\"none\" stroke=\"#000000\" cx=\"57.9828\" cy=\"-358.3782\" rx=\"57.9655\" ry=\"57.0522\"/>\n<polygon fill=\"#d23939\" stroke=\"transparent\" points=\"27.9828,-370.3782 27.9828,-391.3782 87.9828,-391.3782 87.9828,-370.3782 27.9828,-370.3782\"/>\n<polygon fill=\"none\" stroke=\"#000000\" points=\"27.9828,-370.3782 27.9828,-391.3782 87.9828,-391.3782 87.9828,-370.3782 27.9828,-370.3782\"/>\n<text text-anchor=\"start\" x=\"44.4828\" y=\"-377.1782\" font-family=\"Times,serif\" font-size=\"14.00\" fill=\"#000000\"> tub </text>\n<polygon fill=\"none\" stroke=\"#000000\" points=\"27.9828,-347.3782 27.9828,-368.3782 52.9828,-368.3782 52.9828,-347.3782 27.9828,-347.3782\"/>\n<text text-anchor=\"start\" x=\"30.9828\" y=\"-354.1782\" font-family=\"Times,serif\" font-size=\"14.00\" fill=\"#000000\">yes</text>\n<polygon fill=\"none\" stroke=\"#000000\" points=\"54.9828,-347.3782 54.9828,-368.3782 87.9828,-368.3782 87.9828,-347.3782 54.9828,-347.3782\"/>\n<text text-anchor=\"start\" x=\"57.9828\" y=\"-354.1782\" font-family=\"Times,serif\" font-size=\"14.00\" fill=\"#000000\">0.98</text>\n<polygon fill=\"none\" stroke=\"#000000\" points=\"27.9828,-324.3782 27.9828,-345.3782 52.9828,-345.3782 52.9828,-324.3782 27.9828,-324.3782\"/>\n<text text-anchor=\"start\" x=\"32.4828\" y=\"-331.1782\" font-family=\"Times,serif\" font-size=\"14.00\" fill=\"#000000\">no</text>\n<polygon fill=\"none\" stroke=\"#000000\" points=\"54.9828,-324.3782 54.9828,-345.3782 87.9828,-345.3782 87.9828,-324.3782 54.9828,-324.3782\"/>\n<text text-anchor=\"start\" x=\"57.9828\" y=\"-331.1782\" font-family=\"Times,serif\" font-size=\"14.00\" fill=\"#000000\">0.02</text>\n<polygon fill=\"none\" stroke=\"#000000\" points=\"24.9828,-321.8782 24.9828,-394.8782 90.9828,-394.8782 90.9828,-321.8782 24.9828,-321.8782\"/>\n</g>\n<!-- asia&#45;&gt;tub -->\n<g id=\"edge1\" class=\"edge\">\n<title>asia&#45;&gt;tub</title>\n<path fill=\"none\" stroke=\"#000000\" d=\"M57.9828,-451.5831C57.9828,-443.3123 57.9828,-434.7349 57.9828,-426.2827\"/>\n<polygon fill=\"#000000\" stroke=\"#000000\" points=\"61.4829,-426.064 57.9828,-416.064 54.4829,-426.064 61.4829,-426.064\"/>\n</g>\n<!-- either -->\n<g id=\"node6\" class=\"node\">\n<title>either</title>\n<ellipse fill=\"none\" stroke=\"#000000\" cx=\"143.9828\" cy=\"-207.8269\" rx=\"57.9655\" ry=\"57.0522\"/>\n<polygon fill=\"#d23939\" stroke=\"transparent\" points=\"113.9828,-219.8269 113.9828,-240.8269 173.9828,-240.8269 173.9828,-219.8269 113.9828,-219.8269\"/>\n<polygon fill=\"none\" stroke=\"#000000\" points=\"113.9828,-219.8269 113.9828,-240.8269 173.9828,-240.8269 173.9828,-219.8269 113.9828,-219.8269\"/>\n<text text-anchor=\"start\" x=\"123.9828\" y=\"-226.6269\" font-family=\"Times,serif\" font-size=\"14.00\" fill=\"#000000\"> either </text>\n<polygon fill=\"none\" stroke=\"#000000\" points=\"113.9828,-196.8269 113.9828,-217.8269 138.9828,-217.8269 138.9828,-196.8269 113.9828,-196.8269\"/>\n<text text-anchor=\"start\" x=\"116.9828\" y=\"-203.6269\" font-family=\"Times,serif\" font-size=\"14.00\" fill=\"#000000\">yes</text>\n<polygon fill=\"none\" stroke=\"#000000\" points=\"140.9828,-196.8269 140.9828,-217.8269 173.9828,-217.8269 173.9828,-196.8269 140.9828,-196.8269\"/>\n<text text-anchor=\"start\" x=\"143.9828\" y=\"-203.6269\" font-family=\"Times,serif\" font-size=\"14.00\" fill=\"#000000\">0.88</text>\n<polygon fill=\"none\" stroke=\"#000000\" points=\"113.9828,-173.8269 113.9828,-194.8269 138.9828,-194.8269 138.9828,-173.8269 113.9828,-173.8269\"/>\n<text text-anchor=\"start\" x=\"118.4828\" y=\"-180.6269\" font-family=\"Times,serif\" font-size=\"14.00\" fill=\"#000000\">no</text>\n<polygon fill=\"none\" stroke=\"#000000\" points=\"140.9828,-173.8269 140.9828,-194.8269 173.9828,-194.8269 173.9828,-173.8269 140.9828,-173.8269\"/>\n<text text-anchor=\"start\" x=\"143.9828\" y=\"-180.6269\" font-family=\"Times,serif\" font-size=\"14.00\" fill=\"#000000\">0.12</text>\n<polygon fill=\"none\" stroke=\"#000000\" points=\"110.9828,-171.3269 110.9828,-244.3269 176.9828,-244.3269 176.9828,-171.3269 110.9828,-171.3269\"/>\n</g>\n<!-- tub&#45;&gt;either -->\n<g id=\"edge2\" class=\"edge\">\n<title>tub&#45;&gt;either</title>\n<path fill=\"none\" stroke=\"#000000\" d=\"M86.6195,-308.2468C94.2351,-294.9149 102.5299,-280.3942 110.3845,-266.6439\"/>\n<polygon fill=\"#000000\" stroke=\"#000000\" points=\"113.55,-268.1587 115.4711,-257.7394 107.4718,-264.6866 113.55,-268.1587\"/>\n</g>\n<!-- smoke -->\n<g id=\"node3\" class=\"node\">\n<title>smoke</title>\n<ellipse fill=\"none\" stroke=\"#000000\" cx=\"234.9828\" cy=\"-508.9295\" rx=\"57.9655\" ry=\"57.0522\"/>\n<polygon fill=\"#d23939\" stroke=\"transparent\" points=\"204.9828,-520.9295 204.9828,-541.9295 264.9828,-541.9295 264.9828,-520.9295 204.9828,-520.9295\"/>\n<polygon fill=\"none\" stroke=\"#000000\" points=\"204.9828,-520.9295 204.9828,-541.9295 264.9828,-541.9295 264.9828,-520.9295 204.9828,-520.9295\"/>\n<text text-anchor=\"start\" x=\"211.9828\" y=\"-527.7295\" font-family=\"Times,serif\" font-size=\"14.00\" fill=\"#000000\"> smoke </text>\n<polygon fill=\"none\" stroke=\"#000000\" points=\"204.9828,-497.9295 204.9828,-518.9295 229.9828,-518.9295 229.9828,-497.9295 204.9828,-497.9295\"/>\n<text text-anchor=\"start\" x=\"207.9828\" y=\"-504.7295\" font-family=\"Times,serif\" font-size=\"14.00\" fill=\"#000000\">yes</text>\n<polygon fill=\"none\" stroke=\"#000000\" points=\"231.9828,-497.9295 231.9828,-518.9295 264.9828,-518.9295 264.9828,-497.9295 231.9828,-497.9295\"/>\n<text text-anchor=\"start\" x=\"234.9828\" y=\"-504.7295\" font-family=\"Times,serif\" font-size=\"14.00\" fill=\"#000000\">0.37</text>\n<polygon fill=\"none\" stroke=\"#000000\" points=\"204.9828,-474.9295 204.9828,-495.9295 229.9828,-495.9295 229.9828,-474.9295 204.9828,-474.9295\"/>\n<text text-anchor=\"start\" x=\"209.4828\" y=\"-481.7295\" font-family=\"Times,serif\" font-size=\"14.00\" fill=\"#000000\">no</text>\n<polygon fill=\"none\" stroke=\"#000000\" points=\"231.9828,-474.9295 231.9828,-495.9295 264.9828,-495.9295 264.9828,-474.9295 231.9828,-474.9295\"/>\n<text text-anchor=\"start\" x=\"234.9828\" y=\"-481.7295\" font-family=\"Times,serif\" font-size=\"14.00\" fill=\"#000000\">0.63</text>\n<polygon fill=\"none\" stroke=\"#000000\" points=\"201.9828,-472.4295 201.9828,-545.4295 267.9828,-545.4295 267.9828,-472.4295 201.9828,-472.4295\"/>\n</g>\n<!-- lung -->\n<g id=\"node4\" class=\"node\">\n<title>lung</title>\n<ellipse fill=\"none\" stroke=\"#000000\" cx=\"191.9828\" cy=\"-358.3782\" rx=\"57.9655\" ry=\"57.0522\"/>\n<polygon fill=\"#d23939\" stroke=\"transparent\" points=\"161.9828,-370.3782 161.9828,-391.3782 221.9828,-391.3782 221.9828,-370.3782 161.9828,-370.3782\"/>\n<polygon fill=\"none\" stroke=\"#000000\" points=\"161.9828,-370.3782 161.9828,-391.3782 221.9828,-391.3782 221.9828,-370.3782 161.9828,-370.3782\"/>\n<text text-anchor=\"start\" x=\"174.9828\" y=\"-377.1782\" font-family=\"Times,serif\" font-size=\"14.00\" fill=\"#000000\"> lung </text>\n<polygon fill=\"none\" stroke=\"#000000\" points=\"161.9828,-347.3782 161.9828,-368.3782 186.9828,-368.3782 186.9828,-347.3782 161.9828,-347.3782\"/>\n<text text-anchor=\"start\" x=\"164.9828\" y=\"-354.1782\" font-family=\"Times,serif\" font-size=\"14.00\" fill=\"#000000\">yes</text>\n<polygon fill=\"none\" stroke=\"#000000\" points=\"188.9828,-347.3782 188.9828,-368.3782 221.9828,-368.3782 221.9828,-347.3782 188.9828,-347.3782\"/>\n<text text-anchor=\"start\" x=\"191.9828\" y=\"-354.1782\" font-family=\"Times,serif\" font-size=\"14.00\" fill=\"#000000\">0.90</text>\n<polygon fill=\"none\" stroke=\"#000000\" points=\"161.9828,-324.3782 161.9828,-345.3782 186.9828,-345.3782 186.9828,-324.3782 161.9828,-324.3782\"/>\n<text text-anchor=\"start\" x=\"166.4828\" y=\"-331.1782\" font-family=\"Times,serif\" font-size=\"14.00\" fill=\"#000000\">no</text>\n<polygon fill=\"none\" stroke=\"#000000\" points=\"188.9828,-324.3782 188.9828,-345.3782 221.9828,-345.3782 221.9828,-324.3782 188.9828,-324.3782\"/>\n<text text-anchor=\"start\" x=\"191.9828\" y=\"-331.1782\" font-family=\"Times,serif\" font-size=\"14.00\" fill=\"#000000\">0.10</text>\n<polygon fill=\"none\" stroke=\"#000000\" points=\"158.9828,-321.8782 158.9828,-394.8782 224.9828,-394.8782 224.9828,-321.8782 158.9828,-321.8782\"/>\n</g>\n<!-- smoke&#45;&gt;lung -->\n<g id=\"edge3\" class=\"edge\">\n<title>smoke&#45;&gt;lung</title>\n<path fill=\"none\" stroke=\"#000000\" d=\"M219.2153,-453.7247C216.3817,-443.8037 213.4048,-433.381 210.5018,-423.2171\"/>\n<polygon fill=\"#000000\" stroke=\"#000000\" points=\"213.8601,-422.2307 207.7483,-413.5764 207.1293,-424.1532 213.8601,-422.2307\"/>\n</g>\n<!-- bronc -->\n<g id=\"node5\" class=\"node\">\n<title>bronc</title>\n<ellipse fill=\"none\" stroke=\"#000000\" cx=\"277.9828\" cy=\"-207.8269\" rx=\"57.9655\" ry=\"57.0522\"/>\n<polygon fill=\"#d23939\" stroke=\"transparent\" points=\"247.9828,-219.8269 247.9828,-240.8269 307.9828,-240.8269 307.9828,-219.8269 247.9828,-219.8269\"/>\n<polygon fill=\"none\" stroke=\"#000000\" points=\"247.9828,-219.8269 247.9828,-240.8269 307.9828,-240.8269 307.9828,-219.8269 247.9828,-219.8269\"/>\n<text text-anchor=\"start\" x=\"257.4828\" y=\"-226.6269\" font-family=\"Times,serif\" font-size=\"14.00\" fill=\"#000000\"> bronc </text>\n<polygon fill=\"none\" stroke=\"#000000\" points=\"247.9828,-196.8269 247.9828,-217.8269 272.9828,-217.8269 272.9828,-196.8269 247.9828,-196.8269\"/>\n<text text-anchor=\"start\" x=\"250.9828\" y=\"-203.6269\" font-family=\"Times,serif\" font-size=\"14.00\" fill=\"#000000\">yes</text>\n<polygon fill=\"none\" stroke=\"#000000\" points=\"274.9828,-196.8269 274.9828,-217.8269 307.9828,-217.8269 307.9828,-196.8269 274.9828,-196.8269\"/>\n<text text-anchor=\"start\" x=\"277.9828\" y=\"-203.6269\" font-family=\"Times,serif\" font-size=\"14.00\" fill=\"#000000\">0.17</text>\n<polygon fill=\"none\" stroke=\"#000000\" points=\"247.9828,-173.8269 247.9828,-194.8269 272.9828,-194.8269 272.9828,-173.8269 247.9828,-173.8269\"/>\n<text text-anchor=\"start\" x=\"252.4828\" y=\"-180.6269\" font-family=\"Times,serif\" font-size=\"14.00\" fill=\"#000000\">no</text>\n<polygon fill=\"none\" stroke=\"#000000\" points=\"274.9828,-173.8269 274.9828,-194.8269 307.9828,-194.8269 307.9828,-173.8269 274.9828,-173.8269\"/>\n<text text-anchor=\"start\" x=\"277.9828\" y=\"-180.6269\" font-family=\"Times,serif\" font-size=\"14.00\" fill=\"#000000\">0.83</text>\n<polygon fill=\"none\" stroke=\"#000000\" points=\"244.9828,-171.3269 244.9828,-244.3269 310.9828,-244.3269 310.9828,-171.3269 244.9828,-171.3269\"/>\n</g>\n<!-- smoke&#45;&gt;bronc -->\n<g id=\"edge4\" class=\"edge\">\n<title>smoke&#45;&gt;bronc</title>\n<path fill=\"none\" stroke=\"#000000\" d=\"M250.8002,-453.512C253.8963,-441.1332 256.8425,-428.0108 258.9828,-415.6539 267.0488,-369.0849 271.8279,-316.0137 274.5755,-275.158\"/>\n<polygon fill=\"#000000\" stroke=\"#000000\" points=\"278.0767,-275.2511 275.2311,-265.0456 271.0914,-274.7982 278.0767,-275.2511\"/>\n</g>\n<!-- lung&#45;&gt;either -->\n<g id=\"edge5\" class=\"edge\">\n<title>lung&#45;&gt;either</title>\n<path fill=\"none\" stroke=\"#000000\" d=\"M174.5179,-303.5999C171.2547,-293.3651 167.8171,-282.5831 164.4725,-272.0926\"/>\n<polygon fill=\"#000000\" stroke=\"#000000\" points=\"167.807,-271.0288 161.4346,-262.5645 161.1377,-273.1552 167.807,-271.0288\"/>\n</g>\n<!-- dysp -->\n<g id=\"node8\" class=\"node\">\n<title>dysp</title>\n<ellipse fill=\"none\" stroke=\"#000000\" cx=\"277.9828\" cy=\"-57.2756\" rx=\"57.9655\" ry=\"57.0522\"/>\n<polygon fill=\"#d23939\" stroke=\"transparent\" points=\"247.9828,-69.2756 247.9828,-90.2756 307.9828,-90.2756 307.9828,-69.2756 247.9828,-69.2756\"/>\n<polygon fill=\"none\" stroke=\"#000000\" points=\"247.9828,-69.2756 247.9828,-90.2756 307.9828,-90.2756 307.9828,-69.2756 247.9828,-69.2756\"/>\n<text text-anchor=\"start\" x=\"259.9828\" y=\"-76.0756\" font-family=\"Times,serif\" font-size=\"14.00\" fill=\"#000000\"> dysp </text>\n<polygon fill=\"none\" stroke=\"#000000\" points=\"247.9828,-46.2756 247.9828,-67.2756 272.9828,-67.2756 272.9828,-46.2756 247.9828,-46.2756\"/>\n<text text-anchor=\"start\" x=\"250.9828\" y=\"-53.0756\" font-family=\"Times,serif\" font-size=\"14.00\" fill=\"#000000\">yes</text>\n<polygon fill=\"none\" stroke=\"#000000\" points=\"274.9828,-46.2756 274.9828,-67.2756 307.9828,-67.2756 307.9828,-46.2756 274.9828,-46.2756\"/>\n<text text-anchor=\"start\" x=\"277.9828\" y=\"-53.0756\" font-family=\"Times,serif\" font-size=\"14.00\" fill=\"#000000\">0.00</text>\n<polygon fill=\"none\" stroke=\"#000000\" points=\"247.9828,-23.2756 247.9828,-44.2756 272.9828,-44.2756 272.9828,-23.2756 247.9828,-23.2756\"/>\n<text text-anchor=\"start\" x=\"252.4828\" y=\"-30.0756\" font-family=\"Times,serif\" font-size=\"14.00\" fill=\"#000000\">no</text>\n<polygon fill=\"none\" stroke=\"#000000\" points=\"274.9828,-23.2756 274.9828,-44.2756 307.9828,-44.2756 307.9828,-23.2756 274.9828,-23.2756\"/>\n<text text-anchor=\"start\" x=\"277.9828\" y=\"-30.0756\" font-family=\"Times,serif\" font-size=\"14.00\" fill=\"#000000\">1.00</text>\n<polygon fill=\"none\" stroke=\"#000000\" points=\"244.9828,-20.7756 244.9828,-93.7756 310.9828,-93.7756 310.9828,-20.7756 244.9828,-20.7756\"/>\n</g>\n<!-- bronc&#45;&gt;dysp -->\n<g id=\"edge6\" class=\"edge\">\n<title>bronc&#45;&gt;dysp</title>\n<path fill=\"none\" stroke=\"#000000\" d=\"M277.9828,-150.4805C277.9828,-142.2097 277.9828,-133.6324 277.9828,-125.1801\"/>\n<polygon fill=\"#000000\" stroke=\"#000000\" points=\"281.4829,-124.9614 277.9828,-114.9614 274.4829,-124.9614 281.4829,-124.9614\"/>\n</g>\n<!-- xray -->\n<g id=\"node7\" class=\"node\">\n<title>xray</title>\n<ellipse fill=\"none\" stroke=\"#000000\" cx=\"143.9828\" cy=\"-57.2756\" rx=\"57.9655\" ry=\"57.0522\"/>\n<polygon fill=\"#d23939\" stroke=\"transparent\" points=\"113.9828,-69.2756 113.9828,-90.2756 173.9828,-90.2756 173.9828,-69.2756 113.9828,-69.2756\"/>\n<polygon fill=\"none\" stroke=\"#000000\" points=\"113.9828,-69.2756 113.9828,-90.2756 173.9828,-90.2756 173.9828,-69.2756 113.9828,-69.2756\"/>\n<text text-anchor=\"start\" x=\"126.9828\" y=\"-76.0756\" font-family=\"Times,serif\" font-size=\"14.00\" fill=\"#000000\"> xray </text>\n<polygon fill=\"none\" stroke=\"#000000\" points=\"113.9828,-46.2756 113.9828,-67.2756 138.9828,-67.2756 138.9828,-46.2756 113.9828,-46.2756\"/>\n<text text-anchor=\"start\" x=\"116.9828\" y=\"-53.0756\" font-family=\"Times,serif\" font-size=\"14.00\" fill=\"#000000\">yes</text>\n<polygon fill=\"none\" stroke=\"#000000\" points=\"140.9828,-46.2756 140.9828,-67.2756 173.9828,-67.2756 173.9828,-46.2756 140.9828,-46.2756\"/>\n<text text-anchor=\"start\" x=\"143.9828\" y=\"-53.0756\" font-family=\"Times,serif\" font-size=\"14.00\" fill=\"#000000\">0.84</text>\n<polygon fill=\"none\" stroke=\"#000000\" points=\"113.9828,-23.2756 113.9828,-44.2756 138.9828,-44.2756 138.9828,-23.2756 113.9828,-23.2756\"/>\n<text text-anchor=\"start\" x=\"118.4828\" y=\"-30.0756\" font-family=\"Times,serif\" font-size=\"14.00\" fill=\"#000000\">no</text>\n<polygon fill=\"none\" stroke=\"#000000\" points=\"140.9828,-23.2756 140.9828,-44.2756 173.9828,-44.2756 173.9828,-23.2756 140.9828,-23.2756\"/>\n<text text-anchor=\"start\" x=\"143.9828\" y=\"-30.0756\" font-family=\"Times,serif\" font-size=\"14.00\" fill=\"#000000\">0.16</text>\n<polygon fill=\"none\" stroke=\"#000000\" points=\"110.9828,-20.7756 110.9828,-93.7756 176.9828,-93.7756 176.9828,-20.7756 110.9828,-20.7756\"/>\n</g>\n<!-- either&#45;&gt;xray -->\n<g id=\"edge7\" class=\"edge\">\n<title>either&#45;&gt;xray</title>\n<path fill=\"none\" stroke=\"#000000\" d=\"M143.9828,-150.4805C143.9828,-142.2097 143.9828,-133.6324 143.9828,-125.1801\"/>\n<polygon fill=\"#000000\" stroke=\"#000000\" points=\"147.4829,-124.9614 143.9828,-114.9614 140.4829,-124.9614 147.4829,-124.9614\"/>\n</g>\n<!-- either&#45;&gt;dysp -->\n<g id=\"edge8\" class=\"edge\">\n<title>either&#45;&gt;dysp</title>\n<path fill=\"none\" stroke=\"#000000\" d=\"M182.3818,-164.685C198.0813,-147.0463 216.36,-126.5099 232.7048,-108.1462\"/>\n<polygon fill=\"#000000\" stroke=\"#000000\" points=\"235.544,-110.2207 239.5781,-100.4239 230.3151,-105.5667 235.544,-110.2207\"/>\n</g>\n</g>\n</svg>\n"
          },
          "metadata": {
            "tags": []
          },
          "execution_count": 14
        }
      ]
    },
    {
      "cell_type": "markdown",
      "metadata": {
        "id": "4xM1w8qR8wgG"
      },
      "source": [
        "## Posterior marginals given dsypnea=present, asia=visit"
      ]
    },
    {
      "cell_type": "code",
      "metadata": {
        "colab": {
          "base_uri": "https://localhost:8080/",
          "height": 1000
        },
        "id": "eJJhZFWf70pl",
        "outputId": "e0d9e318-358f-4426-c447-f5b908b01a46"
      },
      "source": [
        "evidence  = {'dysp': 0, 'asia': 0}\n",
        "marginals = get_marginals(evidence)\n",
        "print('\\n')\n",
        "for k, v in marginals.items():\n",
        "  print(k, v)\n",
        "h = visualization(marginals, model)\n",
        "h"
      ],
      "execution_count": 15,
      "outputs": [
        {
          "output_type": "stream",
          "text": [
            "/usr/local/lib/python3.7/dist-packages/pgmpy/factors/discrete/DiscreteFactor.py:519: UserWarning: Found unknown state name. Trying to switch to using all state names as state numbers\n",
            "  \"Found unknown state name. Trying to switch to using all state names as state numbers\"\n",
            "Finding Elimination Order: : 100%|██████████| 5/5 [00:00<00:00, 1600.27it/s]\n",
            "Eliminating: either: 100%|██████████| 5/5 [00:00<00:00, 405.54it/s]\n",
            "Finding Elimination Order: : 100%|██████████| 5/5 [00:00<00:00, 1369.88it/s]\n",
            "Eliminating: either: 100%|██████████| 5/5 [00:00<00:00, 413.02it/s]\n",
            "Finding Elimination Order: : 100%|██████████| 5/5 [00:00<00:00, 1231.01it/s]\n",
            "Eliminating: either: 100%|██████████| 5/5 [00:00<00:00, 392.39it/s]\n",
            "Finding Elimination Order: : 100%|██████████| 5/5 [00:00<00:00, 880.27it/s]\n",
            "Eliminating: either: 100%|██████████| 5/5 [00:00<00:00, 313.83it/s]\n",
            "Finding Elimination Order: : 100%|██████████| 5/5 [00:00<00:00, 608.43it/s]\n",
            "Eliminating: xray: 100%|██████████| 5/5 [00:00<00:00, 346.88it/s]\n",
            "Finding Elimination Order: : 100%|██████████| 5/5 [00:00<00:00, 1398.66it/s]\n",
            "Eliminating: either: 100%|██████████| 5/5 [00:00<00:00, 344.35it/s]\n"
          ],
          "name": "stderr"
        },
        {
          "output_type": "stream",
          "text": [
            "\n",
            "\n",
            "asia 0.0\n",
            "tub 0.9122490350170781\n",
            "smoke 0.3740801421787787\n",
            "lung 0.9004748549054455\n",
            "bronc 0.1885979284107634\n",
            "either 0.8177001471772514\n",
            "xray 0.7804611368748438\n",
            "dysp 0.0\n"
          ],
          "name": "stdout"
        },
        {
          "output_type": "execute_result",
          "data": {
            "text/plain": [
              "<graphviz.dot.Digraph at 0x7f5bb42a38d0>"
            ],
            "image/svg+xml": "<?xml version=\"1.0\" encoding=\"UTF-8\" standalone=\"no\"?>\n<!DOCTYPE svg PUBLIC \"-//W3C//DTD SVG 1.1//EN\"\n \"http://www.w3.org/Graphics/SVG/1.1/DTD/svg11.dtd\">\n<!-- Generated by graphviz version 2.40.1 (20161225.0304)\n -->\n<!-- Title: asia_net Pages: 1 -->\n<svg width=\"344pt\" height=\"574pt\"\n viewBox=\"0.00 0.00 343.97 574.21\" xmlns=\"http://www.w3.org/2000/svg\" xmlns:xlink=\"http://www.w3.org/1999/xlink\">\n<g id=\"graph0\" class=\"graph\" transform=\"scale(1 1) rotate(0) translate(4 570.2052)\">\n<title>asia_net</title>\n<polygon fill=\"#ffffff\" stroke=\"transparent\" points=\"-4,4 -4,-570.2052 339.9655,-570.2052 339.9655,4 -4,4\"/>\n<!-- asia -->\n<g id=\"node1\" class=\"node\">\n<title>asia</title>\n<ellipse fill=\"none\" stroke=\"#000000\" cx=\"57.9828\" cy=\"-508.9295\" rx=\"57.9655\" ry=\"57.0522\"/>\n<polygon fill=\"#d23939\" stroke=\"transparent\" points=\"27.9828,-520.9295 27.9828,-541.9295 87.9828,-541.9295 87.9828,-520.9295 27.9828,-520.9295\"/>\n<polygon fill=\"none\" stroke=\"#000000\" points=\"27.9828,-520.9295 27.9828,-541.9295 87.9828,-541.9295 87.9828,-520.9295 27.9828,-520.9295\"/>\n<text text-anchor=\"start\" x=\"43.4828\" y=\"-527.7295\" font-family=\"Times,serif\" font-size=\"14.00\" fill=\"#000000\"> asia </text>\n<polygon fill=\"none\" stroke=\"#000000\" points=\"27.9828,-497.9295 27.9828,-518.9295 52.9828,-518.9295 52.9828,-497.9295 27.9828,-497.9295\"/>\n<text text-anchor=\"start\" x=\"30.9828\" y=\"-504.7295\" font-family=\"Times,serif\" font-size=\"14.00\" fill=\"#000000\">yes</text>\n<polygon fill=\"none\" stroke=\"#000000\" points=\"54.9828,-497.9295 54.9828,-518.9295 87.9828,-518.9295 87.9828,-497.9295 54.9828,-497.9295\"/>\n<text text-anchor=\"start\" x=\"57.9828\" y=\"-504.7295\" font-family=\"Times,serif\" font-size=\"14.00\" fill=\"#000000\">0.00</text>\n<polygon fill=\"none\" stroke=\"#000000\" points=\"27.9828,-474.9295 27.9828,-495.9295 52.9828,-495.9295 52.9828,-474.9295 27.9828,-474.9295\"/>\n<text text-anchor=\"start\" x=\"32.4828\" y=\"-481.7295\" font-family=\"Times,serif\" font-size=\"14.00\" fill=\"#000000\">no</text>\n<polygon fill=\"none\" stroke=\"#000000\" points=\"54.9828,-474.9295 54.9828,-495.9295 87.9828,-495.9295 87.9828,-474.9295 54.9828,-474.9295\"/>\n<text text-anchor=\"start\" x=\"57.9828\" y=\"-481.7295\" font-family=\"Times,serif\" font-size=\"14.00\" fill=\"#000000\">1.00</text>\n<polygon fill=\"none\" stroke=\"#000000\" points=\"24.9828,-472.4295 24.9828,-545.4295 90.9828,-545.4295 90.9828,-472.4295 24.9828,-472.4295\"/>\n</g>\n<!-- tub -->\n<g id=\"node2\" class=\"node\">\n<title>tub</title>\n<ellipse fill=\"none\" stroke=\"#000000\" cx=\"57.9828\" cy=\"-358.3782\" rx=\"57.9655\" ry=\"57.0522\"/>\n<polygon fill=\"#d23939\" stroke=\"transparent\" points=\"27.9828,-370.3782 27.9828,-391.3782 87.9828,-391.3782 87.9828,-370.3782 27.9828,-370.3782\"/>\n<polygon fill=\"none\" stroke=\"#000000\" points=\"27.9828,-370.3782 27.9828,-391.3782 87.9828,-391.3782 87.9828,-370.3782 27.9828,-370.3782\"/>\n<text text-anchor=\"start\" x=\"44.4828\" y=\"-377.1782\" font-family=\"Times,serif\" font-size=\"14.00\" fill=\"#000000\"> tub </text>\n<polygon fill=\"none\" stroke=\"#000000\" points=\"27.9828,-347.3782 27.9828,-368.3782 52.9828,-368.3782 52.9828,-347.3782 27.9828,-347.3782\"/>\n<text text-anchor=\"start\" x=\"30.9828\" y=\"-354.1782\" font-family=\"Times,serif\" font-size=\"14.00\" fill=\"#000000\">yes</text>\n<polygon fill=\"none\" stroke=\"#000000\" points=\"54.9828,-347.3782 54.9828,-368.3782 87.9828,-368.3782 87.9828,-347.3782 54.9828,-347.3782\"/>\n<text text-anchor=\"start\" x=\"57.9828\" y=\"-354.1782\" font-family=\"Times,serif\" font-size=\"14.00\" fill=\"#000000\">0.91</text>\n<polygon fill=\"none\" stroke=\"#000000\" points=\"27.9828,-324.3782 27.9828,-345.3782 52.9828,-345.3782 52.9828,-324.3782 27.9828,-324.3782\"/>\n<text text-anchor=\"start\" x=\"32.4828\" y=\"-331.1782\" font-family=\"Times,serif\" font-size=\"14.00\" fill=\"#000000\">no</text>\n<polygon fill=\"none\" stroke=\"#000000\" points=\"54.9828,-324.3782 54.9828,-345.3782 87.9828,-345.3782 87.9828,-324.3782 54.9828,-324.3782\"/>\n<text text-anchor=\"start\" x=\"57.9828\" y=\"-331.1782\" font-family=\"Times,serif\" font-size=\"14.00\" fill=\"#000000\">0.09</text>\n<polygon fill=\"none\" stroke=\"#000000\" points=\"24.9828,-321.8782 24.9828,-394.8782 90.9828,-394.8782 90.9828,-321.8782 24.9828,-321.8782\"/>\n</g>\n<!-- asia&#45;&gt;tub -->\n<g id=\"edge1\" class=\"edge\">\n<title>asia&#45;&gt;tub</title>\n<path fill=\"none\" stroke=\"#000000\" d=\"M57.9828,-451.5831C57.9828,-443.3123 57.9828,-434.7349 57.9828,-426.2827\"/>\n<polygon fill=\"#000000\" stroke=\"#000000\" points=\"61.4829,-426.064 57.9828,-416.064 54.4829,-426.064 61.4829,-426.064\"/>\n</g>\n<!-- either -->\n<g id=\"node6\" class=\"node\">\n<title>either</title>\n<ellipse fill=\"none\" stroke=\"#000000\" cx=\"143.9828\" cy=\"-207.8269\" rx=\"57.9655\" ry=\"57.0522\"/>\n<polygon fill=\"#d23939\" stroke=\"transparent\" points=\"113.9828,-219.8269 113.9828,-240.8269 173.9828,-240.8269 173.9828,-219.8269 113.9828,-219.8269\"/>\n<polygon fill=\"none\" stroke=\"#000000\" points=\"113.9828,-219.8269 113.9828,-240.8269 173.9828,-240.8269 173.9828,-219.8269 113.9828,-219.8269\"/>\n<text text-anchor=\"start\" x=\"123.9828\" y=\"-226.6269\" font-family=\"Times,serif\" font-size=\"14.00\" fill=\"#000000\"> either </text>\n<polygon fill=\"none\" stroke=\"#000000\" points=\"113.9828,-196.8269 113.9828,-217.8269 138.9828,-217.8269 138.9828,-196.8269 113.9828,-196.8269\"/>\n<text text-anchor=\"start\" x=\"116.9828\" y=\"-203.6269\" font-family=\"Times,serif\" font-size=\"14.00\" fill=\"#000000\">yes</text>\n<polygon fill=\"none\" stroke=\"#000000\" points=\"140.9828,-196.8269 140.9828,-217.8269 173.9828,-217.8269 173.9828,-196.8269 140.9828,-196.8269\"/>\n<text text-anchor=\"start\" x=\"143.9828\" y=\"-203.6269\" font-family=\"Times,serif\" font-size=\"14.00\" fill=\"#000000\">0.82</text>\n<polygon fill=\"none\" stroke=\"#000000\" points=\"113.9828,-173.8269 113.9828,-194.8269 138.9828,-194.8269 138.9828,-173.8269 113.9828,-173.8269\"/>\n<text text-anchor=\"start\" x=\"118.4828\" y=\"-180.6269\" font-family=\"Times,serif\" font-size=\"14.00\" fill=\"#000000\">no</text>\n<polygon fill=\"none\" stroke=\"#000000\" points=\"140.9828,-173.8269 140.9828,-194.8269 173.9828,-194.8269 173.9828,-173.8269 140.9828,-173.8269\"/>\n<text text-anchor=\"start\" x=\"143.9828\" y=\"-180.6269\" font-family=\"Times,serif\" font-size=\"14.00\" fill=\"#000000\">0.18</text>\n<polygon fill=\"none\" stroke=\"#000000\" points=\"110.9828,-171.3269 110.9828,-244.3269 176.9828,-244.3269 176.9828,-171.3269 110.9828,-171.3269\"/>\n</g>\n<!-- tub&#45;&gt;either -->\n<g id=\"edge2\" class=\"edge\">\n<title>tub&#45;&gt;either</title>\n<path fill=\"none\" stroke=\"#000000\" d=\"M86.6195,-308.2468C94.2351,-294.9149 102.5299,-280.3942 110.3845,-266.6439\"/>\n<polygon fill=\"#000000\" stroke=\"#000000\" points=\"113.55,-268.1587 115.4711,-257.7394 107.4718,-264.6866 113.55,-268.1587\"/>\n</g>\n<!-- smoke -->\n<g id=\"node3\" class=\"node\">\n<title>smoke</title>\n<ellipse fill=\"none\" stroke=\"#000000\" cx=\"234.9828\" cy=\"-508.9295\" rx=\"57.9655\" ry=\"57.0522\"/>\n<polygon fill=\"#d23939\" stroke=\"transparent\" points=\"204.9828,-520.9295 204.9828,-541.9295 264.9828,-541.9295 264.9828,-520.9295 204.9828,-520.9295\"/>\n<polygon fill=\"none\" stroke=\"#000000\" points=\"204.9828,-520.9295 204.9828,-541.9295 264.9828,-541.9295 264.9828,-520.9295 204.9828,-520.9295\"/>\n<text text-anchor=\"start\" x=\"211.9828\" y=\"-527.7295\" font-family=\"Times,serif\" font-size=\"14.00\" fill=\"#000000\"> smoke </text>\n<polygon fill=\"none\" stroke=\"#000000\" points=\"204.9828,-497.9295 204.9828,-518.9295 229.9828,-518.9295 229.9828,-497.9295 204.9828,-497.9295\"/>\n<text text-anchor=\"start\" x=\"207.9828\" y=\"-504.7295\" font-family=\"Times,serif\" font-size=\"14.00\" fill=\"#000000\">yes</text>\n<polygon fill=\"none\" stroke=\"#000000\" points=\"231.9828,-497.9295 231.9828,-518.9295 264.9828,-518.9295 264.9828,-497.9295 231.9828,-497.9295\"/>\n<text text-anchor=\"start\" x=\"234.9828\" y=\"-504.7295\" font-family=\"Times,serif\" font-size=\"14.00\" fill=\"#000000\">0.37</text>\n<polygon fill=\"none\" stroke=\"#000000\" points=\"204.9828,-474.9295 204.9828,-495.9295 229.9828,-495.9295 229.9828,-474.9295 204.9828,-474.9295\"/>\n<text text-anchor=\"start\" x=\"209.4828\" y=\"-481.7295\" font-family=\"Times,serif\" font-size=\"14.00\" fill=\"#000000\">no</text>\n<polygon fill=\"none\" stroke=\"#000000\" points=\"231.9828,-474.9295 231.9828,-495.9295 264.9828,-495.9295 264.9828,-474.9295 231.9828,-474.9295\"/>\n<text text-anchor=\"start\" x=\"234.9828\" y=\"-481.7295\" font-family=\"Times,serif\" font-size=\"14.00\" fill=\"#000000\">0.63</text>\n<polygon fill=\"none\" stroke=\"#000000\" points=\"201.9828,-472.4295 201.9828,-545.4295 267.9828,-545.4295 267.9828,-472.4295 201.9828,-472.4295\"/>\n</g>\n<!-- lung -->\n<g id=\"node4\" class=\"node\">\n<title>lung</title>\n<ellipse fill=\"none\" stroke=\"#000000\" cx=\"191.9828\" cy=\"-358.3782\" rx=\"57.9655\" ry=\"57.0522\"/>\n<polygon fill=\"#d23939\" stroke=\"transparent\" points=\"161.9828,-370.3782 161.9828,-391.3782 221.9828,-391.3782 221.9828,-370.3782 161.9828,-370.3782\"/>\n<polygon fill=\"none\" stroke=\"#000000\" points=\"161.9828,-370.3782 161.9828,-391.3782 221.9828,-391.3782 221.9828,-370.3782 161.9828,-370.3782\"/>\n<text text-anchor=\"start\" x=\"174.9828\" y=\"-377.1782\" font-family=\"Times,serif\" font-size=\"14.00\" fill=\"#000000\"> lung </text>\n<polygon fill=\"none\" stroke=\"#000000\" points=\"161.9828,-347.3782 161.9828,-368.3782 186.9828,-368.3782 186.9828,-347.3782 161.9828,-347.3782\"/>\n<text text-anchor=\"start\" x=\"164.9828\" y=\"-354.1782\" font-family=\"Times,serif\" font-size=\"14.00\" fill=\"#000000\">yes</text>\n<polygon fill=\"none\" stroke=\"#000000\" points=\"188.9828,-347.3782 188.9828,-368.3782 221.9828,-368.3782 221.9828,-347.3782 188.9828,-347.3782\"/>\n<text text-anchor=\"start\" x=\"191.9828\" y=\"-354.1782\" font-family=\"Times,serif\" font-size=\"14.00\" fill=\"#000000\">0.90</text>\n<polygon fill=\"none\" stroke=\"#000000\" points=\"161.9828,-324.3782 161.9828,-345.3782 186.9828,-345.3782 186.9828,-324.3782 161.9828,-324.3782\"/>\n<text text-anchor=\"start\" x=\"166.4828\" y=\"-331.1782\" font-family=\"Times,serif\" font-size=\"14.00\" fill=\"#000000\">no</text>\n<polygon fill=\"none\" stroke=\"#000000\" points=\"188.9828,-324.3782 188.9828,-345.3782 221.9828,-345.3782 221.9828,-324.3782 188.9828,-324.3782\"/>\n<text text-anchor=\"start\" x=\"191.9828\" y=\"-331.1782\" font-family=\"Times,serif\" font-size=\"14.00\" fill=\"#000000\">0.10</text>\n<polygon fill=\"none\" stroke=\"#000000\" points=\"158.9828,-321.8782 158.9828,-394.8782 224.9828,-394.8782 224.9828,-321.8782 158.9828,-321.8782\"/>\n</g>\n<!-- smoke&#45;&gt;lung -->\n<g id=\"edge3\" class=\"edge\">\n<title>smoke&#45;&gt;lung</title>\n<path fill=\"none\" stroke=\"#000000\" d=\"M219.2153,-453.7247C216.3817,-443.8037 213.4048,-433.381 210.5018,-423.2171\"/>\n<polygon fill=\"#000000\" stroke=\"#000000\" points=\"213.8601,-422.2307 207.7483,-413.5764 207.1293,-424.1532 213.8601,-422.2307\"/>\n</g>\n<!-- bronc -->\n<g id=\"node5\" class=\"node\">\n<title>bronc</title>\n<ellipse fill=\"none\" stroke=\"#000000\" cx=\"277.9828\" cy=\"-207.8269\" rx=\"57.9655\" ry=\"57.0522\"/>\n<polygon fill=\"#d23939\" stroke=\"transparent\" points=\"247.9828,-219.8269 247.9828,-240.8269 307.9828,-240.8269 307.9828,-219.8269 247.9828,-219.8269\"/>\n<polygon fill=\"none\" stroke=\"#000000\" points=\"247.9828,-219.8269 247.9828,-240.8269 307.9828,-240.8269 307.9828,-219.8269 247.9828,-219.8269\"/>\n<text text-anchor=\"start\" x=\"257.4828\" y=\"-226.6269\" font-family=\"Times,serif\" font-size=\"14.00\" fill=\"#000000\"> bronc </text>\n<polygon fill=\"none\" stroke=\"#000000\" points=\"247.9828,-196.8269 247.9828,-217.8269 272.9828,-217.8269 272.9828,-196.8269 247.9828,-196.8269\"/>\n<text text-anchor=\"start\" x=\"250.9828\" y=\"-203.6269\" font-family=\"Times,serif\" font-size=\"14.00\" fill=\"#000000\">yes</text>\n<polygon fill=\"none\" stroke=\"#000000\" points=\"274.9828,-196.8269 274.9828,-217.8269 307.9828,-217.8269 307.9828,-196.8269 274.9828,-196.8269\"/>\n<text text-anchor=\"start\" x=\"277.9828\" y=\"-203.6269\" font-family=\"Times,serif\" font-size=\"14.00\" fill=\"#000000\">0.19</text>\n<polygon fill=\"none\" stroke=\"#000000\" points=\"247.9828,-173.8269 247.9828,-194.8269 272.9828,-194.8269 272.9828,-173.8269 247.9828,-173.8269\"/>\n<text text-anchor=\"start\" x=\"252.4828\" y=\"-180.6269\" font-family=\"Times,serif\" font-size=\"14.00\" fill=\"#000000\">no</text>\n<polygon fill=\"none\" stroke=\"#000000\" points=\"274.9828,-173.8269 274.9828,-194.8269 307.9828,-194.8269 307.9828,-173.8269 274.9828,-173.8269\"/>\n<text text-anchor=\"start\" x=\"277.9828\" y=\"-180.6269\" font-family=\"Times,serif\" font-size=\"14.00\" fill=\"#000000\">0.81</text>\n<polygon fill=\"none\" stroke=\"#000000\" points=\"244.9828,-171.3269 244.9828,-244.3269 310.9828,-244.3269 310.9828,-171.3269 244.9828,-171.3269\"/>\n</g>\n<!-- smoke&#45;&gt;bronc -->\n<g id=\"edge4\" class=\"edge\">\n<title>smoke&#45;&gt;bronc</title>\n<path fill=\"none\" stroke=\"#000000\" d=\"M250.8002,-453.512C253.8963,-441.1332 256.8425,-428.0108 258.9828,-415.6539 267.0488,-369.0849 271.8279,-316.0137 274.5755,-275.158\"/>\n<polygon fill=\"#000000\" stroke=\"#000000\" points=\"278.0767,-275.2511 275.2311,-265.0456 271.0914,-274.7982 278.0767,-275.2511\"/>\n</g>\n<!-- lung&#45;&gt;either -->\n<g id=\"edge5\" class=\"edge\">\n<title>lung&#45;&gt;either</title>\n<path fill=\"none\" stroke=\"#000000\" d=\"M174.5179,-303.5999C171.2547,-293.3651 167.8171,-282.5831 164.4725,-272.0926\"/>\n<polygon fill=\"#000000\" stroke=\"#000000\" points=\"167.807,-271.0288 161.4346,-262.5645 161.1377,-273.1552 167.807,-271.0288\"/>\n</g>\n<!-- dysp -->\n<g id=\"node8\" class=\"node\">\n<title>dysp</title>\n<ellipse fill=\"none\" stroke=\"#000000\" cx=\"277.9828\" cy=\"-57.2756\" rx=\"57.9655\" ry=\"57.0522\"/>\n<polygon fill=\"#d23939\" stroke=\"transparent\" points=\"247.9828,-69.2756 247.9828,-90.2756 307.9828,-90.2756 307.9828,-69.2756 247.9828,-69.2756\"/>\n<polygon fill=\"none\" stroke=\"#000000\" points=\"247.9828,-69.2756 247.9828,-90.2756 307.9828,-90.2756 307.9828,-69.2756 247.9828,-69.2756\"/>\n<text text-anchor=\"start\" x=\"259.9828\" y=\"-76.0756\" font-family=\"Times,serif\" font-size=\"14.00\" fill=\"#000000\"> dysp </text>\n<polygon fill=\"none\" stroke=\"#000000\" points=\"247.9828,-46.2756 247.9828,-67.2756 272.9828,-67.2756 272.9828,-46.2756 247.9828,-46.2756\"/>\n<text text-anchor=\"start\" x=\"250.9828\" y=\"-53.0756\" font-family=\"Times,serif\" font-size=\"14.00\" fill=\"#000000\">yes</text>\n<polygon fill=\"none\" stroke=\"#000000\" points=\"274.9828,-46.2756 274.9828,-67.2756 307.9828,-67.2756 307.9828,-46.2756 274.9828,-46.2756\"/>\n<text text-anchor=\"start\" x=\"277.9828\" y=\"-53.0756\" font-family=\"Times,serif\" font-size=\"14.00\" fill=\"#000000\">0.00</text>\n<polygon fill=\"none\" stroke=\"#000000\" points=\"247.9828,-23.2756 247.9828,-44.2756 272.9828,-44.2756 272.9828,-23.2756 247.9828,-23.2756\"/>\n<text text-anchor=\"start\" x=\"252.4828\" y=\"-30.0756\" font-family=\"Times,serif\" font-size=\"14.00\" fill=\"#000000\">no</text>\n<polygon fill=\"none\" stroke=\"#000000\" points=\"274.9828,-23.2756 274.9828,-44.2756 307.9828,-44.2756 307.9828,-23.2756 274.9828,-23.2756\"/>\n<text text-anchor=\"start\" x=\"277.9828\" y=\"-30.0756\" font-family=\"Times,serif\" font-size=\"14.00\" fill=\"#000000\">1.00</text>\n<polygon fill=\"none\" stroke=\"#000000\" points=\"244.9828,-20.7756 244.9828,-93.7756 310.9828,-93.7756 310.9828,-20.7756 244.9828,-20.7756\"/>\n</g>\n<!-- bronc&#45;&gt;dysp -->\n<g id=\"edge6\" class=\"edge\">\n<title>bronc&#45;&gt;dysp</title>\n<path fill=\"none\" stroke=\"#000000\" d=\"M277.9828,-150.4805C277.9828,-142.2097 277.9828,-133.6324 277.9828,-125.1801\"/>\n<polygon fill=\"#000000\" stroke=\"#000000\" points=\"281.4829,-124.9614 277.9828,-114.9614 274.4829,-124.9614 281.4829,-124.9614\"/>\n</g>\n<!-- xray -->\n<g id=\"node7\" class=\"node\">\n<title>xray</title>\n<ellipse fill=\"none\" stroke=\"#000000\" cx=\"143.9828\" cy=\"-57.2756\" rx=\"57.9655\" ry=\"57.0522\"/>\n<polygon fill=\"#d23939\" stroke=\"transparent\" points=\"113.9828,-69.2756 113.9828,-90.2756 173.9828,-90.2756 173.9828,-69.2756 113.9828,-69.2756\"/>\n<polygon fill=\"none\" stroke=\"#000000\" points=\"113.9828,-69.2756 113.9828,-90.2756 173.9828,-90.2756 173.9828,-69.2756 113.9828,-69.2756\"/>\n<text text-anchor=\"start\" x=\"126.9828\" y=\"-76.0756\" font-family=\"Times,serif\" font-size=\"14.00\" fill=\"#000000\"> xray </text>\n<polygon fill=\"none\" stroke=\"#000000\" points=\"113.9828,-46.2756 113.9828,-67.2756 138.9828,-67.2756 138.9828,-46.2756 113.9828,-46.2756\"/>\n<text text-anchor=\"start\" x=\"116.9828\" y=\"-53.0756\" font-family=\"Times,serif\" font-size=\"14.00\" fill=\"#000000\">yes</text>\n<polygon fill=\"none\" stroke=\"#000000\" points=\"140.9828,-46.2756 140.9828,-67.2756 173.9828,-67.2756 173.9828,-46.2756 140.9828,-46.2756\"/>\n<text text-anchor=\"start\" x=\"143.9828\" y=\"-53.0756\" font-family=\"Times,serif\" font-size=\"14.00\" fill=\"#000000\">0.78</text>\n<polygon fill=\"none\" stroke=\"#000000\" points=\"113.9828,-23.2756 113.9828,-44.2756 138.9828,-44.2756 138.9828,-23.2756 113.9828,-23.2756\"/>\n<text text-anchor=\"start\" x=\"118.4828\" y=\"-30.0756\" font-family=\"Times,serif\" font-size=\"14.00\" fill=\"#000000\">no</text>\n<polygon fill=\"none\" stroke=\"#000000\" points=\"140.9828,-23.2756 140.9828,-44.2756 173.9828,-44.2756 173.9828,-23.2756 140.9828,-23.2756\"/>\n<text text-anchor=\"start\" x=\"143.9828\" y=\"-30.0756\" font-family=\"Times,serif\" font-size=\"14.00\" fill=\"#000000\">0.22</text>\n<polygon fill=\"none\" stroke=\"#000000\" points=\"110.9828,-20.7756 110.9828,-93.7756 176.9828,-93.7756 176.9828,-20.7756 110.9828,-20.7756\"/>\n</g>\n<!-- either&#45;&gt;xray -->\n<g id=\"edge7\" class=\"edge\">\n<title>either&#45;&gt;xray</title>\n<path fill=\"none\" stroke=\"#000000\" d=\"M143.9828,-150.4805C143.9828,-142.2097 143.9828,-133.6324 143.9828,-125.1801\"/>\n<polygon fill=\"#000000\" stroke=\"#000000\" points=\"147.4829,-124.9614 143.9828,-114.9614 140.4829,-124.9614 147.4829,-124.9614\"/>\n</g>\n<!-- either&#45;&gt;dysp -->\n<g id=\"edge8\" class=\"edge\">\n<title>either&#45;&gt;dysp</title>\n<path fill=\"none\" stroke=\"#000000\" d=\"M182.3818,-164.685C198.0813,-147.0463 216.36,-126.5099 232.7048,-108.1462\"/>\n<polygon fill=\"#000000\" stroke=\"#000000\" points=\"235.544,-110.2207 239.5781,-100.4239 230.3151,-105.5667 235.544,-110.2207\"/>\n</g>\n</g>\n</svg>\n"
          },
          "metadata": {
            "tags": []
          },
          "execution_count": 15
        }
      ]
    },
    {
      "cell_type": "markdown",
      "metadata": {
        "id": "hyALNuUaCNza"
      },
      "source": [
        "## Posterior marginals given dsypnea=present, asia=visit, smoking=true"
      ]
    },
    {
      "cell_type": "code",
      "metadata": {
        "colab": {
          "base_uri": "https://localhost:8080/",
          "height": 1000
        },
        "id": "gDydpbab9Svz",
        "outputId": "ae1caea8-c944-4a83-94e8-ad6cdfea29a9"
      },
      "source": [
        "evidence  = {'dysp': 0, 'asia': 0, 'smoke': 0}\n",
        "marginals = get_marginals(evidence)\n",
        "print('\\n')\n",
        "for k, v in marginals.items():\n",
        "  print(k, v)\n",
        "h = visualization(marginals, model)\n",
        "h"
      ],
      "execution_count": 16,
      "outputs": [
        {
          "output_type": "stream",
          "text": [
            "/usr/local/lib/python3.7/dist-packages/pgmpy/factors/discrete/DiscreteFactor.py:519: UserWarning: Found unknown state name. Trying to switch to using all state names as state numbers\n",
            "  \"Found unknown state name. Trying to switch to using all state names as state numbers\"\n",
            "Finding Elimination Order: : 100%|██████████| 4/4 [00:00<00:00, 694.88it/s]\n",
            "Eliminating: either: 100%|██████████| 4/4 [00:00<00:00, 397.57it/s]\n",
            "Finding Elimination Order: : 100%|██████████| 4/4 [00:00<00:00, 1538.07it/s]\n",
            "Eliminating: either: 100%|██████████| 4/4 [00:00<00:00, 414.84it/s]\n",
            "Finding Elimination Order: : 100%|██████████| 4/4 [00:00<00:00, 763.47it/s]\n",
            "Eliminating: lung: 100%|██████████| 4/4 [00:00<00:00, 187.04it/s]\n",
            "Finding Elimination Order: : 100%|██████████| 4/4 [00:00<00:00, 894.74it/s]\n",
            "Eliminating: lung: 100%|██████████| 4/4 [00:00<00:00, 329.40it/s]\n",
            "Finding Elimination Order: : 100%|██████████| 4/4 [00:00<00:00, 826.59it/s]\n",
            "Eliminating: either: 100%|██████████| 4/4 [00:00<00:00, 375.14it/s]\n"
          ],
          "name": "stderr"
        },
        {
          "output_type": "stream",
          "text": [
            "\n",
            "\n",
            "asia 0.0\n",
            "tub 0.927240461401952\n",
            "smoke 0.0\n",
            "lung 0.8544809228039041\n",
            "bronc 0.13274179236912156\n",
            "either 0.7889973380656611\n",
            "xray 0.7537675244010646\n",
            "dysp 0.0\n"
          ],
          "name": "stdout"
        },
        {
          "output_type": "execute_result",
          "data": {
            "text/plain": [
              "<graphviz.dot.Digraph at 0x7f5bb52ffd50>"
            ],
            "image/svg+xml": "<?xml version=\"1.0\" encoding=\"UTF-8\" standalone=\"no\"?>\n<!DOCTYPE svg PUBLIC \"-//W3C//DTD SVG 1.1//EN\"\n \"http://www.w3.org/Graphics/SVG/1.1/DTD/svg11.dtd\">\n<!-- Generated by graphviz version 2.40.1 (20161225.0304)\n -->\n<!-- Title: asia_net Pages: 1 -->\n<svg width=\"344pt\" height=\"574pt\"\n viewBox=\"0.00 0.00 343.97 574.21\" xmlns=\"http://www.w3.org/2000/svg\" xmlns:xlink=\"http://www.w3.org/1999/xlink\">\n<g id=\"graph0\" class=\"graph\" transform=\"scale(1 1) rotate(0) translate(4 570.2052)\">\n<title>asia_net</title>\n<polygon fill=\"#ffffff\" stroke=\"transparent\" points=\"-4,4 -4,-570.2052 339.9655,-570.2052 339.9655,4 -4,4\"/>\n<!-- asia -->\n<g id=\"node1\" class=\"node\">\n<title>asia</title>\n<ellipse fill=\"none\" stroke=\"#000000\" cx=\"57.9828\" cy=\"-508.9295\" rx=\"57.9655\" ry=\"57.0522\"/>\n<polygon fill=\"#d23939\" stroke=\"transparent\" points=\"27.9828,-520.9295 27.9828,-541.9295 87.9828,-541.9295 87.9828,-520.9295 27.9828,-520.9295\"/>\n<polygon fill=\"none\" stroke=\"#000000\" points=\"27.9828,-520.9295 27.9828,-541.9295 87.9828,-541.9295 87.9828,-520.9295 27.9828,-520.9295\"/>\n<text text-anchor=\"start\" x=\"43.4828\" y=\"-527.7295\" font-family=\"Times,serif\" font-size=\"14.00\" fill=\"#000000\"> asia </text>\n<polygon fill=\"none\" stroke=\"#000000\" points=\"27.9828,-497.9295 27.9828,-518.9295 52.9828,-518.9295 52.9828,-497.9295 27.9828,-497.9295\"/>\n<text text-anchor=\"start\" x=\"30.9828\" y=\"-504.7295\" font-family=\"Times,serif\" font-size=\"14.00\" fill=\"#000000\">yes</text>\n<polygon fill=\"none\" stroke=\"#000000\" points=\"54.9828,-497.9295 54.9828,-518.9295 87.9828,-518.9295 87.9828,-497.9295 54.9828,-497.9295\"/>\n<text text-anchor=\"start\" x=\"57.9828\" y=\"-504.7295\" font-family=\"Times,serif\" font-size=\"14.00\" fill=\"#000000\">0.00</text>\n<polygon fill=\"none\" stroke=\"#000000\" points=\"27.9828,-474.9295 27.9828,-495.9295 52.9828,-495.9295 52.9828,-474.9295 27.9828,-474.9295\"/>\n<text text-anchor=\"start\" x=\"32.4828\" y=\"-481.7295\" font-family=\"Times,serif\" font-size=\"14.00\" fill=\"#000000\">no</text>\n<polygon fill=\"none\" stroke=\"#000000\" points=\"54.9828,-474.9295 54.9828,-495.9295 87.9828,-495.9295 87.9828,-474.9295 54.9828,-474.9295\"/>\n<text text-anchor=\"start\" x=\"57.9828\" y=\"-481.7295\" font-family=\"Times,serif\" font-size=\"14.00\" fill=\"#000000\">1.00</text>\n<polygon fill=\"none\" stroke=\"#000000\" points=\"24.9828,-472.4295 24.9828,-545.4295 90.9828,-545.4295 90.9828,-472.4295 24.9828,-472.4295\"/>\n</g>\n<!-- tub -->\n<g id=\"node2\" class=\"node\">\n<title>tub</title>\n<ellipse fill=\"none\" stroke=\"#000000\" cx=\"57.9828\" cy=\"-358.3782\" rx=\"57.9655\" ry=\"57.0522\"/>\n<polygon fill=\"#d23939\" stroke=\"transparent\" points=\"27.9828,-370.3782 27.9828,-391.3782 87.9828,-391.3782 87.9828,-370.3782 27.9828,-370.3782\"/>\n<polygon fill=\"none\" stroke=\"#000000\" points=\"27.9828,-370.3782 27.9828,-391.3782 87.9828,-391.3782 87.9828,-370.3782 27.9828,-370.3782\"/>\n<text text-anchor=\"start\" x=\"44.4828\" y=\"-377.1782\" font-family=\"Times,serif\" font-size=\"14.00\" fill=\"#000000\"> tub </text>\n<polygon fill=\"none\" stroke=\"#000000\" points=\"27.9828,-347.3782 27.9828,-368.3782 52.9828,-368.3782 52.9828,-347.3782 27.9828,-347.3782\"/>\n<text text-anchor=\"start\" x=\"30.9828\" y=\"-354.1782\" font-family=\"Times,serif\" font-size=\"14.00\" fill=\"#000000\">yes</text>\n<polygon fill=\"none\" stroke=\"#000000\" points=\"54.9828,-347.3782 54.9828,-368.3782 87.9828,-368.3782 87.9828,-347.3782 54.9828,-347.3782\"/>\n<text text-anchor=\"start\" x=\"57.9828\" y=\"-354.1782\" font-family=\"Times,serif\" font-size=\"14.00\" fill=\"#000000\">0.93</text>\n<polygon fill=\"none\" stroke=\"#000000\" points=\"27.9828,-324.3782 27.9828,-345.3782 52.9828,-345.3782 52.9828,-324.3782 27.9828,-324.3782\"/>\n<text text-anchor=\"start\" x=\"32.4828\" y=\"-331.1782\" font-family=\"Times,serif\" font-size=\"14.00\" fill=\"#000000\">no</text>\n<polygon fill=\"none\" stroke=\"#000000\" points=\"54.9828,-324.3782 54.9828,-345.3782 87.9828,-345.3782 87.9828,-324.3782 54.9828,-324.3782\"/>\n<text text-anchor=\"start\" x=\"57.9828\" y=\"-331.1782\" font-family=\"Times,serif\" font-size=\"14.00\" fill=\"#000000\">0.07</text>\n<polygon fill=\"none\" stroke=\"#000000\" points=\"24.9828,-321.8782 24.9828,-394.8782 90.9828,-394.8782 90.9828,-321.8782 24.9828,-321.8782\"/>\n</g>\n<!-- asia&#45;&gt;tub -->\n<g id=\"edge1\" class=\"edge\">\n<title>asia&#45;&gt;tub</title>\n<path fill=\"none\" stroke=\"#000000\" d=\"M57.9828,-451.5831C57.9828,-443.3123 57.9828,-434.7349 57.9828,-426.2827\"/>\n<polygon fill=\"#000000\" stroke=\"#000000\" points=\"61.4829,-426.064 57.9828,-416.064 54.4829,-426.064 61.4829,-426.064\"/>\n</g>\n<!-- either -->\n<g id=\"node6\" class=\"node\">\n<title>either</title>\n<ellipse fill=\"none\" stroke=\"#000000\" cx=\"143.9828\" cy=\"-207.8269\" rx=\"57.9655\" ry=\"57.0522\"/>\n<polygon fill=\"#d23939\" stroke=\"transparent\" points=\"113.9828,-219.8269 113.9828,-240.8269 173.9828,-240.8269 173.9828,-219.8269 113.9828,-219.8269\"/>\n<polygon fill=\"none\" stroke=\"#000000\" points=\"113.9828,-219.8269 113.9828,-240.8269 173.9828,-240.8269 173.9828,-219.8269 113.9828,-219.8269\"/>\n<text text-anchor=\"start\" x=\"123.9828\" y=\"-226.6269\" font-family=\"Times,serif\" font-size=\"14.00\" fill=\"#000000\"> either </text>\n<polygon fill=\"none\" stroke=\"#000000\" points=\"113.9828,-196.8269 113.9828,-217.8269 138.9828,-217.8269 138.9828,-196.8269 113.9828,-196.8269\"/>\n<text text-anchor=\"start\" x=\"116.9828\" y=\"-203.6269\" font-family=\"Times,serif\" font-size=\"14.00\" fill=\"#000000\">yes</text>\n<polygon fill=\"none\" stroke=\"#000000\" points=\"140.9828,-196.8269 140.9828,-217.8269 173.9828,-217.8269 173.9828,-196.8269 140.9828,-196.8269\"/>\n<text text-anchor=\"start\" x=\"143.9828\" y=\"-203.6269\" font-family=\"Times,serif\" font-size=\"14.00\" fill=\"#000000\">0.79</text>\n<polygon fill=\"none\" stroke=\"#000000\" points=\"113.9828,-173.8269 113.9828,-194.8269 138.9828,-194.8269 138.9828,-173.8269 113.9828,-173.8269\"/>\n<text text-anchor=\"start\" x=\"118.4828\" y=\"-180.6269\" font-family=\"Times,serif\" font-size=\"14.00\" fill=\"#000000\">no</text>\n<polygon fill=\"none\" stroke=\"#000000\" points=\"140.9828,-173.8269 140.9828,-194.8269 173.9828,-194.8269 173.9828,-173.8269 140.9828,-173.8269\"/>\n<text text-anchor=\"start\" x=\"143.9828\" y=\"-180.6269\" font-family=\"Times,serif\" font-size=\"14.00\" fill=\"#000000\">0.21</text>\n<polygon fill=\"none\" stroke=\"#000000\" points=\"110.9828,-171.3269 110.9828,-244.3269 176.9828,-244.3269 176.9828,-171.3269 110.9828,-171.3269\"/>\n</g>\n<!-- tub&#45;&gt;either -->\n<g id=\"edge2\" class=\"edge\">\n<title>tub&#45;&gt;either</title>\n<path fill=\"none\" stroke=\"#000000\" d=\"M86.6195,-308.2468C94.2351,-294.9149 102.5299,-280.3942 110.3845,-266.6439\"/>\n<polygon fill=\"#000000\" stroke=\"#000000\" points=\"113.55,-268.1587 115.4711,-257.7394 107.4718,-264.6866 113.55,-268.1587\"/>\n</g>\n<!-- smoke -->\n<g id=\"node3\" class=\"node\">\n<title>smoke</title>\n<ellipse fill=\"none\" stroke=\"#000000\" cx=\"234.9828\" cy=\"-508.9295\" rx=\"57.9655\" ry=\"57.0522\"/>\n<polygon fill=\"#d23939\" stroke=\"transparent\" points=\"204.9828,-520.9295 204.9828,-541.9295 264.9828,-541.9295 264.9828,-520.9295 204.9828,-520.9295\"/>\n<polygon fill=\"none\" stroke=\"#000000\" points=\"204.9828,-520.9295 204.9828,-541.9295 264.9828,-541.9295 264.9828,-520.9295 204.9828,-520.9295\"/>\n<text text-anchor=\"start\" x=\"211.9828\" y=\"-527.7295\" font-family=\"Times,serif\" font-size=\"14.00\" fill=\"#000000\"> smoke </text>\n<polygon fill=\"none\" stroke=\"#000000\" points=\"204.9828,-497.9295 204.9828,-518.9295 229.9828,-518.9295 229.9828,-497.9295 204.9828,-497.9295\"/>\n<text text-anchor=\"start\" x=\"207.9828\" y=\"-504.7295\" font-family=\"Times,serif\" font-size=\"14.00\" fill=\"#000000\">yes</text>\n<polygon fill=\"none\" stroke=\"#000000\" points=\"231.9828,-497.9295 231.9828,-518.9295 264.9828,-518.9295 264.9828,-497.9295 231.9828,-497.9295\"/>\n<text text-anchor=\"start\" x=\"234.9828\" y=\"-504.7295\" font-family=\"Times,serif\" font-size=\"14.00\" fill=\"#000000\">0.00</text>\n<polygon fill=\"none\" stroke=\"#000000\" points=\"204.9828,-474.9295 204.9828,-495.9295 229.9828,-495.9295 229.9828,-474.9295 204.9828,-474.9295\"/>\n<text text-anchor=\"start\" x=\"209.4828\" y=\"-481.7295\" font-family=\"Times,serif\" font-size=\"14.00\" fill=\"#000000\">no</text>\n<polygon fill=\"none\" stroke=\"#000000\" points=\"231.9828,-474.9295 231.9828,-495.9295 264.9828,-495.9295 264.9828,-474.9295 231.9828,-474.9295\"/>\n<text text-anchor=\"start\" x=\"234.9828\" y=\"-481.7295\" font-family=\"Times,serif\" font-size=\"14.00\" fill=\"#000000\">1.00</text>\n<polygon fill=\"none\" stroke=\"#000000\" points=\"201.9828,-472.4295 201.9828,-545.4295 267.9828,-545.4295 267.9828,-472.4295 201.9828,-472.4295\"/>\n</g>\n<!-- lung -->\n<g id=\"node4\" class=\"node\">\n<title>lung</title>\n<ellipse fill=\"none\" stroke=\"#000000\" cx=\"191.9828\" cy=\"-358.3782\" rx=\"57.9655\" ry=\"57.0522\"/>\n<polygon fill=\"#d23939\" stroke=\"transparent\" points=\"161.9828,-370.3782 161.9828,-391.3782 221.9828,-391.3782 221.9828,-370.3782 161.9828,-370.3782\"/>\n<polygon fill=\"none\" stroke=\"#000000\" points=\"161.9828,-370.3782 161.9828,-391.3782 221.9828,-391.3782 221.9828,-370.3782 161.9828,-370.3782\"/>\n<text text-anchor=\"start\" x=\"174.9828\" y=\"-377.1782\" font-family=\"Times,serif\" font-size=\"14.00\" fill=\"#000000\"> lung </text>\n<polygon fill=\"none\" stroke=\"#000000\" points=\"161.9828,-347.3782 161.9828,-368.3782 186.9828,-368.3782 186.9828,-347.3782 161.9828,-347.3782\"/>\n<text text-anchor=\"start\" x=\"164.9828\" y=\"-354.1782\" font-family=\"Times,serif\" font-size=\"14.00\" fill=\"#000000\">yes</text>\n<polygon fill=\"none\" stroke=\"#000000\" points=\"188.9828,-347.3782 188.9828,-368.3782 221.9828,-368.3782 221.9828,-347.3782 188.9828,-347.3782\"/>\n<text text-anchor=\"start\" x=\"191.9828\" y=\"-354.1782\" font-family=\"Times,serif\" font-size=\"14.00\" fill=\"#000000\">0.85</text>\n<polygon fill=\"none\" stroke=\"#000000\" points=\"161.9828,-324.3782 161.9828,-345.3782 186.9828,-345.3782 186.9828,-324.3782 161.9828,-324.3782\"/>\n<text text-anchor=\"start\" x=\"166.4828\" y=\"-331.1782\" font-family=\"Times,serif\" font-size=\"14.00\" fill=\"#000000\">no</text>\n<polygon fill=\"none\" stroke=\"#000000\" points=\"188.9828,-324.3782 188.9828,-345.3782 221.9828,-345.3782 221.9828,-324.3782 188.9828,-324.3782\"/>\n<text text-anchor=\"start\" x=\"191.9828\" y=\"-331.1782\" font-family=\"Times,serif\" font-size=\"14.00\" fill=\"#000000\">0.15</text>\n<polygon fill=\"none\" stroke=\"#000000\" points=\"158.9828,-321.8782 158.9828,-394.8782 224.9828,-394.8782 224.9828,-321.8782 158.9828,-321.8782\"/>\n</g>\n<!-- smoke&#45;&gt;lung -->\n<g id=\"edge3\" class=\"edge\">\n<title>smoke&#45;&gt;lung</title>\n<path fill=\"none\" stroke=\"#000000\" d=\"M219.2153,-453.7247C216.3817,-443.8037 213.4048,-433.381 210.5018,-423.2171\"/>\n<polygon fill=\"#000000\" stroke=\"#000000\" points=\"213.8601,-422.2307 207.7483,-413.5764 207.1293,-424.1532 213.8601,-422.2307\"/>\n</g>\n<!-- bronc -->\n<g id=\"node5\" class=\"node\">\n<title>bronc</title>\n<ellipse fill=\"none\" stroke=\"#000000\" cx=\"277.9828\" cy=\"-207.8269\" rx=\"57.9655\" ry=\"57.0522\"/>\n<polygon fill=\"#d23939\" stroke=\"transparent\" points=\"247.9828,-219.8269 247.9828,-240.8269 307.9828,-240.8269 307.9828,-219.8269 247.9828,-219.8269\"/>\n<polygon fill=\"none\" stroke=\"#000000\" points=\"247.9828,-219.8269 247.9828,-240.8269 307.9828,-240.8269 307.9828,-219.8269 247.9828,-219.8269\"/>\n<text text-anchor=\"start\" x=\"257.4828\" y=\"-226.6269\" font-family=\"Times,serif\" font-size=\"14.00\" fill=\"#000000\"> bronc </text>\n<polygon fill=\"none\" stroke=\"#000000\" points=\"247.9828,-196.8269 247.9828,-217.8269 272.9828,-217.8269 272.9828,-196.8269 247.9828,-196.8269\"/>\n<text text-anchor=\"start\" x=\"250.9828\" y=\"-203.6269\" font-family=\"Times,serif\" font-size=\"14.00\" fill=\"#000000\">yes</text>\n<polygon fill=\"none\" stroke=\"#000000\" points=\"274.9828,-196.8269 274.9828,-217.8269 307.9828,-217.8269 307.9828,-196.8269 274.9828,-196.8269\"/>\n<text text-anchor=\"start\" x=\"277.9828\" y=\"-203.6269\" font-family=\"Times,serif\" font-size=\"14.00\" fill=\"#000000\">0.13</text>\n<polygon fill=\"none\" stroke=\"#000000\" points=\"247.9828,-173.8269 247.9828,-194.8269 272.9828,-194.8269 272.9828,-173.8269 247.9828,-173.8269\"/>\n<text text-anchor=\"start\" x=\"252.4828\" y=\"-180.6269\" font-family=\"Times,serif\" font-size=\"14.00\" fill=\"#000000\">no</text>\n<polygon fill=\"none\" stroke=\"#000000\" points=\"274.9828,-173.8269 274.9828,-194.8269 307.9828,-194.8269 307.9828,-173.8269 274.9828,-173.8269\"/>\n<text text-anchor=\"start\" x=\"277.9828\" y=\"-180.6269\" font-family=\"Times,serif\" font-size=\"14.00\" fill=\"#000000\">0.87</text>\n<polygon fill=\"none\" stroke=\"#000000\" points=\"244.9828,-171.3269 244.9828,-244.3269 310.9828,-244.3269 310.9828,-171.3269 244.9828,-171.3269\"/>\n</g>\n<!-- smoke&#45;&gt;bronc -->\n<g id=\"edge4\" class=\"edge\">\n<title>smoke&#45;&gt;bronc</title>\n<path fill=\"none\" stroke=\"#000000\" d=\"M250.8002,-453.512C253.8963,-441.1332 256.8425,-428.0108 258.9828,-415.6539 267.0488,-369.0849 271.8279,-316.0137 274.5755,-275.158\"/>\n<polygon fill=\"#000000\" stroke=\"#000000\" points=\"278.0767,-275.2511 275.2311,-265.0456 271.0914,-274.7982 278.0767,-275.2511\"/>\n</g>\n<!-- lung&#45;&gt;either -->\n<g id=\"edge5\" class=\"edge\">\n<title>lung&#45;&gt;either</title>\n<path fill=\"none\" stroke=\"#000000\" d=\"M174.5179,-303.5999C171.2547,-293.3651 167.8171,-282.5831 164.4725,-272.0926\"/>\n<polygon fill=\"#000000\" stroke=\"#000000\" points=\"167.807,-271.0288 161.4346,-262.5645 161.1377,-273.1552 167.807,-271.0288\"/>\n</g>\n<!-- dysp -->\n<g id=\"node8\" class=\"node\">\n<title>dysp</title>\n<ellipse fill=\"none\" stroke=\"#000000\" cx=\"277.9828\" cy=\"-57.2756\" rx=\"57.9655\" ry=\"57.0522\"/>\n<polygon fill=\"#d23939\" stroke=\"transparent\" points=\"247.9828,-69.2756 247.9828,-90.2756 307.9828,-90.2756 307.9828,-69.2756 247.9828,-69.2756\"/>\n<polygon fill=\"none\" stroke=\"#000000\" points=\"247.9828,-69.2756 247.9828,-90.2756 307.9828,-90.2756 307.9828,-69.2756 247.9828,-69.2756\"/>\n<text text-anchor=\"start\" x=\"259.9828\" y=\"-76.0756\" font-family=\"Times,serif\" font-size=\"14.00\" fill=\"#000000\"> dysp </text>\n<polygon fill=\"none\" stroke=\"#000000\" points=\"247.9828,-46.2756 247.9828,-67.2756 272.9828,-67.2756 272.9828,-46.2756 247.9828,-46.2756\"/>\n<text text-anchor=\"start\" x=\"250.9828\" y=\"-53.0756\" font-family=\"Times,serif\" font-size=\"14.00\" fill=\"#000000\">yes</text>\n<polygon fill=\"none\" stroke=\"#000000\" points=\"274.9828,-46.2756 274.9828,-67.2756 307.9828,-67.2756 307.9828,-46.2756 274.9828,-46.2756\"/>\n<text text-anchor=\"start\" x=\"277.9828\" y=\"-53.0756\" font-family=\"Times,serif\" font-size=\"14.00\" fill=\"#000000\">0.00</text>\n<polygon fill=\"none\" stroke=\"#000000\" points=\"247.9828,-23.2756 247.9828,-44.2756 272.9828,-44.2756 272.9828,-23.2756 247.9828,-23.2756\"/>\n<text text-anchor=\"start\" x=\"252.4828\" y=\"-30.0756\" font-family=\"Times,serif\" font-size=\"14.00\" fill=\"#000000\">no</text>\n<polygon fill=\"none\" stroke=\"#000000\" points=\"274.9828,-23.2756 274.9828,-44.2756 307.9828,-44.2756 307.9828,-23.2756 274.9828,-23.2756\"/>\n<text text-anchor=\"start\" x=\"277.9828\" y=\"-30.0756\" font-family=\"Times,serif\" font-size=\"14.00\" fill=\"#000000\">1.00</text>\n<polygon fill=\"none\" stroke=\"#000000\" points=\"244.9828,-20.7756 244.9828,-93.7756 310.9828,-93.7756 310.9828,-20.7756 244.9828,-20.7756\"/>\n</g>\n<!-- bronc&#45;&gt;dysp -->\n<g id=\"edge6\" class=\"edge\">\n<title>bronc&#45;&gt;dysp</title>\n<path fill=\"none\" stroke=\"#000000\" d=\"M277.9828,-150.4805C277.9828,-142.2097 277.9828,-133.6324 277.9828,-125.1801\"/>\n<polygon fill=\"#000000\" stroke=\"#000000\" points=\"281.4829,-124.9614 277.9828,-114.9614 274.4829,-124.9614 281.4829,-124.9614\"/>\n</g>\n<!-- xray -->\n<g id=\"node7\" class=\"node\">\n<title>xray</title>\n<ellipse fill=\"none\" stroke=\"#000000\" cx=\"143.9828\" cy=\"-57.2756\" rx=\"57.9655\" ry=\"57.0522\"/>\n<polygon fill=\"#d23939\" stroke=\"transparent\" points=\"113.9828,-69.2756 113.9828,-90.2756 173.9828,-90.2756 173.9828,-69.2756 113.9828,-69.2756\"/>\n<polygon fill=\"none\" stroke=\"#000000\" points=\"113.9828,-69.2756 113.9828,-90.2756 173.9828,-90.2756 173.9828,-69.2756 113.9828,-69.2756\"/>\n<text text-anchor=\"start\" x=\"126.9828\" y=\"-76.0756\" font-family=\"Times,serif\" font-size=\"14.00\" fill=\"#000000\"> xray </text>\n<polygon fill=\"none\" stroke=\"#000000\" points=\"113.9828,-46.2756 113.9828,-67.2756 138.9828,-67.2756 138.9828,-46.2756 113.9828,-46.2756\"/>\n<text text-anchor=\"start\" x=\"116.9828\" y=\"-53.0756\" font-family=\"Times,serif\" font-size=\"14.00\" fill=\"#000000\">yes</text>\n<polygon fill=\"none\" stroke=\"#000000\" points=\"140.9828,-46.2756 140.9828,-67.2756 173.9828,-67.2756 173.9828,-46.2756 140.9828,-46.2756\"/>\n<text text-anchor=\"start\" x=\"143.9828\" y=\"-53.0756\" font-family=\"Times,serif\" font-size=\"14.00\" fill=\"#000000\">0.75</text>\n<polygon fill=\"none\" stroke=\"#000000\" points=\"113.9828,-23.2756 113.9828,-44.2756 138.9828,-44.2756 138.9828,-23.2756 113.9828,-23.2756\"/>\n<text text-anchor=\"start\" x=\"118.4828\" y=\"-30.0756\" font-family=\"Times,serif\" font-size=\"14.00\" fill=\"#000000\">no</text>\n<polygon fill=\"none\" stroke=\"#000000\" points=\"140.9828,-23.2756 140.9828,-44.2756 173.9828,-44.2756 173.9828,-23.2756 140.9828,-23.2756\"/>\n<text text-anchor=\"start\" x=\"143.9828\" y=\"-30.0756\" font-family=\"Times,serif\" font-size=\"14.00\" fill=\"#000000\">0.25</text>\n<polygon fill=\"none\" stroke=\"#000000\" points=\"110.9828,-20.7756 110.9828,-93.7756 176.9828,-93.7756 176.9828,-20.7756 110.9828,-20.7756\"/>\n</g>\n<!-- either&#45;&gt;xray -->\n<g id=\"edge7\" class=\"edge\">\n<title>either&#45;&gt;xray</title>\n<path fill=\"none\" stroke=\"#000000\" d=\"M143.9828,-150.4805C143.9828,-142.2097 143.9828,-133.6324 143.9828,-125.1801\"/>\n<polygon fill=\"#000000\" stroke=\"#000000\" points=\"147.4829,-124.9614 143.9828,-114.9614 140.4829,-124.9614 147.4829,-124.9614\"/>\n</g>\n<!-- either&#45;&gt;dysp -->\n<g id=\"edge8\" class=\"edge\">\n<title>either&#45;&gt;dysp</title>\n<path fill=\"none\" stroke=\"#000000\" d=\"M182.3818,-164.685C198.0813,-147.0463 216.36,-126.5099 232.7048,-108.1462\"/>\n<polygon fill=\"#000000\" stroke=\"#000000\" points=\"235.544,-110.2207 239.5781,-100.4239 230.3151,-105.5667 235.544,-110.2207\"/>\n</g>\n</g>\n</svg>\n"
          },
          "metadata": {
            "tags": []
          },
          "execution_count": 16
        }
      ]
    },
    {
      "cell_type": "markdown",
      "metadata": {
        "id": "fxLt4NZEHEGp"
      },
      "source": [
        "# Visualization of posterior marginals"
      ]
    },
    {
      "cell_type": "markdown",
      "metadata": {
        "id": "1ZgEQUrOHIyK"
      },
      "source": [
        "\n",
        "<img src=\"https://user-images.githubusercontent.com/4632336/118872284-40b65700-b89d-11eb-8739-bc94fce6808a.png?raw=true\">\n",
        "\n"
      ]
    },
    {
      "cell_type": "markdown",
      "metadata": {
        "id": "C62naP3VJFbV"
      },
      "source": [
        "# Explanatory text from the book.\n",
        "\n",
        "In this section,\n",
        "we consider a hypothetical medical\n",
        "model proposed in \\citep{Lauritzen88}\n",
        "which is\n",
        "known in the literature as the ``\\keywordDef{Asia network}''.\n",
        "(The name comes  from the fact\n",
        "that was designed to diagnoise various\n",
        "lung diseases in Western patients returning from a trip to Asia.\n",
        "Note that this example predates \n",
        "the \\COVID pandemic by many years, and is a purely fictitious model.)\n",
        "\n",
        "\\cref{fig:pgmAsia1} shows the model, as well as the prior\n",
        "marginal distributions over each node (assumed to be binary).\n",
        "Now suppose the patient reports that they have \\keywordDef{Dyspnea},\n",
        "aka shortness of breath.\n",
        "We can represent this fact\n",
        "``clamping'' the distribution to be 100\\% probability\n",
        "that Dyspnea=Present, and 0\\% probability that Dyspnea=Absent.\n",
        "We then propagate this new  information  through the network\n",
        "to get the updated marginal distributions shown in\n",
        "\\cref{fig:pgmAsia2}.\n",
        "We see that the probability\n",
        "of lung cancer has gone up from 5\\% to 10\\%,\n",
        "and probability of bronchitis has gone up  from 45\\% to 83\\%.\n",
        "\n",
        "However, it could also be a an undiagnosed case of TB (tuberculosis),\n",
        "which may have been caused by exposure to an infectious lung disease\n",
        "that was prevalent in Asia at the time.\n",
        "So he doctor asks the patient if they have recently been to Asia,\n",
        "and they say yes.  \\cref{fig:pgmAsia3} shows the new belief state of each node.\n",
        "We see that the probability of TB has increased from 2\\% to 9\\%.\n",
        "However, Bronchitis remains the most likely explanation of the symptoms.\n",
        "\n",
        "To gain more information the doctor asks\n",
        "if the patient smokes, and they say yes.\n",
        "\\cref{fig:pgmAsia3} shows the new belief state of each node.\n",
        "Now the probability of cancer and bronchitis have both gone up.\n",
        "In addition, the posterior predicted probability that an X-ray\n",
        "will show an abnormal result has gone up to 24\\%, so the doctor may decide\n",
        "it is now worth ordering a test to verify this hypothesis.\n",
        "\n",
        "This example illustrates the nature of recursive Bayesian updating,\n",
        "and how it can be useful for active learning and sequential decision making,\n",
        "We will see more examples later in the book."
      ]
    }
  ]
}