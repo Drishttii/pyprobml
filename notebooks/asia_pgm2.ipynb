{
  "nbformat": 4,
  "nbformat_minor": 0,
  "metadata": {
    "colab": {
      "name": "Copy of asia_pgm.ipynb",
      "provenance": [],
      "toc_visible": true
    },
    "kernelspec": {
      "name": "python3",
      "display_name": "Python 3"
    },
    "language_info": {
      "name": "python"
    }
  },
  "cells": [
    {
      "cell_type": "markdown",
      "metadata": {
        "id": "caeOoFYBb5p2"
      },
      "source": [
        "# The \"Asia\"  graphical model\n",
        "\n",
        "We illustrate inference in the \"Asia\" medical diagnosis network.\n",
        "Network is from http://www.bnlearn.com/bnrepository/#asia.\n"
      ]
    },
    {
      "cell_type": "code",
      "metadata": {
        "id": "G1TmpsRLINLR"
      },
      "source": [
        "!git clone https://github.com/probml/pyprobml /pyprobml &> /dev/null\n",
        "%cd -q /pyprobml/scripts\n",
        "import pyprobml_utils as pml\n",
        "import numpy as np\n",
        "import matplotlib.pyplot as plt"
      ],
      "execution_count": null,
      "outputs": []
    },
    {
      "cell_type": "code",
      "metadata": {
        "id": "p4SVMjkpbcJ7"
      },
      "source": [
        "!pip install  causalgraphicalmodels\n",
        "!pip install pgmpy\n",
        "#!ls /usr/local/lib/python3.7/dist-packages/pgmpy/utils"
      ],
      "execution_count": null,
      "outputs": []
    },
    {
      "cell_type": "code",
      "metadata": {
        "id": "Go1UPp8eMIyC"
      },
      "source": [
        "from causalgraphicalmodels import CausalGraphicalModel\n",
        "import pgmpy\n",
        "import numpy as np\n",
        "import pandas as pd\n",
        "from graphviz import Digraph\n",
        "\n",
        "import pgmpy_utils as pgm # from pyprobml\n"
      ],
      "execution_count": null,
      "outputs": []
    },
    {
      "cell_type": "markdown",
      "metadata": {
        "id": "u_-A-Hai4LbM"
      },
      "source": [
        "# Model"
      ]
    },
    {
      "cell_type": "code",
      "metadata": {
        "id": "Il1OHrxj3e8Y"
      },
      "source": [
        "#from pgmpy.utils import get_example_model\n",
        "#asia = get_example_model('asia')\n",
        "# No such file or directory: 'pgmpy/utils/example_models/asia.bif.gz'"
      ],
      "execution_count": null,
      "outputs": []
    },
    {
      "cell_type": "code",
      "metadata": {
        "id": "OGsv1dt81oyI"
      },
      "source": [
        "#!wget https://raw.githubusercontent.com/d2l-ai/d2l-en/master/d2l/torch.py -q -O d2l.py\n",
        "\n",
        "!wget https://www.bnlearn.com/bnrepository/asia/asia.bif.gz -q -O asia.bif.gz\n",
        "!gunzip asia.bif.gz"
      ],
      "execution_count": null,
      "outputs": []
    },
    {
      "cell_type": "code",
      "metadata": {
        "id": "l8xzIiLr0En0"
      },
      "source": [
        "\n",
        "from pgmpy.readwrite import BIFReader, BIFWriter\n",
        "reader = BIFReader(\"asia.bif\")\n",
        "model = reader.get_model()\n",
        "\n",
        "print(\"Nodes: \", model.nodes())\n",
        "print(\"Edges: \", model.edges())\n",
        "model.get_cpds()"
      ],
      "execution_count": null,
      "outputs": []
    },
    {
      "cell_type": "code",
      "metadata": {
        "id": "d1GFKz5t5kxA"
      },
      "source": [
        "for c in model.get_cpds():\n",
        "  print(c)"
      ],
      "execution_count": null,
      "outputs": []
    },
    {
      "cell_type": "code",
      "metadata": {
        "id": "8jzeJCpE50kw"
      },
      "source": [
        "asia_cpd = model.get_cpds('asia')\n",
        "print(asia_cpd)\n",
        "print(asia_cpd.values)\n",
        "\n"
      ],
      "execution_count": null,
      "outputs": []
    },
    {
      "cell_type": "code",
      "metadata": {
        "id": "VDNdkr0_6TsN"
      },
      "source": [
        "smoking_cpd = model.get_cpds()[5]\n",
        "print(smoking_cpd)\n",
        "print(smoking_cpd.values)\n",
        "smoking_prior_true = smoking_cpd.values[1]"
      ],
      "execution_count": null,
      "outputs": []
    },
    {
      "cell_type": "code",
      "metadata": {
        "id": "YzCS6iizCkIA"
      },
      "source": [
        "print(pgm.get_state_names(model))"
      ],
      "execution_count": null,
      "outputs": []
    },
    {
      "cell_type": "code",
      "metadata": {
        "id": "K8gIy5Bk2XJR"
      },
      "source": [
        "asia = CausalGraphicalModel(nodes = model.nodes(), edges=model.edges())\n",
        "\n",
        "out = asia.draw()\n",
        "display(out)\n",
        "out.render()"
      ],
      "execution_count": null,
      "outputs": []
    },
    {
      "cell_type": "code",
      "metadata": {
        "id": "o99fP3xNoPwI"
      },
      "source": [
        "pgm.visualize_model(model)"
      ],
      "execution_count": null,
      "outputs": []
    },
    {
      "cell_type": "markdown",
      "metadata": {
        "id": "5FyYbZfmD-AV"
      },
      "source": [
        "# Inference"
      ]
    },
    {
      "cell_type": "code",
      "metadata": {
        "id": "dJwoaVgi47Oe"
      },
      "source": [
        "from pgmpy.inference import VariableElimination\n",
        "infer = VariableElimination(model)"
      ],
      "execution_count": null,
      "outputs": []
    },
    {
      "cell_type": "markdown",
      "metadata": {
        "id": "Fo1Z_lqa4fnB"
      },
      "source": [
        "## Prior marginals"
      ]
    },
    {
      "cell_type": "code",
      "metadata": {
        "id": "wIj_U9mC-Q3M"
      },
      "source": [
        "evidence = {}\n",
        "marginals = pgm.get_marginals(model, evidence)\n",
        "print('\\n')\n",
        "for k, v in marginals.items():\n",
        "  print(k, v)\n",
        "\n",
        "asia_prior = model.get_cpds('asia').values\n",
        "assert np.allclose(asia_prior, marginals['asia'])"
      ],
      "execution_count": null,
      "outputs": []
    },
    {
      "cell_type": "code",
      "metadata": {
        "id": "oC0BWo-PDQU8"
      },
      "source": [
        "pgm.visualize_marginals(marginals, model)"
      ],
      "execution_count": null,
      "outputs": []
    },
    {
      "cell_type": "markdown",
      "metadata": {
        "id": "StB-XG1z7FEP"
      },
      "source": [
        "## Posterior marginals given dsypnea=yes"
      ]
    },
    {
      "cell_type": "code",
      "metadata": {
        "id": "ZMcpy_pA67bi"
      },
      "source": [
        "evidence  = {'dysp': 0}\n",
        "marginals = pgm.get_marginals(model, evidence, infer)\n",
        "print('\\n')\n",
        "for k, v in marginals.items():\n",
        "  print(k, v)"
      ],
      "execution_count": null,
      "outputs": []
    },
    {
      "cell_type": "code",
      "metadata": {
        "id": "qPsydoXan78S"
      },
      "source": [
        "pgm.visualize_marginals(marginals, model)"
      ],
      "execution_count": null,
      "outputs": []
    },
    {
      "cell_type": "markdown",
      "metadata": {
        "id": "4xM1w8qR8wgG"
      },
      "source": [
        "## Posterior marginals given dsypnea=yes, asia=yes"
      ]
    },
    {
      "cell_type": "code",
      "metadata": {
        "id": "eJJhZFWf70pl"
      },
      "source": [
        "evidence  = {'dysp': 'yes', 'asia': 'yes'}\n",
        "marginals = pgm.get_marginals(model,  evidence, infer)\n",
        "print('\\n')\n",
        "for k, v in marginals.items():\n",
        "  print(k, v)"
      ],
      "execution_count": null,
      "outputs": []
    },
    {
      "cell_type": "code",
      "metadata": {
        "id": "8Bn8z4qAn_tw"
      },
      "source": [
        "pgm.visualize_marginals(marginals, model)"
      ],
      "execution_count": null,
      "outputs": []
    },
    {
      "cell_type": "markdown",
      "metadata": {
        "id": "hyALNuUaCNza"
      },
      "source": [
        "## Posterior marginals given dsypnea=yes, asia=yes, smoking=yes"
      ]
    },
    {
      "cell_type": "code",
      "metadata": {
        "id": "gDydpbab9Svz"
      },
      "source": [
        "evidence  = {'dysp': 'yes', 'asia': 'yes', 'smoke': 'yes'}\n",
        "marginals = pgm.get_marginals(model, evidence, infer)\n",
        "print('\\n')\n",
        "for k, v in marginals.items():\n",
        "  print(k, v)"
      ],
      "execution_count": null,
      "outputs": []
    },
    {
      "cell_type": "code",
      "metadata": {
        "id": "TThGsdvgoC8b"
      },
      "source": [
        "pgm.visualize_marginals(marginals, model)"
      ],
      "execution_count": null,
      "outputs": []
    }
  ]
}