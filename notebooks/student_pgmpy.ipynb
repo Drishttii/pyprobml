{
  "nbformat": 4,
  "nbformat_minor": 0,
  "metadata": {
    "colab": {
      "name": "Copy of Copy of student_pgmpy.ipynb",
      "provenance": [],
      "toc_visible": true
    },
    "kernelspec": {
      "name": "python3",
      "display_name": "Python 3"
    },
    "language_info": {
      "name": "python"
    }
  },
  "cells": [
    {
      "cell_type": "markdown",
      "metadata": {
        "id": "FtkM9t9gXaVB"
      },
      "source": [
        "# The (simplified) student Bayes net\n",
        "\n",
        "This model is from https://github.com/pgmpy/pgmpy_notebook/blob/master/notebooks/2.%20Bayesian%20Networks.ipynb"
      ]
    },
    {
      "cell_type": "code",
      "metadata": {
        "id": "RjuJJ8fLuAoz"
      },
      "source": [
        "!git clone https://github.com/probml/pyprobml /pyprobml &> /dev/null\n",
        "%cd -q /pyprobml/scripts\n",
        "import pyprobml_utils as pml"
      ],
      "execution_count": null,
      "outputs": []
    },
    {
      "cell_type": "code",
      "metadata": {
        "id": "8FEYdsYCXYj5"
      },
      "source": [
        "!pip install causalgraphicalmodels\n",
        "!pip install pgmpy"
      ],
      "execution_count": null,
      "outputs": []
    },
    {
      "cell_type": "code",
      "metadata": {
        "id": "piOvstm5YQWx"
      },
      "source": [
        "from causalgraphicalmodels import CausalGraphicalModel\n",
        "import pgmpy\n",
        "import numpy as np\n",
        "import pandas as pd\n",
        "from graphviz import Digraph\n",
        "import itertools\n",
        "import pgmpy_utils as pgm # from pyprobml\n"
      ],
      "execution_count": null,
      "outputs": []
    },
    {
      "cell_type": "markdown",
      "metadata": {
        "id": "uF_UjCP-Xi9-"
      },
      "source": [
        "# Model"
      ]
    },
    {
      "cell_type": "markdown",
      "metadata": {
        "id": "7A8L5MSGcuPC"
      },
      "source": [
        "\n",
        "\n",
        "<img src=\"https://user-images.githubusercontent.com/4632336/118884310-21bec180-b8ab-11eb-81cf-481553c21d8a.png?raw=true\">\n"
      ]
    },
    {
      "cell_type": "code",
      "metadata": {
        "id": "Yt2Dql3yXcgC"
      },
      "source": [
        "from pgmpy.models import BayesianModel\n",
        "from pgmpy.factors.discrete import TabularCPD\n",
        "\n",
        "# Defining the model structure. We can define the network by just passing a list of edges.\n",
        "model = BayesianModel([('D', 'G'), ('I', 'G'), ('G', 'L'), ('I', 'S')])\n",
        "\n",
        "# Defining individual CPDs.\n",
        "cpd_d = TabularCPD(variable='D', variable_card=2, values=[[0.6], [0.4]])\n",
        "cpd_i = TabularCPD(variable='I', variable_card=2, values=[[0.7], [0.3]])\n",
        "\n",
        "# The representation of CPD in pgmpy is a bit different than the CPD shown in the above picture. In pgmpy the colums\n",
        "# are the evidences and rows are the states of the variable. So the grade CPD is represented like this:\n",
        "#\n",
        "#    +---------+---------+---------+---------+---------+\n",
        "#    | diff    | intel_0 | intel_0 | intel_1 | intel_1 |\n",
        "#    +---------+---------+---------+---------+---------+\n",
        "#    | intel   | diff_0  | diff_1  | diff_0  | diff_1  |\n",
        "#    +---------+---------+---------+---------+---------+\n",
        "#    | grade_0 | 0.3     | 0.05    | 0.9     | 0.5     |\n",
        "#    +---------+---------+---------+---------+---------+\n",
        "#    | grade_1 | 0.4     | 0.25    | 0.08    | 0.3     |\n",
        "#    +---------+---------+---------+---------+---------+\n",
        "#    | grade_2 | 0.3     | 0.7     | 0.02    | 0.2     |\n",
        "#    +---------+---------+---------+---------+---------+\n",
        "\n",
        "cpd_g = TabularCPD(variable='G', variable_card=3, \n",
        "                   values=[[0.3, 0.05, 0.9,  0.5],\n",
        "                           [0.4, 0.25, 0.08, 0.3],\n",
        "                           [0.3, 0.7,  0.02, 0.2]],\n",
        "                  evidence=['I', 'D'],\n",
        "                  evidence_card=[2, 2])\n",
        "\n",
        "cpd_l = TabularCPD(variable='L', variable_card=2, \n",
        "                   values=[[0.1, 0.4, 0.99],\n",
        "                           [0.9, 0.6, 0.01]],\n",
        "                   evidence=['G'],\n",
        "                   evidence_card=[3])\n",
        "\n",
        "cpd_s = TabularCPD(variable='S', variable_card=2,\n",
        "                   values=[[0.95, 0.2],\n",
        "                           [0.05, 0.8]],\n",
        "                   evidence=['I'],\n",
        "                   evidence_card=[2])\n",
        "\n",
        "# Associating the CPDs with the network\n",
        "model.add_cpds(cpd_d, cpd_i, cpd_g, cpd_l, cpd_s)\n",
        "\n",
        "# check_model checks for the network structure and CPDs and verifies that the CPDs are correctly \n",
        "# defined and sum to 1.\n",
        "model.check_model()"
      ],
      "execution_count": null,
      "outputs": []
    },
    {
      "cell_type": "code",
      "metadata": {
        "id": "bvMt9CsxNxwF"
      },
      "source": [
        "print(model.get_cpds('G'))"
      ],
      "execution_count": null,
      "outputs": []
    },
    {
      "cell_type": "code",
      "metadata": {
        "id": "8c14_W6CX883"
      },
      "source": [
        "# CPDs can also be defined using the state names of the variables. If the state names are not provided\n",
        "# like in the previous example, pgmpy will automatically assign names as: 0, 1, 2, ....\n",
        "\n",
        "cpd_d_sn = TabularCPD(variable='D', variable_card=2, values=[[0.6], [0.4]], state_names={'D': ['Easy', 'Hard']})\n",
        "cpd_i_sn = TabularCPD(variable='I', variable_card=2, values=[[0.7], [0.3]], state_names={'I': ['Dumb', 'Intelligent']})\n",
        "cpd_g_sn = TabularCPD(variable='G', variable_card=3, \n",
        "                      values=[[0.3, 0.05, 0.9,  0.5],\n",
        "                              [0.4, 0.25, 0.08, 0.3],\n",
        "                              [0.3, 0.7,  0.02, 0.2]],\n",
        "                      evidence=['I', 'D'],\n",
        "                      evidence_card=[2, 2],\n",
        "                      state_names={'G': ['A', 'B', 'C'],\n",
        "                                   'I': ['Dumb', 'Intelligent'],\n",
        "                                   'D': ['Easy', 'Hard']})\n",
        "\n",
        "cpd_l_sn = TabularCPD(variable='L', variable_card=2, \n",
        "                      values=[[0.1, 0.4, 0.99],\n",
        "                              [0.9, 0.6, 0.01]],\n",
        "                      evidence=['G'],\n",
        "                      evidence_card=[3],\n",
        "                      state_names={'L': ['Bad', 'Good'],\n",
        "                                   'G': ['A', 'B', 'C']})\n",
        "\n",
        "cpd_s_sn = TabularCPD(variable='S', variable_card=2,\n",
        "                      values=[[0.95, 0.2],\n",
        "                              [0.05, 0.8]],\n",
        "                      evidence=['I'],\n",
        "                      evidence_card=[2],\n",
        "                      state_names={'S': ['Bad', 'Good'],\n",
        "                                   'I': ['Dumb', 'Intelligent']})\n",
        "\n",
        "# These defined CPDs can be added to the model. Since, the model already has CPDs associated to variables, it will\n",
        "# show warning that pmgpy is now replacing those CPDs with the new ones.\n",
        "model.add_cpds(cpd_d_sn, cpd_i_sn, cpd_g_sn, cpd_l_sn, cpd_s_sn)\n",
        "model.check_model()"
      ],
      "execution_count": null,
      "outputs": []
    },
    {
      "cell_type": "code",
      "metadata": {
        "id": "G0WN2iUvWu3X"
      },
      "source": [
        "print(model.get_cpds('G'))"
      ],
      "execution_count": null,
      "outputs": []
    },
    {
      "cell_type": "code",
      "metadata": {
        "id": "PzkidOsEX9H6"
      },
      "source": [
        " #Printing a CPD with it's state names defined.\n",
        "print(model.get_cpds('G'))"
      ],
      "execution_count": null,
      "outputs": []
    },
    {
      "cell_type": "code",
      "metadata": {
        "id": "6S3T_rFxYCfR"
      },
      "source": [
        "for c in model.get_cpds():\n",
        "  print(c)"
      ],
      "execution_count": null,
      "outputs": []
    },
    {
      "cell_type": "markdown",
      "metadata": {
        "id": "E5LUO3VSYE5_"
      },
      "source": [
        "# Visualization"
      ]
    },
    {
      "cell_type": "code",
      "metadata": {
        "id": "C-Vs6FWktc4z"
      },
      "source": [
        "pgm.visualize_model(model)"
      ],
      "execution_count": null,
      "outputs": []
    },
    {
      "cell_type": "code",
      "metadata": {
        "id": "MDFzI490YFq9"
      },
      "source": [
        "model2 = CausalGraphicalModel(nodes = model.nodes(), edges=model.edges())\n",
        "out = model2.draw()\n",
        "display(out)\n",
        "out.render()"
      ],
      "execution_count": null,
      "outputs": []
    },
    {
      "cell_type": "markdown",
      "metadata": {
        "id": "mmIYMZVzYuxu"
      },
      "source": [
        "# Inference"
      ]
    },
    {
      "cell_type": "code",
      "metadata": {
        "id": "PrFI130fYMQ0"
      },
      "source": [
        "from pgmpy.inference import VariableElimination\n",
        "infer = VariableElimination(model)"
      ],
      "execution_count": null,
      "outputs": []
    },
    {
      "cell_type": "markdown",
      "metadata": {
        "id": "zxIyjd9eYx2S"
      },
      "source": [
        "## Posterior given Grade=C"
      ]
    },
    {
      "cell_type": "code",
      "metadata": {
        "id": "oEEU40_pY4C7"
      },
      "source": [
        "evidence = {'G': 'C'}\n",
        "postD = infer.query(['D'],  evidence=evidence).values\n",
        "postI = infer.query(['I'],  evidence=evidence).values\n",
        "\n",
        "print('\\n')\n",
        "print('Pr(Difficulty=Hard|Grade=C) = {:0.2f}'.format(postD[1]))\n",
        "print('Pr(Intelligent=High|Grade=C) = {:0.2f}'.format(postI[1]))"
      ],
      "execution_count": null,
      "outputs": []
    },
    {
      "cell_type": "markdown",
      "metadata": {
        "id": "Z2nLT8lYZ2QC"
      },
      "source": [
        "## Posterior given Grade=C, SAT=Good"
      ]
    },
    {
      "cell_type": "code",
      "metadata": {
        "id": "NfKdVsChZwrR"
      },
      "source": [
        "evidence = {'G': 'C', 'S': 'Good'}\n",
        "postD = infer.query(['D'],  evidence=evidence).values\n",
        "postI = infer.query(['I'],  evidence=evidence).values\n",
        "\n",
        "print('\\n')\n",
        "print('Pr(Difficulty=Hard|Grade=C,SAT=Good) = {:0.2f}'.format(postD[1]))\n",
        "print('Pr(Intelligent=High|Grade=C,SAT=Good) = {:0.2f}'.format(postI[1]))"
      ],
      "execution_count": null,
      "outputs": []
    },
    {
      "cell_type": "code",
      "metadata": {
        "id": "itfGDPm8aDH3"
      },
      "source": [
        ""
      ],
      "execution_count": null,
      "outputs": []
    }
  ]
}